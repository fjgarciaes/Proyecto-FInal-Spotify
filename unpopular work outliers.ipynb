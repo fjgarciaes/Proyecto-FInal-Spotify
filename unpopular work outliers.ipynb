{
 "cells": [
  {
   "cell_type": "code",
   "execution_count": 1,
   "id": "adb07a62",
   "metadata": {},
   "outputs": [],
   "source": [
    "import pandas as pd\n",
    "import numpy as np\n",
    "pd.set_option('display.max_columns', None)\n",
    "import pylab as plt\n",
    "import seaborn as sns\n",
    "import re\n",
    "import warnings\n",
    "warnings.filterwarnings('ignore') \n",
    "#para que salga el grafico\n",
    "#pd.set_option('display.max_rows', None)\n",
    "%matplotlib inline\n",
    "from statistics import mean\n",
    "import pylab as plt\n",
    "from sklearn.preprocessing import StandardScaler\n",
    "from sklearn.svm import SVR\n",
    "from sklearn.ensemble import RandomForestRegressor as RFR  \n",
    "from sklearn.tree import ExtraTreeRegressor as ETR\n",
    "from sklearn.ensemble import GradientBoostingRegressor as GBR\n",
    "from xgboost import XGBRegressor as XGBR\n",
    "from catboost import CatBoostRegressor as CTR\n",
    "from sklearn.linear_model import LinearRegression as LinReg\n",
    "from sklearn.linear_model import Lasso    \n",
    "from sklearn.linear_model import Ridge\n",
    "from sklearn.linear_model import ElasticNet \n",
    "from sklearn.model_selection import train_test_split as tts   \n",
    "from sklearn.metrics import mean_squared_error as mse  "
   ]
  },
  {
   "cell_type": "code",
   "execution_count": 2,
   "id": "54391016",
   "metadata": {},
   "outputs": [
    {
     "data": {
      "text/html": [
       "<div>\n",
       "<style scoped>\n",
       "    .dataframe tbody tr th:only-of-type {\n",
       "        vertical-align: middle;\n",
       "    }\n",
       "\n",
       "    .dataframe tbody tr th {\n",
       "        vertical-align: top;\n",
       "    }\n",
       "\n",
       "    .dataframe thead th {\n",
       "        text-align: right;\n",
       "    }\n",
       "</style>\n",
       "<table border=\"1\" class=\"dataframe\">\n",
       "  <thead>\n",
       "    <tr style=\"text-align: right;\">\n",
       "      <th></th>\n",
       "      <th>danceability</th>\n",
       "      <th>energy</th>\n",
       "      <th>key</th>\n",
       "      <th>loudness</th>\n",
       "      <th>mode</th>\n",
       "      <th>speechiness</th>\n",
       "      <th>acousticness</th>\n",
       "      <th>instrumentalness</th>\n",
       "      <th>liveness</th>\n",
       "      <th>valence</th>\n",
       "      <th>tempo</th>\n",
       "      <th>duration_ms</th>\n",
       "      <th>explicit</th>\n",
       "      <th>popularity</th>\n",
       "      <th>track_name</th>\n",
       "      <th>track_artist</th>\n",
       "      <th>track_id</th>\n",
       "    </tr>\n",
       "  </thead>\n",
       "  <tbody>\n",
       "    <tr>\n",
       "      <th>0</th>\n",
       "      <td>0.530</td>\n",
       "      <td>0.770</td>\n",
       "      <td>4</td>\n",
       "      <td>-6.633</td>\n",
       "      <td>0</td>\n",
       "      <td>0.0389</td>\n",
       "      <td>0.284</td>\n",
       "      <td>0.501000</td>\n",
       "      <td>0.744</td>\n",
       "      <td>0.623</td>\n",
       "      <td>120.144</td>\n",
       "      <td>225696</td>\n",
       "      <td>False</td>\n",
       "      <td>2</td>\n",
       "      <td>No Regrets</td>\n",
       "      <td>James Reeder</td>\n",
       "      <td>6f2c4a9lNx8aowZJngv7cJ</td>\n",
       "    </tr>\n",
       "    <tr>\n",
       "      <th>1</th>\n",
       "      <td>0.565</td>\n",
       "      <td>0.730</td>\n",
       "      <td>1</td>\n",
       "      <td>-6.063</td>\n",
       "      <td>1</td>\n",
       "      <td>0.0730</td>\n",
       "      <td>0.365</td>\n",
       "      <td>0.000000</td>\n",
       "      <td>0.237</td>\n",
       "      <td>0.511</td>\n",
       "      <td>130.026</td>\n",
       "      <td>158093</td>\n",
       "      <td>False</td>\n",
       "      <td>2</td>\n",
       "      <td>Wild Life</td>\n",
       "      <td>James Reeder</td>\n",
       "      <td>3fTs52jsDzSuVLsifxNKO8</td>\n",
       "    </tr>\n",
       "    <tr>\n",
       "      <th>2</th>\n",
       "      <td>0.427</td>\n",
       "      <td>0.546</td>\n",
       "      <td>4</td>\n",
       "      <td>-8.727</td>\n",
       "      <td>1</td>\n",
       "      <td>0.0849</td>\n",
       "      <td>0.539</td>\n",
       "      <td>0.015200</td>\n",
       "      <td>0.368</td>\n",
       "      <td>0.435</td>\n",
       "      <td>78.345</td>\n",
       "      <td>167262</td>\n",
       "      <td>False</td>\n",
       "      <td>2</td>\n",
       "      <td>Fangs</td>\n",
       "      <td>James Reeder</td>\n",
       "      <td>6NPafqavrv0icaIHMQnXDy</td>\n",
       "    </tr>\n",
       "    <tr>\n",
       "      <th>3</th>\n",
       "      <td>0.421</td>\n",
       "      <td>0.531</td>\n",
       "      <td>7</td>\n",
       "      <td>-5.516</td>\n",
       "      <td>1</td>\n",
       "      <td>0.0262</td>\n",
       "      <td>0.706</td>\n",
       "      <td>0.000208</td>\n",
       "      <td>0.110</td>\n",
       "      <td>0.383</td>\n",
       "      <td>85.080</td>\n",
       "      <td>236832</td>\n",
       "      <td>False</td>\n",
       "      <td>2</td>\n",
       "      <td>Afterburner</td>\n",
       "      <td>James Reeder</td>\n",
       "      <td>3vGmhxveURgmlZStvo0uc1</td>\n",
       "    </tr>\n",
       "    <tr>\n",
       "      <th>4</th>\n",
       "      <td>0.537</td>\n",
       "      <td>0.804</td>\n",
       "      <td>8</td>\n",
       "      <td>-7.378</td>\n",
       "      <td>0</td>\n",
       "      <td>0.1570</td>\n",
       "      <td>0.379</td>\n",
       "      <td>0.000489</td>\n",
       "      <td>0.323</td>\n",
       "      <td>0.543</td>\n",
       "      <td>139.950</td>\n",
       "      <td>239400</td>\n",
       "      <td>False</td>\n",
       "      <td>2</td>\n",
       "      <td>Hellfire Rising</td>\n",
       "      <td>James Reeder</td>\n",
       "      <td>4O2qRbfCHzMMgfbw9DBdGf</td>\n",
       "    </tr>\n",
       "  </tbody>\n",
       "</table>\n",
       "</div>"
      ],
      "text/plain": [
       "   danceability  energy  key  loudness  mode  speechiness  acousticness  \\\n",
       "0         0.530   0.770    4    -6.633     0       0.0389         0.284   \n",
       "1         0.565   0.730    1    -6.063     1       0.0730         0.365   \n",
       "2         0.427   0.546    4    -8.727     1       0.0849         0.539   \n",
       "3         0.421   0.531    7    -5.516     1       0.0262         0.706   \n",
       "4         0.537   0.804    8    -7.378     0       0.1570         0.379   \n",
       "\n",
       "   instrumentalness  liveness  valence    tempo  duration_ms  explicit  \\\n",
       "0          0.501000     0.744    0.623  120.144       225696     False   \n",
       "1          0.000000     0.237    0.511  130.026       158093     False   \n",
       "2          0.015200     0.368    0.435   78.345       167262     False   \n",
       "3          0.000208     0.110    0.383   85.080       236832     False   \n",
       "4          0.000489     0.323    0.543  139.950       239400     False   \n",
       "\n",
       "   popularity       track_name  track_artist                track_id  \n",
       "0           2       No Regrets  James Reeder  6f2c4a9lNx8aowZJngv7cJ  \n",
       "1           2        Wild Life  James Reeder  3fTs52jsDzSuVLsifxNKO8  \n",
       "2           2            Fangs  James Reeder  6NPafqavrv0icaIHMQnXDy  \n",
       "3           2      Afterburner  James Reeder  3vGmhxveURgmlZStvo0uc1  \n",
       "4           2  Hellfire Rising  James Reeder  4O2qRbfCHzMMgfbw9DBdGf  "
      ]
     },
     "execution_count": 2,
     "metadata": {},
     "output_type": "execute_result"
    }
   ],
   "source": [
    "unpopular = pd.read_csv('../Spoti/unpopular_songs.csv')\n",
    "\n",
    "unpopular.head(5)"
   ]
  },
  {
   "cell_type": "code",
   "execution_count": null,
   "id": "249578ca",
   "metadata": {},
   "outputs": [],
   "source": []
  },
  {
   "cell_type": "code",
   "execution_count": 3,
   "id": "56cb139c",
   "metadata": {},
   "outputs": [],
   "source": [
    "unpopular.drop(['explicit','mode','popularity','key','track_id','instrumentalness'],axis=1,inplace=True)"
   ]
  },
  {
   "cell_type": "code",
   "execution_count": 4,
   "id": "b7ec7e1c",
   "metadata": {},
   "outputs": [],
   "source": [
    "unpopular=unpopular.iloc[:, [10,9,1,0,2,4,3,5,6,7,8]]\n"
   ]
  },
  {
   "cell_type": "code",
   "execution_count": 5,
   "id": "399cf1cd",
   "metadata": {},
   "outputs": [],
   "source": [
    "unpopular.rename(columns = {'track_artist':'artist_name', 'track_name':'track_name','duration_ms':'duration'}, inplace = True)"
   ]
  },
  {
   "cell_type": "code",
   "execution_count": 6,
   "id": "4965902a",
   "metadata": {},
   "outputs": [
    {
     "data": {
      "text/html": [
       "<div>\n",
       "<style scoped>\n",
       "    .dataframe tbody tr th:only-of-type {\n",
       "        vertical-align: middle;\n",
       "    }\n",
       "\n",
       "    .dataframe tbody tr th {\n",
       "        vertical-align: top;\n",
       "    }\n",
       "\n",
       "    .dataframe thead th {\n",
       "        text-align: right;\n",
       "    }\n",
       "</style>\n",
       "<table border=\"1\" class=\"dataframe\">\n",
       "  <thead>\n",
       "    <tr style=\"text-align: right;\">\n",
       "      <th></th>\n",
       "      <th>artist_name</th>\n",
       "      <th>track_name</th>\n",
       "      <th>energy</th>\n",
       "      <th>danceability</th>\n",
       "      <th>loudness</th>\n",
       "      <th>acousticness</th>\n",
       "      <th>speechiness</th>\n",
       "      <th>liveness</th>\n",
       "      <th>valence</th>\n",
       "      <th>tempo</th>\n",
       "      <th>duration</th>\n",
       "    </tr>\n",
       "  </thead>\n",
       "  <tbody>\n",
       "    <tr>\n",
       "      <th>0</th>\n",
       "      <td>James Reeder</td>\n",
       "      <td>No Regrets</td>\n",
       "      <td>0.770</td>\n",
       "      <td>0.530</td>\n",
       "      <td>-6.633</td>\n",
       "      <td>0.284</td>\n",
       "      <td>0.0389</td>\n",
       "      <td>0.744</td>\n",
       "      <td>0.623</td>\n",
       "      <td>120.144</td>\n",
       "      <td>225.70</td>\n",
       "    </tr>\n",
       "    <tr>\n",
       "      <th>1</th>\n",
       "      <td>James Reeder</td>\n",
       "      <td>Wild Life</td>\n",
       "      <td>0.730</td>\n",
       "      <td>0.565</td>\n",
       "      <td>-6.063</td>\n",
       "      <td>0.365</td>\n",
       "      <td>0.0730</td>\n",
       "      <td>0.237</td>\n",
       "      <td>0.511</td>\n",
       "      <td>130.026</td>\n",
       "      <td>158.09</td>\n",
       "    </tr>\n",
       "    <tr>\n",
       "      <th>2</th>\n",
       "      <td>James Reeder</td>\n",
       "      <td>Fangs</td>\n",
       "      <td>0.546</td>\n",
       "      <td>0.427</td>\n",
       "      <td>-8.727</td>\n",
       "      <td>0.539</td>\n",
       "      <td>0.0849</td>\n",
       "      <td>0.368</td>\n",
       "      <td>0.435</td>\n",
       "      <td>78.345</td>\n",
       "      <td>167.26</td>\n",
       "    </tr>\n",
       "    <tr>\n",
       "      <th>3</th>\n",
       "      <td>James Reeder</td>\n",
       "      <td>Afterburner</td>\n",
       "      <td>0.531</td>\n",
       "      <td>0.421</td>\n",
       "      <td>-5.516</td>\n",
       "      <td>0.706</td>\n",
       "      <td>0.0262</td>\n",
       "      <td>0.110</td>\n",
       "      <td>0.383</td>\n",
       "      <td>85.080</td>\n",
       "      <td>236.83</td>\n",
       "    </tr>\n",
       "    <tr>\n",
       "      <th>4</th>\n",
       "      <td>James Reeder</td>\n",
       "      <td>Hellfire Rising</td>\n",
       "      <td>0.804</td>\n",
       "      <td>0.537</td>\n",
       "      <td>-7.378</td>\n",
       "      <td>0.379</td>\n",
       "      <td>0.1570</td>\n",
       "      <td>0.323</td>\n",
       "      <td>0.543</td>\n",
       "      <td>139.950</td>\n",
       "      <td>239.40</td>\n",
       "    </tr>\n",
       "  </tbody>\n",
       "</table>\n",
       "</div>"
      ],
      "text/plain": [
       "    artist_name       track_name  energy  danceability  loudness  \\\n",
       "0  James Reeder       No Regrets   0.770         0.530    -6.633   \n",
       "1  James Reeder        Wild Life   0.730         0.565    -6.063   \n",
       "2  James Reeder            Fangs   0.546         0.427    -8.727   \n",
       "3  James Reeder      Afterburner   0.531         0.421    -5.516   \n",
       "4  James Reeder  Hellfire Rising   0.804         0.537    -7.378   \n",
       "\n",
       "   acousticness  speechiness  liveness  valence    tempo  duration  \n",
       "0         0.284       0.0389     0.744    0.623  120.144    225.70  \n",
       "1         0.365       0.0730     0.237    0.511  130.026    158.09  \n",
       "2         0.539       0.0849     0.368    0.435   78.345    167.26  \n",
       "3         0.706       0.0262     0.110    0.383   85.080    236.83  \n",
       "4         0.379       0.1570     0.323    0.543  139.950    239.40  "
      ]
     },
     "execution_count": 6,
     "metadata": {},
     "output_type": "execute_result"
    }
   ],
   "source": [
    "unpopular['duration'] = (unpopular['duration']/1000).round(2)\n",
    "\n",
    "unpopular.head()"
   ]
  },
  {
   "cell_type": "code",
   "execution_count": 7,
   "id": "a7c25e61",
   "metadata": {},
   "outputs": [
    {
     "data": {
      "text/plain": [
       "False"
      ]
     },
     "execution_count": 7,
     "metadata": {},
     "output_type": "execute_result"
    }
   ],
   "source": [
    "unpopular.drop_duplicates().shape==unpopular.shape    "
   ]
  },
  {
   "cell_type": "code",
   "execution_count": 8,
   "id": "4d14f996",
   "metadata": {},
   "outputs": [
    {
     "data": {
      "text/plain": [
       "(10877, 11)"
      ]
     },
     "execution_count": 8,
     "metadata": {},
     "output_type": "execute_result"
    }
   ],
   "source": [
    "unpopular.shape"
   ]
  },
  {
   "cell_type": "code",
   "execution_count": 9,
   "id": "812c73fd",
   "metadata": {},
   "outputs": [],
   "source": [
    "unpopular=unpopular.drop_duplicates()"
   ]
  },
  {
   "cell_type": "code",
   "execution_count": 10,
   "id": "8f14089d",
   "metadata": {},
   "outputs": [
    {
     "data": {
      "text/plain": [
       "(10859, 11)"
      ]
     },
     "execution_count": 10,
     "metadata": {},
     "output_type": "execute_result"
    }
   ],
   "source": [
    "unpopular.shape"
   ]
  },
  {
   "cell_type": "markdown",
   "id": "41c675ff",
   "metadata": {},
   "source": [
    "# Encima de esto he quitado duplicados para una cosa que queria comprobar aunque no era el proposito de este jupyter."
   ]
  },
  {
   "cell_type": "code",
   "execution_count": null,
   "id": "378f632d",
   "metadata": {},
   "outputs": [],
   "source": [
    "unpopular.describe().T"
   ]
  },
  {
   "cell_type": "code",
   "execution_count": null,
   "id": "3ca49ffa",
   "metadata": {},
   "outputs": [],
   "source": [
    "stats=unpopular.describe().T\n",
    "stats['IQR']=stats['75%']-stats['25%']\n",
    "outliers=pd.DataFrame(columns=stats.index)\n",
    "for c in stats.index:\n",
    "    iqr=stats.at[c, 'IQR']\n",
    "    cutoff=1.5 * iqr   # test de tukey\n",
    "    lower=stats.at[c, '25%'] - cutoff\n",
    "    upper=stats.at[c, '75%'] + cutoff\n",
    "    res=unpopular[(unpopular[c] < lower) | (unpopular[c] > upper)].copy()\n",
    "    res['outliers']=c\n",
    "    outliers=outliers.append(res, sort=True)\n",
    "outliers['outliers'].value_counts()\n",
    "clean_index=[i for i in unpopular.index if i not in outliers.index]\n",
    "unpopular=unpopular.iloc[clean_index]"
   ]
  },
  {
   "cell_type": "code",
   "execution_count": null,
   "id": "5ebc125e",
   "metadata": {},
   "outputs": [],
   "source": [
    "unpopular.shape"
   ]
  },
  {
   "cell_type": "code",
   "execution_count": null,
   "id": "c182c12b",
   "metadata": {},
   "outputs": [],
   "source": [
    "unpopular.duration.describe().T"
   ]
  },
  {
   "cell_type": "code",
   "execution_count": null,
   "id": "0bb02706",
   "metadata": {},
   "outputs": [],
   "source": [
    "unpopular.to_csv('../Proyecto-FInal-Spotify/CSV_primeros/unpopular_outliers.csv', index=False)"
   ]
  },
  {
   "cell_type": "code",
   "execution_count": null,
   "id": "bf326fcd",
   "metadata": {},
   "outputs": [],
   "source": [
    "unpopular.head()"
   ]
  },
  {
   "cell_type": "code",
   "execution_count": null,
   "id": "64e5e040",
   "metadata": {},
   "outputs": [],
   "source": [
    "unpopular['top_hit']=[0 for i in range(len(unpopular))]\n"
   ]
  },
  {
   "cell_type": "code",
   "execution_count": null,
   "id": "13e8a0da",
   "metadata": {},
   "outputs": [],
   "source": [
    "unpopular.shape"
   ]
  },
  {
   "cell_type": "code",
   "execution_count": null,
   "id": "82465551",
   "metadata": {},
   "outputs": [],
   "source": []
  }
 ],
 "metadata": {
  "kernelspec": {
   "display_name": "Python 3 (ipykernel)",
   "language": "python",
   "name": "python3"
  },
  "language_info": {
   "codemirror_mode": {
    "name": "ipython",
    "version": 3
   },
   "file_extension": ".py",
   "mimetype": "text/x-python",
   "name": "python",
   "nbconvert_exporter": "python",
   "pygments_lexer": "ipython3",
   "version": "3.9.12"
  }
 },
 "nbformat": 4,
 "nbformat_minor": 5
}
