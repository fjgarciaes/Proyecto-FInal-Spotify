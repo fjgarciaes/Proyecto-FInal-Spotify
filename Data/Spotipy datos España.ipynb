{
 "cells": [
  {
   "cell_type": "code",
   "execution_count": 1,
   "id": "9526ce95",
   "metadata": {},
   "outputs": [
    {
     "name": "stderr",
     "output_type": "stream",
     "text": [
      "2022-12-15 18:16:55,104 [10302] WARNING  py.warnings:109: [JupyterRequire] /Users/javi/opt/anaconda3/lib/python3.9/site-packages/scipy/__init__.py:146: UserWarning: A NumPy version >=1.16.5 and <1.23.0 is required for this version of SciPy (detected version 1.23.5\n",
      "  warnings.warn(f\"A NumPy version >={np_minversion} and <{np_maxversion}\"\n",
      "\n"
     ]
    }
   ],
   "source": [
    "import pandas as pd\n",
    "import numpy as np\n",
    "pd.set_option('display.max_columns', None)\n",
    "import pylab as plt\n",
    "import seaborn as sns\n",
    "import re\n",
    "import warnings\n",
    "warnings.filterwarnings('ignore') \n",
    "#para que salga el grafico\n",
    "#pd.set_option('display.max_rows', None)\n",
    "from statistics import mean\n",
    "import pylab as plt\n",
    "from sklearn.preprocessing import StandardScaler\n",
    "\n",
    "from sklearn.svm import LinearSVC\n",
    "from sklearn.linear_model import SGDClassifier\n",
    "from sklearn.neural_network import MLPClassifier\n",
    "from sklearn.linear_model import Perceptron\n",
    "from sklearn.linear_model import LogisticRegression\n",
    "from sklearn.linear_model import LogisticRegressionCV\n",
    "from sklearn.svm import SVC\n",
    "from sklearn.calibration import CalibratedClassifierCV\n",
    "from sklearn.linear_model import PassiveAggressiveClassifier\n",
    "from sklearn.semi_supervised import LabelPropagation\n",
    "from sklearn.semi_supervised import LabelSpreading\n",
    "from sklearn.ensemble import RandomForestClassifier\n",
    "from sklearn.ensemble import GradientBoostingClassifier\n",
    "from sklearn.discriminant_analysis import QuadraticDiscriminantAnalysis\n",
    "from sklearn.ensemble import HistGradientBoostingClassifier\n",
    "from sklearn.linear_model import RidgeClassifierCV\n",
    "from sklearn.linear_model import RidgeClassifier\n",
    "from sklearn.ensemble import AdaBoostClassifier\n",
    "from sklearn.ensemble import ExtraTreesClassifier\n",
    "from sklearn.neighbors import KNeighborsClassifier\n",
    "from sklearn.ensemble import BaggingClassifier\n",
    "from sklearn.naive_bayes import BernoulliNB\n",
    "from sklearn.discriminant_analysis import LinearDiscriminantAnalysis\n",
    "from sklearn.naive_bayes import GaussianNB\n",
    "from sklearn.svm import NuSVC\n",
    "from sklearn.tree import DecisionTreeClassifier\n",
    "from sklearn.neighbors import NearestCentroid\n",
    "from sklearn.ensemble import ExtraTreesClassifier\n",
    "from sklearn.tree import ExtraTreeClassifier \n",
    "from sklearn.model_selection import train_test_split as tts   \n",
    "from sklearn.metrics import accuracy_score as acc\n",
    "from sklearn.metrics import f1_score as f1  \n",
    "\n",
    "import spotipy\n",
    "from spotipy.oauth2 import SpotifyClientCredentials\n",
    "from spotipy.oauth2 import SpotifyOAuth"
   ]
  },
  {
   "cell_type": "code",
   "execution_count": 2,
   "id": "b75faedc",
   "metadata": {},
   "outputs": [],
   "source": [
    "auth_manager = SpotifyClientCredentials('74c040f7ab8049648ec083fdadfc1ddb','a9fa947f1cde460bb37b94060380a6cb')\n",
    "sp = spotipy.Spotify(auth_manager=auth_manager)"
   ]
  },
  {
   "cell_type": "code",
   "execution_count": 5,
   "id": "09ca3580",
   "metadata": {},
   "outputs": [],
   "source": [
    "play_2000 ='https://open.spotify.com/playlist/37i9dQZF1DX4f5T2OF14nZ'\n",
    "play_2001 = 'https://open.spotify.com/playlist/37i9dQZF1DX8ri0Q7eg1qe'\n",
    "play_2002 ='https://open.spotify.com/playlist/37i9dQZF1DXag6GMMWZSZ4'\n",
    "play_2003 ='https://open.spotify.com/playlist/37i9dQZF1DX8EdanpjeYXD'\n",
    "play_2004 = 'https://open.spotify.com/playlist/37i9dQZF1DX25bh4Tsdtts'\n",
    "play_2005 = 'https://open.spotify.com/playlist/37i9dQZF1DXax0Fz6Uds7a'\n",
    "play_2006 = 'https://open.spotify.com/playlist/37i9dQZF1DX0ywbtKZmG0E'\n",
    "play_2007 = 'https://open.spotify.com/playlist/37i9dQZF1DXdHJoK6pY7Oh'\n",
    "play_2008 = 'https://open.spotify.com/playlist/37i9dQZF1DWVBAKsA3f6Ck'\n",
    "play_2009 = 'https://open.spotify.com/playlist/37i9dQZF1DX1bd6S1wAnbF'\n",
    "play_2010='https://open.spotify.com/playlist/37i9dQZF1DX9zzf8V7JAQ5'\n",
    "play_2011='https://open.spotify.com/playlist/37i9dQZF1DWVqckwNwncJY'\n",
    "play_2012='https://open.spotify.com/playlist/37i9dQZF1DX0rX3xBmXrDn'\n",
    "play_2013='https://open.spotify.com/playlist/37i9dQZF1DX5aHrtH3szCF'\n",
    "play_2014 = 'https://open.spotify.com/playlist/37i9dQZF1DX5S2RzqA1qg6'\n",
    "play_2015='https://open.spotify.com/playlist/37i9dQZF1DXcpG5daApEnA'\n",
    "play_2016='https://open.spotify.com/playlist/37i9dQZF1CyQp1mdXCYxpR'\n",
    "play_2017='https://open.spotify.com/playlist/37i9dQZF1DXaslEeaHwWLL'\n",
    "play_20182019='https://open.spotify.com/playlist/0sVCLfAbcXb8dKif9QP3Ch'\n",
    "play_2020 = 'https://open.spotify.com/playlist/2ErDoKVlOJMP5xKxyKmD6U'\n",
    "play_2021 = 'https://open.spotify.com/playlist/5tntLMmmuZiPB2d41VsS4P'\n",
    "play_2022 = 'https://open.spotify.com/playlist/37i9dQZF1DXdo9iIZiH7LB'"
   ]
  },
  {
   "cell_type": "code",
   "execution_count": 6,
   "id": "4ddcb1f1",
   "metadata": {},
   "outputs": [],
   "source": [
    "def spoti_info(playlist):\n",
    "    play = sp.playlist_tracks(playlist, fields=None, limit=100,\\\n",
    "                          offset=0, market=None, additional_types=('track', 'episode'))\n",
    "    links_track = []\n",
    "    for e in (play['items']):\n",
    "        links_track.append(e['track']['external_urls']['spotify'])\n",
    "    \n",
    "    audio_features = []\n",
    "    for e in links_track:\n",
    "        audio_features.append(sp.audio_features(e))\n",
    "    \n",
    "    track_song = []\n",
    "    for e in (play['items']):\n",
    "        track_song.append(e['track']['name'])\n",
    "    \n",
    "    artist_name = []\n",
    "    for e in (play['items']):\n",
    "        artist_name.append(e['track']['album']['artists'][0]['name'])\n",
    "    \n",
    "    audio_features=[e[0] for e in audio_features]\n",
    "    \n",
    "    datos_spotipy = pd.DataFrame(audio_features)\n",
    "    \n",
    "    datos_spotipy['artist_name'] = artist_name\n",
    "    \n",
    "    datos_spotipy['track_name'] = track_song\n",
    "    \n",
    "    datos_spotipy.drop(['type','id','uri','track_href','analysis_url','time_signature','key','mode'],axis=1, inplace=True)\n",
    "    \n",
    "    datos_spotipy=datos_spotipy.iloc[:, [10,11,1,0,2,4,3,6,7,8,9]]\n",
    "    \n",
    "    datos_spotipy.rename(columns = {'duration_ms':'duration'}, inplace = True)\n",
    "    \n",
    "    datos_spotipy['duration'] = (datos_spotipy['duration']/1000).round(2)\n",
    "\n",
    "\n",
    "\n",
    "\n",
    "\n",
    "    return datos_spotipy"
   ]
  },
  {
   "cell_type": "code",
   "execution_count": 10,
   "id": "0e76279a",
   "metadata": {},
   "outputs": [],
   "source": [
    "p2000 = spoti_info(play_2000)"
   ]
  },
  {
   "cell_type": "code",
   "execution_count": 11,
   "id": "7706949f",
   "metadata": {},
   "outputs": [],
   "source": [
    "p2001 = spoti_info(play_2001)"
   ]
  },
  {
   "cell_type": "code",
   "execution_count": 12,
   "id": "25902a51",
   "metadata": {},
   "outputs": [],
   "source": [
    "p2002 = spoti_info(play_2002)"
   ]
  },
  {
   "cell_type": "code",
   "execution_count": 13,
   "id": "d2d03058",
   "metadata": {},
   "outputs": [],
   "source": [
    "p2003 = spoti_info(play_2003)"
   ]
  },
  {
   "cell_type": "code",
   "execution_count": 14,
   "id": "954e5f4c",
   "metadata": {},
   "outputs": [],
   "source": [
    "p2004 = spoti_info(play_2004)"
   ]
  },
  {
   "cell_type": "code",
   "execution_count": 15,
   "id": "1a92ad79",
   "metadata": {},
   "outputs": [],
   "source": [
    "p2005 = spoti_info(play_2005)"
   ]
  },
  {
   "cell_type": "code",
   "execution_count": 16,
   "id": "8e34b3e7",
   "metadata": {},
   "outputs": [],
   "source": [
    "p2006 = spoti_info(play_2006)"
   ]
  },
  {
   "cell_type": "code",
   "execution_count": null,
   "id": "64d4b995",
   "metadata": {},
   "outputs": [],
   "source": [
    "p2007 = spoti_info(play_2007)"
   ]
  },
  {
   "cell_type": "code",
   "execution_count": null,
   "id": "1ea38865",
   "metadata": {},
   "outputs": [],
   "source": [
    "p2008 = spoti_info(play_2008)"
   ]
  },
  {
   "cell_type": "code",
   "execution_count": null,
   "id": "59d94d75",
   "metadata": {},
   "outputs": [],
   "source": [
    "p2009 = spoti_info(play_2009)"
   ]
  },
  {
   "cell_type": "code",
   "execution_count": null,
   "id": "0a4e23a2",
   "metadata": {},
   "outputs": [],
   "source": [
    "p2010 = spoti_info(play_2010)"
   ]
  },
  {
   "cell_type": "code",
   "execution_count": null,
   "id": "9681b724",
   "metadata": {},
   "outputs": [],
   "source": [
    "p2011 = spoti_info(play_2011)"
   ]
  },
  {
   "cell_type": "code",
   "execution_count": null,
   "id": "6962595e",
   "metadata": {},
   "outputs": [],
   "source": [
    "p2012 = spoti_info(play_2012)"
   ]
  },
  {
   "cell_type": "code",
   "execution_count": null,
   "id": "3ffc3117",
   "metadata": {},
   "outputs": [],
   "source": [
    "p2013 = spoti_info(play_2013)"
   ]
  },
  {
   "cell_type": "code",
   "execution_count": null,
   "id": "491e1057",
   "metadata": {},
   "outputs": [],
   "source": [
    "p2014 = spoti_info(play_2014)"
   ]
  },
  {
   "cell_type": "code",
   "execution_count": null,
   "id": "c588c6dc",
   "metadata": {},
   "outputs": [],
   "source": [
    "p2015 = spoti_info(play_2015)"
   ]
  },
  {
   "cell_type": "code",
   "execution_count": null,
   "id": "55fe6c33",
   "metadata": {},
   "outputs": [],
   "source": [
    "p2016 = spoti_info(play_2016)"
   ]
  },
  {
   "cell_type": "code",
   "execution_count": null,
   "id": "ac3823dc",
   "metadata": {},
   "outputs": [],
   "source": [
    "p2017 = spoti_info(play_2017)"
   ]
  },
  {
   "cell_type": "code",
   "execution_count": null,
   "id": "f4f1a3f3",
   "metadata": {},
   "outputs": [],
   "source": [
    "p20182019 = spoti_info(play_20182019)"
   ]
  },
  {
   "cell_type": "code",
   "execution_count": null,
   "id": "db88ba3b",
   "metadata": {},
   "outputs": [],
   "source": [
    "p2020 = spoti_info(play_2020)"
   ]
  },
  {
   "cell_type": "code",
   "execution_count": null,
   "id": "178074a4",
   "metadata": {},
   "outputs": [],
   "source": [
    "p2021 = spoti_info(play_2021)"
   ]
  },
  {
   "cell_type": "code",
   "execution_count": null,
   "id": "0e97e97b",
   "metadata": {},
   "outputs": [],
   "source": [
    "p2022 = spoti_info(play_2022)"
   ]
  },
  {
   "cell_type": "code",
   "execution_count": null,
   "id": "e8088dc0",
   "metadata": {},
   "outputs": [],
   "source": [
    "spanish_hits = pd.concat([p2000, p2001,p2002,p2003,p2004,p2005,p2006,\\\n",
    "                         p2007,p2008,p2009,p2010,p2011,p2012,p2013,p2014,p2015,\\\n",
    "                         p2016,p2017,p20182019,p2020,p2021,p2022]).reset_index(drop=True)"
   ]
  },
  {
   "cell_type": "code",
   "execution_count": null,
   "id": "fbe82f7b",
   "metadata": {},
   "outputs": [],
   "source": [
    "spanish_hits.head()"
   ]
  },
  {
   "cell_type": "code",
   "execution_count": null,
   "id": "9dc387f5",
   "metadata": {},
   "outputs": [],
   "source": [
    "spanish_hits.to_csv('../Data/CSV_primeros/spanish_hits.csv', index=False)"
   ]
  }
 ],
 "metadata": {
  "kernelspec": {
   "display_name": "Python 3 (ipykernel)",
   "language": "python",
   "name": "python3"
  },
  "language_info": {
   "codemirror_mode": {
    "name": "ipython",
    "version": 3
   },
   "file_extension": ".py",
   "mimetype": "text/x-python",
   "name": "python",
   "nbconvert_exporter": "python",
   "pygments_lexer": "ipython3",
   "version": "3.9.12"
  }
 },
 "nbformat": 4,
 "nbformat_minor": 5
}
