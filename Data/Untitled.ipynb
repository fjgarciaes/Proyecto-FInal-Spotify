{
 "cells": [
  {
   "cell_type": "code",
   "execution_count": 38,
   "id": "d230d3e8",
   "metadata": {},
   "outputs": [],
   "source": [
    "from webdriver_manager.chrome import ChromeDriverManager\n",
    "from selenium import webdriver\n",
    "from selenium.webdriver.chrome.options import Options\n",
    "import time "
   ]
  },
  {
   "cell_type": "code",
   "execution_count": 5,
   "id": "cfbf260e",
   "metadata": {},
   "outputs": [
    {
     "name": "stderr",
     "output_type": "stream",
     "text": [
      "2023-01-24 09:15:24,107 [45998] WARNING  py.warnings:109: [JupyterRequire] /var/folders/0p/q9p3n_m96v7fgw9v0l4dvkyr0000gn/T/ipykernel_45998/4006542889.py:3: DeprecationWarning: executable_path has been deprecated, please pass in a Service object\n",
      "  driver=webdriver.Chrome(PATH)         # abre una pestaña de chrome\n",
      "\n"
     ]
    },
    {
     "ename": "NameError",
     "evalue": "name 'URL' is not defined",
     "output_type": "error",
     "traceback": [
      "\u001b[0;31m---------------------------------------------------------------------------\u001b[0m",
      "\u001b[0;31mNameError\u001b[0m                                 Traceback (most recent call last)",
      "Input \u001b[0;32mIn [5]\u001b[0m, in \u001b[0;36m<cell line: 5>\u001b[0;34m()\u001b[0m\n\u001b[1;32m      1\u001b[0m PATH\u001b[38;5;241m=\u001b[39mChromeDriverManager()\u001b[38;5;241m.\u001b[39minstall()   \u001b[38;5;66;03m# instala el driver\u001b[39;00m\n\u001b[1;32m      3\u001b[0m driver\u001b[38;5;241m=\u001b[39mwebdriver\u001b[38;5;241m.\u001b[39mChrome(PATH)         \u001b[38;5;66;03m# abre una pestaña de chrome\u001b[39;00m\n\u001b[0;32m----> 5\u001b[0m driver\u001b[38;5;241m.\u001b[39mget(\u001b[43mURL\u001b[49m \u001b[38;5;241m+\u001b[39m busqueda)     \u001b[38;5;66;03m# entra en google\u001b[39;00m\n\u001b[1;32m      7\u001b[0m time\u001b[38;5;241m.\u001b[39msleep(\u001b[38;5;241m2\u001b[39m)    \u001b[38;5;66;03m# para 2 secs\u001b[39;00m\n\u001b[1;32m      9\u001b[0m driver\u001b[38;5;241m.\u001b[39mfind_element(By\u001b[38;5;241m.\u001b[39mXPATH, \u001b[38;5;124m'\u001b[39m\u001b[38;5;124m//*[@id=\u001b[39m\u001b[38;5;124m\"\u001b[39m\u001b[38;5;124mL2AGLb\u001b[39m\u001b[38;5;124m\"\u001b[39m\u001b[38;5;124m]\u001b[39m\u001b[38;5;124m'\u001b[39m)\u001b[38;5;241m.\u001b[39mclick()\n",
      "\u001b[0;31mNameError\u001b[0m: name 'URL' is not defined"
     ]
    }
   ],
   "source": [
    "PATH=ChromeDriverManager().install()   # instala el driver\n",
    "\n",
    "driver=webdriver.Chrome(PATH)         # abre una pestaña de chrome\n",
    "\n",
    "driver.get(URL + busqueda)     # entra en google\n",
    "\n",
    "time.sleep(2)    # para 2 secs\n",
    "\n",
    "driver.find_element(By.XPATH, '//*[@id=\"L2AGLb\"]').click() # acepta cookies"
   ]
  },
  {
   "cell_type": "code",
   "execution_count": 41,
   "id": "2c555925",
   "metadata": {},
   "outputs": [
    {
     "name": "stderr",
     "output_type": "stream",
     "text": [
      "2023-01-24 17:24:00,323 [45998] WARNING  py.warnings:109: [JupyterRequire] /var/folders/0p/q9p3n_m96v7fgw9v0l4dvkyr0000gn/T/ipykernel_45998/3480594190.py:1: DeprecationWarning: executable_path has been deprecated, please pass in a Service object\n",
      "  driver=webdriver.Chrome(PATH)         # abre una pestaña de chrome\n",
      "\n"
     ]
    },
    {
     "ename": "NameError",
     "evalue": "name 'By' is not defined",
     "output_type": "error",
     "traceback": [
      "\u001b[0;31m---------------------------------------------------------------------------\u001b[0m",
      "\u001b[0;31mNameError\u001b[0m                                 Traceback (most recent call last)",
      "Input \u001b[0;32mIn [41]\u001b[0m, in \u001b[0;36m<cell line: 7>\u001b[0;34m()\u001b[0m\n\u001b[1;32m      3\u001b[0m driver\u001b[38;5;241m.\u001b[39mget(\u001b[38;5;124m'\u001b[39m\u001b[38;5;124mhttps://app.soundcharts.com\u001b[39m\u001b[38;5;124m'\u001b[39m) \n\u001b[1;32m      5\u001b[0m time\u001b[38;5;241m.\u001b[39msleep(\u001b[38;5;241m2\u001b[39m)    \u001b[38;5;66;03m# para 2 secs\u001b[39;00m\n\u001b[0;32m----> 7\u001b[0m driver\u001b[38;5;241m.\u001b[39mfind_element(\u001b[43mBy\u001b[49m\u001b[38;5;241m.\u001b[39mXPATH, \u001b[38;5;124m'\u001b[39m\u001b[38;5;124m//*[@id=\u001b[39m\u001b[38;5;124m\"\u001b[39m\u001b[38;5;124mL2AGLb\u001b[39m\u001b[38;5;124m\"\u001b[39m\u001b[38;5;124m]\u001b[39m\u001b[38;5;124m'\u001b[39m)\u001b[38;5;241m.\u001b[39mclick()\n",
      "\u001b[0;31mNameError\u001b[0m: name 'By' is not defined"
     ]
    }
   ],
   "source": [
    "driver=webdriver.Chrome(PATH)         # abre una pestaña de chrome\n",
    "\n",
    "driver.get('https://app.soundcharts.com') \n",
    "\n",
    "time.sleep(2)    # para 2 secs\n",
    "\n",
    "driver.find_element(By.XPATH, '//*[@id=\"L2AGLb\"]').click() "
   ]
  },
  {
   "cell_type": "code",
   "execution_count": 40,
   "id": "43e597cb",
   "metadata": {},
   "outputs": [],
   "source": [
    "opciones = Options()\n",
    "opciones.add_experimental_option(\"excludeSwitches\", [\"enable-automation\"])\n",
    "opciones.add_experimental_option(\"useAutomationExtension\", False)\n",
    "opciones.headless = True  # si True, no aperece la ventana (headless=no visible)\n",
    "opciones.add_argument(\"--start-maximized\")  # comienza maximizado\n",
    "opciones.add_argument(\"user-data-dir=selenium\") "
   ]
  },
  {
   "cell_type": "code",
   "execution_count": 9,
   "id": "ef1bc90c",
   "metadata": {},
   "outputs": [],
   "source": [
    "a = np.random.random((2, 3, 5))"
   ]
  },
  {
   "cell_type": "code",
   "execution_count": 10,
   "id": "d96e8905",
   "metadata": {},
   "outputs": [
    {
     "data": {
      "text/plain": [
       "array([[[0.28585355, 0.00493518, 0.01291211, 0.40187527, 0.18582371],\n",
       "        [0.66917973, 0.01654612, 0.66085186, 0.55326659, 0.06481066],\n",
       "        [0.86272381, 0.59439958, 0.51833706, 0.11746803, 0.0948366 ]],\n",
       "\n",
       "       [[0.16226027, 0.5982828 , 0.54145851, 0.53871387, 0.42986102],\n",
       "        [0.66699404, 0.76238179, 0.03121657, 0.02434153, 0.2047694 ],\n",
       "        [0.31029524, 0.26758995, 0.16334107, 0.21243011, 0.73540481]]])"
      ]
     },
     "execution_count": 10,
     "metadata": {},
     "output_type": "execute_result"
    }
   ],
   "source": [
    "a"
   ]
  },
  {
   "cell_type": "code",
   "execution_count": 12,
   "id": "7bc93cee",
   "metadata": {},
   "outputs": [
    {
     "data": {
      "text/plain": [
       "array([[[1., 1., 1.],\n",
       "        [1., 1., 1.]],\n",
       "\n",
       "       [[1., 1., 1.],\n",
       "        [1., 1., 1.]],\n",
       "\n",
       "       [[1., 1., 1.],\n",
       "        [1., 1., 1.]],\n",
       "\n",
       "       [[1., 1., 1.],\n",
       "        [1., 1., 1.]],\n",
       "\n",
       "       [[1., 1., 1.],\n",
       "        [1., 1., 1.]]])"
      ]
     },
     "execution_count": 12,
     "metadata": {},
     "output_type": "execute_result"
    }
   ],
   "source": [
    "b = np.ones((5, 2, 3))\n",
    "b"
   ]
  },
  {
   "cell_type": "code",
   "execution_count": 13,
   "id": "1482ace4",
   "metadata": {},
   "outputs": [
    {
     "data": {
      "text/plain": [
       "True"
      ]
     },
     "execution_count": 13,
     "metadata": {},
     "output_type": "execute_result"
    }
   ],
   "source": [
    "np.size(a) == np.size(b)"
   ]
  },
  {
   "cell_type": "code",
   "execution_count": 15,
   "id": "29ed8a2d",
   "metadata": {},
   "outputs": [
    {
     "data": {
      "text/plain": [
       "array([[[1., 1., 1., 1., 1.],\n",
       "        [1., 1., 1., 1., 1.],\n",
       "        [1., 1., 1., 1., 1.]],\n",
       "\n",
       "       [[1., 1., 1., 1., 1.],\n",
       "        [1., 1., 1., 1., 1.],\n",
       "        [1., 1., 1., 1., 1.]]])"
      ]
     },
     "execution_count": 15,
     "metadata": {},
     "output_type": "execute_result"
    }
   ],
   "source": [
    "c = b.transpose((1, 2, 0))\n",
    "c"
   ]
  },
  {
   "cell_type": "code",
   "execution_count": 17,
   "id": "aaa33205",
   "metadata": {},
   "outputs": [
    {
     "data": {
      "text/plain": [
       "(2, 3, 5)"
      ]
     },
     "execution_count": 17,
     "metadata": {},
     "output_type": "execute_result"
    }
   ],
   "source": [
    "c.shape"
   ]
  },
  {
   "cell_type": "code",
   "execution_count": 18,
   "id": "b72a06a6",
   "metadata": {},
   "outputs": [],
   "source": [
    "d = np.add(a, c)"
   ]
  },
  {
   "cell_type": "code",
   "execution_count": 19,
   "id": "0da1d379",
   "metadata": {},
   "outputs": [],
   "source": [
    "f = np.empty_like(d)"
   ]
  },
  {
   "cell_type": "code",
   "execution_count": 21,
   "id": "28c6c8c6",
   "metadata": {},
   "outputs": [],
   "source": [
    "d_max = d.max()\n",
    "d_min = d.min()\n",
    "d_mean = d.mean()"
   ]
  },
  {
   "cell_type": "code",
   "execution_count": 29,
   "id": "b1adaaac",
   "metadata": {},
   "outputs": [],
   "source": [
    "d = a+c"
   ]
  },
  {
   "cell_type": "code",
   "execution_count": 30,
   "id": "3d602cb3",
   "metadata": {},
   "outputs": [
    {
     "name": "stdout",
     "output_type": "stream",
     "text": [
      "[[[1.28585355 1.00493518 1.01291211 1.40187527 1.18582371]\n",
      "  [1.66917973 1.01654612 1.66085186 1.55326659 1.06481066]\n",
      "  [1.86272381 1.59439958 1.51833706 1.11746803 1.0948366 ]]\n",
      "\n",
      " [[1.16226027 1.5982828  1.54145851 1.53871387 1.42986102]\n",
      "  [1.66699404 1.76238179 1.03121657 1.02434153 1.2047694 ]\n",
      "  [1.31029524 1.26758995 1.16334107 1.21243011 1.73540481]]]\n"
     ]
    }
   ],
   "source": [
    "d_max =np.max(d)\n",
    "d_min =np.min(d)\n",
    "d_mean =np.mean(d)\n",
    "print(d)"
   ]
  },
  {
   "cell_type": "code",
   "execution_count": 31,
   "id": "08e97f69",
   "metadata": {},
   "outputs": [
    {
     "ename": "TypeError",
     "evalue": "Cannot interpret '3' as a data type",
     "output_type": "error",
     "traceback": [
      "\u001b[0;31m---------------------------------------------------------------------------\u001b[0m",
      "\u001b[0;31mTypeError\u001b[0m                                 Traceback (most recent call last)",
      "Input \u001b[0;32mIn [31]\u001b[0m, in \u001b[0;36m<cell line: 1>\u001b[0;34m()\u001b[0m\n\u001b[0;32m----> 1\u001b[0m f \u001b[38;5;241m=\u001b[39m \u001b[43mnp\u001b[49m\u001b[38;5;241;43m.\u001b[39;49m\u001b[43mempty\u001b[49m\u001b[43m(\u001b[49m\u001b[38;5;241;43m2\u001b[39;49m\u001b[43m,\u001b[49m\u001b[38;5;241;43m3\u001b[39;49m\u001b[43m,\u001b[49m\u001b[38;5;241;43m5\u001b[39;49m\u001b[43m)\u001b[49m\n\u001b[1;32m      2\u001b[0m \u001b[38;5;28mprint\u001b[39m(d)\n",
      "\u001b[0;31mTypeError\u001b[0m: Cannot interpret '3' as a data type"
     ]
    }
   ],
   "source": [
    "f = np.empty(2,3,5)\n",
    "print(d)"
   ]
  },
  {
   "cell_type": "code",
   "execution_count": 32,
   "id": "a74275e2",
   "metadata": {},
   "outputs": [],
   "source": [
    "f = np.empty ((2,3,5))"
   ]
  },
  {
   "cell_type": "code",
   "execution_count": null,
   "id": "2ccbc464",
   "metadata": {},
   "outputs": [],
   "source": []
  },
  {
   "cell_type": "code",
   "execution_count": 33,
   "id": "631ce035",
   "metadata": {},
   "outputs": [
    {
     "name": "stdout",
     "output_type": "stream",
     "text": [
      "[[[1.28585355 1.00493518 1.01291211 1.40187527 1.18582371]\n",
      "  [1.66917973 1.01654612 1.66085186 1.55326659 1.06481066]\n",
      "  [1.86272381 1.59439958 1.51833706 1.11746803 1.0948366 ]]\n",
      "\n",
      " [[1.16226027 1.5982828  1.54145851 1.53871387 1.42986102]\n",
      "  [1.66699404 1.76238179 1.03121657 1.02434153 1.2047694 ]\n",
      "  [1.31029524 1.26758995 1.16334107 1.21243011 1.73540481]]]\n",
      "[[[ 25.   0.  25.  75.  25.]\n",
      "  [ 75.  25.  75.  75.  25.]\n",
      "  [100.  75.  75.  25.  25.]]\n",
      "\n",
      " [[ 25.  75.  75.  75.  75.]\n",
      "  [ 75.  75.  25.  25.  25.]\n",
      "  [ 25.  25.  25.  25.  75.]]]\n"
     ]
    }
   ],
   "source": [
    "for i in range(len(d)):\n",
    "    for j in range(len(d[i])):\n",
    "        for k in range(len(d[i][j])):\n",
    "            e = d[i][j][k]\n",
    "            if d_min < e < d_mean:\n",
    "                f[i][j][k] = 25\n",
    "            elif d_mean < e < d_max:\n",
    "                f[i][j][k] = 75\n",
    "            elif e == d_mean:\n",
    "                f[i][j][k] = 50\n",
    "            elif e == d_min:\n",
    "                f[i][j][k] = 0\n",
    "            elif e == d_max:\n",
    "                f[i][j][k] = 100\n",
    "print(d)\n",
    "print(f)"
   ]
  },
  {
   "cell_type": "code",
   "execution_count": null,
   "id": "4959349c",
   "metadata": {},
   "outputs": [],
   "source": []
  }
 ],
 "metadata": {
  "kernelspec": {
   "display_name": "Python 3 (ipykernel)",
   "language": "python",
   "name": "python3"
  },
  "language_info": {
   "codemirror_mode": {
    "name": "ipython",
    "version": 3
   },
   "file_extension": ".py",
   "mimetype": "text/x-python",
   "name": "python",
   "nbconvert_exporter": "python",
   "pygments_lexer": "ipython3",
   "version": "3.9.12"
  }
 },
 "nbformat": 4,
 "nbformat_minor": 5
}
