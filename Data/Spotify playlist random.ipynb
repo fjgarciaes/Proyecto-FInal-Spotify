{
 "cells": [
  {
   "cell_type": "code",
   "execution_count": 50,
   "id": "9526ce95",
   "metadata": {},
   "outputs": [],
   "source": [
    "import pandas as pd\n",
    "import numpy as np\n",
    "import spotipy\n",
    "from spotipy.oauth2 import SpotifyOAuth\n",
    "import random"
   ]
  },
  {
   "cell_type": "code",
   "execution_count": 12,
   "id": "09ca3580",
   "metadata": {},
   "outputs": [],
   "source": [
    "play_2000 ='https://open.spotify.com/playlist/37i9dQZF1DX4f5T2OF14nZ'\n",
    "play_2001 = 'https://open.spotify.com/playlist/37i9dQZF1DX8ri0Q7eg1qe'\n",
    "play_2002 ='https://open.spotify.com/playlist/37i9dQZF1DXag6GMMWZSZ4'\n",
    "play_2003 ='https://open.spotify.com/playlist/37i9dQZF1DX8EdanpjeYXD'\n",
    "play_2004 = 'https://open.spotify.com/playlist/37i9dQZF1DX25bh4Tsdtts'\n",
    "play_2005 = 'https://open.spotify.com/playlist/37i9dQZF1DXax0Fz6Uds7a'\n",
    "play_2006 = 'https://open.spotify.com/playlist/37i9dQZF1DX0ywbtKZmG0E'\n",
    "play_2007 = 'https://open.spotify.com/playlist/37i9dQZF1DXdHJoK6pY7Oh'\n",
    "play_2008 = 'https://open.spotify.com/playlist/37i9dQZF1DWVBAKsA3f6Ck'\n",
    "play_2009 = 'https://open.spotify.com/playlist/37i9dQZF1DX1bd6S1wAnbF'\n",
    "play_2010='https://open.spotify.com/playlist/37i9dQZF1DX9zzf8V7JAQ5'\n",
    "play_2011='https://open.spotify.com/playlist/37i9dQZF1DWVqckwNwncJY'\n",
    "play_2012='https://open.spotify.com/playlist/37i9dQZF1DX0rX3xBmXrDn'\n",
    "play_2013='https://open.spotify.com/playlist/37i9dQZF1DX5aHrtH3szCF'\n",
    "play_2014 = 'https://open.spotify.com/playlist/37i9dQZF1DX5S2RzqA1qg6'\n",
    "play_2015='https://open.spotify.com/playlist/37i9dQZF1DXcpG5daApEnA'\n",
    "play_2016='https://open.spotify.com/playlist/37i9dQZF1CyQp1mdXCYxpR'\n",
    "play_2017='https://open.spotify.com/playlist/37i9dQZF1DXaslEeaHwWLL'\n",
    "play_20182019='https://open.spotify.com/playlist/0sVCLfAbcXb8dKif9QP3Ch'\n",
    "play_2020 = 'https://open.spotify.com/playlist/2ErDoKVlOJMP5xKxyKmD6U'\n",
    "play_2021 = 'https://open.spotify.com/playlist/5tntLMmmuZiPB2d41VsS4P'\n",
    "play_2022 = 'https://open.spotify.com/playlist/37i9dQZF1DXdo9iIZiH7LB'"
   ]
  },
  {
   "cell_type": "code",
   "execution_count": 61,
   "id": "4ddcb1f1",
   "metadata": {},
   "outputs": [],
   "source": [
    "def spoti_links(playlist):\n",
    "    play = sp.playlist_tracks(playlist, fields=None, limit=100,\\\n",
    "                          offset=0, market=None, additional_types=('track', 'episode'))\n",
    "    links_track = []\n",
    "    for e in (play['items']):\n",
    "        links_track.append(e['track']['external_urls']['spotify'])\n",
    "        \n",
    "    \n",
    "    \n",
    "    datos_spotipy = pd.DataFrame(links_track)\n",
    "    \n",
    "    \n",
    "\n",
    "    return datos_spotipy"
   ]
  },
  {
   "cell_type": "code",
   "execution_count": 62,
   "id": "0e76279a",
   "metadata": {},
   "outputs": [],
   "source": [
    "p2000 = spoti_links(play_2000)"
   ]
  },
  {
   "cell_type": "code",
   "execution_count": 15,
   "id": "7706949f",
   "metadata": {},
   "outputs": [],
   "source": [
    "p2001 = spoti_info(play_2001)"
   ]
  },
  {
   "cell_type": "code",
   "execution_count": 16,
   "id": "25902a51",
   "metadata": {},
   "outputs": [],
   "source": [
    "p2002 = spoti_info(play_2002)"
   ]
  },
  {
   "cell_type": "code",
   "execution_count": 17,
   "id": "d2d03058",
   "metadata": {},
   "outputs": [],
   "source": [
    "p2003 = spoti_info(play_2003)"
   ]
  },
  {
   "cell_type": "code",
   "execution_count": 18,
   "id": "954e5f4c",
   "metadata": {},
   "outputs": [],
   "source": [
    "p2004 = spoti_info(play_2004)"
   ]
  },
  {
   "cell_type": "code",
   "execution_count": 19,
   "id": "1a92ad79",
   "metadata": {},
   "outputs": [],
   "source": [
    "p2005 = spoti_info(play_2005)"
   ]
  },
  {
   "cell_type": "code",
   "execution_count": 20,
   "id": "8e34b3e7",
   "metadata": {},
   "outputs": [],
   "source": [
    "p2006 = spoti_info(play_2006)"
   ]
  },
  {
   "cell_type": "code",
   "execution_count": 21,
   "id": "64d4b995",
   "metadata": {},
   "outputs": [],
   "source": [
    "p2007 = spoti_info(play_2007)"
   ]
  },
  {
   "cell_type": "code",
   "execution_count": 22,
   "id": "1ea38865",
   "metadata": {},
   "outputs": [],
   "source": [
    "p2008 = spoti_info(play_2008)"
   ]
  },
  {
   "cell_type": "code",
   "execution_count": 23,
   "id": "59d94d75",
   "metadata": {},
   "outputs": [],
   "source": [
    "p2009 = spoti_info(play_2009)"
   ]
  },
  {
   "cell_type": "code",
   "execution_count": 24,
   "id": "0a4e23a2",
   "metadata": {},
   "outputs": [],
   "source": [
    "p2010 = spoti_info(play_2010)"
   ]
  },
  {
   "cell_type": "code",
   "execution_count": 25,
   "id": "9681b724",
   "metadata": {},
   "outputs": [],
   "source": [
    "p2011 = spoti_info(play_2011)"
   ]
  },
  {
   "cell_type": "code",
   "execution_count": 26,
   "id": "6962595e",
   "metadata": {},
   "outputs": [],
   "source": [
    "p2012 = spoti_info(play_2012)"
   ]
  },
  {
   "cell_type": "code",
   "execution_count": 27,
   "id": "3ffc3117",
   "metadata": {},
   "outputs": [],
   "source": [
    "p2013 = spoti_info(play_2013)"
   ]
  },
  {
   "cell_type": "code",
   "execution_count": 28,
   "id": "491e1057",
   "metadata": {},
   "outputs": [],
   "source": [
    "p2014 = spoti_info(play_2014)"
   ]
  },
  {
   "cell_type": "code",
   "execution_count": 29,
   "id": "c588c6dc",
   "metadata": {},
   "outputs": [],
   "source": [
    "p2015 = spoti_info(play_2015)"
   ]
  },
  {
   "cell_type": "code",
   "execution_count": 30,
   "id": "55fe6c33",
   "metadata": {},
   "outputs": [],
   "source": [
    "p2016 = spoti_info(play_2016)"
   ]
  },
  {
   "cell_type": "code",
   "execution_count": 31,
   "id": "ac3823dc",
   "metadata": {},
   "outputs": [],
   "source": [
    "p2017 = spoti_info(play_2017)"
   ]
  },
  {
   "cell_type": "code",
   "execution_count": 32,
   "id": "f4f1a3f3",
   "metadata": {},
   "outputs": [],
   "source": [
    "p20182019 = spoti_info(play_20182019)"
   ]
  },
  {
   "cell_type": "code",
   "execution_count": 33,
   "id": "db88ba3b",
   "metadata": {},
   "outputs": [],
   "source": [
    "p2020 = spoti_info(play_2020)"
   ]
  },
  {
   "cell_type": "code",
   "execution_count": 34,
   "id": "178074a4",
   "metadata": {},
   "outputs": [],
   "source": [
    "p2021 = spoti_info(play_2021)"
   ]
  },
  {
   "cell_type": "code",
   "execution_count": 35,
   "id": "0e97e97b",
   "metadata": {},
   "outputs": [],
   "source": [
    "p2022 = spoti_info(play_2022)"
   ]
  },
  {
   "cell_type": "code",
   "execution_count": 40,
   "id": "e8088dc0",
   "metadata": {},
   "outputs": [],
   "source": [
    "links = p2000 + p2001 + p2002 + p2003 + p2004 + p2005 + p2006\\\n",
    "                         +p2007 + p2008 + p2009 +p2010 +p2011+p2012+p2013+p2014+p2015\\\n",
    "                         +p2016 +p2017+p20182019+p2020+p2021+p2022"
   ]
  },
  {
   "cell_type": "code",
   "execution_count": 76,
   "id": "c1fcf25a",
   "metadata": {},
   "outputs": [],
   "source": [
    "links = pd.DataFrame(links)"
   ]
  },
  {
   "cell_type": "code",
   "execution_count": 66,
   "id": "561e0f97",
   "metadata": {},
   "outputs": [],
   "source": [
    "links.to_csv('../Proyecto-FInal-Spotify/CSV_primeros/links.csv', index=False)"
   ]
  },
  {
   "cell_type": "code",
   "execution_count": 77,
   "id": "0859d8ce",
   "metadata": {},
   "outputs": [
    {
     "data": {
      "text/html": [
       "<div>\n",
       "<style scoped>\n",
       "    .dataframe tbody tr th:only-of-type {\n",
       "        vertical-align: middle;\n",
       "    }\n",
       "\n",
       "    .dataframe tbody tr th {\n",
       "        vertical-align: top;\n",
       "    }\n",
       "\n",
       "    .dataframe thead th {\n",
       "        text-align: right;\n",
       "    }\n",
       "</style>\n",
       "<table border=\"1\" class=\"dataframe\">\n",
       "  <thead>\n",
       "    <tr style=\"text-align: right;\">\n",
       "      <th></th>\n",
       "      <th>0</th>\n",
       "    </tr>\n",
       "  </thead>\n",
       "  <tbody>\n",
       "    <tr>\n",
       "      <th>0</th>\n",
       "      <td>https://open.spotify.com/track/3AJwUDP919kvQ9Q...</td>\n",
       "    </tr>\n",
       "    <tr>\n",
       "      <th>1</th>\n",
       "      <td>https://open.spotify.com/track/3DYm7Lp7Fc3xf6W...</td>\n",
       "    </tr>\n",
       "    <tr>\n",
       "      <th>2</th>\n",
       "      <td>https://open.spotify.com/track/3yfqSUWxFvZELEM...</td>\n",
       "    </tr>\n",
       "    <tr>\n",
       "      <th>3</th>\n",
       "      <td>https://open.spotify.com/track/6naxalmIoLFWR0s...</td>\n",
       "    </tr>\n",
       "    <tr>\n",
       "      <th>4</th>\n",
       "      <td>https://open.spotify.com/track/2DNyZP4Py6f4zMA...</td>\n",
       "    </tr>\n",
       "  </tbody>\n",
       "</table>\n",
       "</div>"
      ],
      "text/plain": [
       "                                                   0\n",
       "0  https://open.spotify.com/track/3AJwUDP919kvQ9Q...\n",
       "1  https://open.spotify.com/track/3DYm7Lp7Fc3xf6W...\n",
       "2  https://open.spotify.com/track/3yfqSUWxFvZELEM...\n",
       "3  https://open.spotify.com/track/6naxalmIoLFWR0s...\n",
       "4  https://open.spotify.com/track/2DNyZP4Py6f4zMA..."
      ]
     },
     "execution_count": 77,
     "metadata": {},
     "output_type": "execute_result"
    }
   ],
   "source": [
    "links = pd.read_csv('../Proyecto-FInal-Spotify/CSV_primeros/links.csv')\n",
    "\n",
    "links.head(5)"
   ]
  },
  {
   "cell_type": "code",
   "execution_count": 78,
   "id": "bef8f7dd",
   "metadata": {},
   "outputs": [],
   "source": [
    "links.rename(columns = {'0':'ref'}, inplace = True)"
   ]
  },
  {
   "cell_type": "code",
   "execution_count": 79,
   "id": "c6a645e3",
   "metadata": {},
   "outputs": [],
   "source": [
    "links = links['ref'].tolist()"
   ]
  },
  {
   "cell_type": "code",
   "execution_count": 80,
   "id": "4a860af0",
   "metadata": {},
   "outputs": [],
   "source": [
    " links_rd = random.sample(links,100)"
   ]
  },
  {
   "cell_type": "code",
   "execution_count": 85,
   "id": "3b960c39",
   "metadata": {},
   "outputs": [],
   "source": [
    "token='BQBVj5sNv3FoSFNA9yXcHqeaDvWmM6eUs6lMXu9ZNy8fdpQWd-WFOHudG4jJKTJG4fCiDqnIhiRxpx2V4p-VLDGoFZFK4bnbBzLGmWsIBmpDyz-NYu29Z8awBMn5_WF9fVV92i1lbiItXq1kNMxqjY43wtmOSdR3O7tZoP0hTlD3hVEprsnZdwUiezTo3mSzp-ReNnKopvL0WuCCqvWJm_irJDaWcPLW_SLp5yE-3g'"
   ]
  },
  {
   "cell_type": "code",
   "execution_count": 87,
   "id": "ce590a18",
   "metadata": {},
   "outputs": [],
   "source": [
    "sp = spotipy.Spotify(auth=token)\n"
   ]
  },
  {
   "cell_type": "code",
   "execution_count": 90,
   "id": "70bb0f20",
   "metadata": {},
   "outputs": [
    {
     "data": {
      "text/plain": [
       "{'collaborative': False,\n",
       " 'description': 'playlist aleatoria para el proyecto final',\n",
       " 'external_urls': {'spotify': 'https://open.spotify.com/playlist/06LOxWbjLVzFny6rqD0kfO'},\n",
       " 'followers': {'href': None, 'total': 0},\n",
       " 'href': 'https://api.spotify.com/v1/playlists/06LOxWbjLVzFny6rqD0kfO',\n",
       " 'id': '06LOxWbjLVzFny6rqD0kfO',\n",
       " 'images': [],\n",
       " 'name': 'Proyecto Final',\n",
       " 'owner': {'display_name': 'javi1025',\n",
       "  'external_urls': {'spotify': 'https://open.spotify.com/user/javi1025'},\n",
       "  'href': 'https://api.spotify.com/v1/users/javi1025',\n",
       "  'id': 'javi1025',\n",
       "  'type': 'user',\n",
       "  'uri': 'spotify:user:javi1025'},\n",
       " 'primary_color': None,\n",
       " 'public': True,\n",
       " 'snapshot_id': 'MSw2OGNmMzE2NjY1NTk0ZGYxNmZhNGVhZGNkODgyYzQ2OTRkY2ZjOTNm',\n",
       " 'tracks': {'href': 'https://api.spotify.com/v1/playlists/06LOxWbjLVzFny6rqD0kfO/tracks',\n",
       "  'items': [],\n",
       "  'limit': 100,\n",
       "  'next': None,\n",
       "  'offset': 0,\n",
       "  'previous': None,\n",
       "  'total': 0},\n",
       " 'type': 'playlist',\n",
       " 'uri': 'spotify:playlist:06LOxWbjLVzFny6rqD0kfO'}"
      ]
     },
     "execution_count": 90,
     "metadata": {},
     "output_type": "execute_result"
    }
   ],
   "source": [
    "sp.user_playlist_create(user='javi1025',name='Proyecto Final',description='playlist aleatoria para el proyecto final')"
   ]
  },
  {
   "cell_type": "code",
   "execution_count": 83,
   "id": "c66154f8",
   "metadata": {},
   "outputs": [
    {
     "name": "stderr",
     "output_type": "stream",
     "text": [
      "2022-12-15 16:28:46,750 [3861] ERROR    spotipy.client:262: [JupyterRequire] HTTP Error for POST to https://api.spotify.com/v1/playlists/2NnjEropfPhacMUU1w6SYl/tracks with Params: {'position': None} returned 401 due to The access token expired\n"
     ]
    },
    {
     "ename": "SpotifyException",
     "evalue": "http status: 401, code:-1 - https://api.spotify.com/v1/playlists/2NnjEropfPhacMUU1w6SYl/tracks:\n The access token expired, reason: None",
     "output_type": "error",
     "traceback": [
      "\u001b[0;31m---------------------------------------------------------------------------\u001b[0m",
      "\u001b[0;31mHTTPError\u001b[0m                                 Traceback (most recent call last)",
      "File \u001b[0;32m~/opt/anaconda3/lib/python3.9/site-packages/spotipy/client.py:245\u001b[0m, in \u001b[0;36mSpotify._internal_call\u001b[0;34m(self, method, url, payload, params)\u001b[0m\n\u001b[1;32m    240\u001b[0m response \u001b[38;5;241m=\u001b[39m \u001b[38;5;28mself\u001b[39m\u001b[38;5;241m.\u001b[39m_session\u001b[38;5;241m.\u001b[39mrequest(\n\u001b[1;32m    241\u001b[0m     method, url, headers\u001b[38;5;241m=\u001b[39mheaders, proxies\u001b[38;5;241m=\u001b[39m\u001b[38;5;28mself\u001b[39m\u001b[38;5;241m.\u001b[39mproxies,\n\u001b[1;32m    242\u001b[0m     timeout\u001b[38;5;241m=\u001b[39m\u001b[38;5;28mself\u001b[39m\u001b[38;5;241m.\u001b[39mrequests_timeout, \u001b[38;5;241m*\u001b[39m\u001b[38;5;241m*\u001b[39margs\n\u001b[1;32m    243\u001b[0m )\n\u001b[0;32m--> 245\u001b[0m \u001b[43mresponse\u001b[49m\u001b[38;5;241;43m.\u001b[39;49m\u001b[43mraise_for_status\u001b[49m\u001b[43m(\u001b[49m\u001b[43m)\u001b[49m\n\u001b[1;32m    246\u001b[0m results \u001b[38;5;241m=\u001b[39m response\u001b[38;5;241m.\u001b[39mjson()\n",
      "File \u001b[0;32m~/opt/anaconda3/lib/python3.9/site-packages/requests/models.py:960\u001b[0m, in \u001b[0;36mResponse.raise_for_status\u001b[0;34m(self)\u001b[0m\n\u001b[1;32m    959\u001b[0m \u001b[38;5;28;01mif\u001b[39;00m http_error_msg:\n\u001b[0;32m--> 960\u001b[0m     \u001b[38;5;28;01mraise\u001b[39;00m HTTPError(http_error_msg, response\u001b[38;5;241m=\u001b[39m\u001b[38;5;28mself\u001b[39m)\n",
      "\u001b[0;31mHTTPError\u001b[0m: 401 Client Error: Unauthorized for url: https://api.spotify.com/v1/playlists/2NnjEropfPhacMUU1w6SYl/tracks",
      "\nDuring handling of the above exception, another exception occurred:\n",
      "\u001b[0;31mSpotifyException\u001b[0m                          Traceback (most recent call last)",
      "Input \u001b[0;32mIn [83]\u001b[0m, in \u001b[0;36m<cell line: 1>\u001b[0;34m()\u001b[0m\n\u001b[0;32m----> 1\u001b[0m \u001b[43msp\u001b[49m\u001b[38;5;241;43m.\u001b[39;49m\u001b[43muser_playlist_add_tracks\u001b[49m\u001b[43m(\u001b[49m\u001b[43muser\u001b[49m\u001b[38;5;241;43m=\u001b[39;49m\u001b[38;5;124;43m'\u001b[39;49m\u001b[38;5;124;43mjavi1025\u001b[39;49m\u001b[38;5;124;43m'\u001b[39;49m\u001b[43m,\u001b[49m\u001b[43m \u001b[49m\n\u001b[1;32m      2\u001b[0m \u001b[43m                            \u001b[49m\u001b[43mplaylist_id\u001b[49m\u001b[38;5;241;43m=\u001b[39;49m\u001b[38;5;124;43m'\u001b[39;49m\u001b[38;5;124;43m2NnjEropfPhacMUU1w6SYl\u001b[39;49m\u001b[38;5;124;43m'\u001b[39;49m\u001b[43m,\u001b[49m\n\u001b[1;32m      3\u001b[0m \u001b[43m                            \u001b[49m\u001b[43mtracks\u001b[49m\u001b[38;5;241;43m=\u001b[39;49m\u001b[43mlinks_rd\u001b[49m\u001b[43m,\u001b[49m\u001b[43m \u001b[49m\n\u001b[1;32m      4\u001b[0m \u001b[43m                            \u001b[49m\u001b[43mposition\u001b[49m\u001b[38;5;241;43m=\u001b[39;49m\u001b[38;5;28;43;01mNone\u001b[39;49;00m\u001b[43m)\u001b[49m\n",
      "File \u001b[0;32m~/opt/anaconda3/lib/python3.9/site-packages/spotipy/client.py:849\u001b[0m, in \u001b[0;36mSpotify.user_playlist_add_tracks\u001b[0;34m(self, user, playlist_id, tracks, position)\u001b[0m\n\u001b[1;32m    837\u001b[0m warnings\u001b[38;5;241m.\u001b[39mwarn(\n\u001b[1;32m    838\u001b[0m     \u001b[38;5;124m\"\u001b[39m\u001b[38;5;124mYou should use `playlist_add_items(playlist_id, tracks)` instead\u001b[39m\u001b[38;5;124m\"\u001b[39m,\n\u001b[1;32m    839\u001b[0m     \u001b[38;5;167;01mDeprecationWarning\u001b[39;00m,\n\u001b[1;32m    840\u001b[0m )\n\u001b[1;32m    841\u001b[0m \u001b[38;5;124;03m\"\"\" Adds tracks to a playlist\u001b[39;00m\n\u001b[1;32m    842\u001b[0m \n\u001b[1;32m    843\u001b[0m \u001b[38;5;124;03m    Parameters:\u001b[39;00m\n\u001b[0;32m   (...)\u001b[0m\n\u001b[1;32m    847\u001b[0m \u001b[38;5;124;03m        - position - the position to add the tracks\u001b[39;00m\n\u001b[1;32m    848\u001b[0m \u001b[38;5;124;03m\"\"\"\u001b[39;00m\n\u001b[0;32m--> 849\u001b[0m \u001b[38;5;28;01mreturn\u001b[39;00m \u001b[38;5;28;43mself\u001b[39;49m\u001b[38;5;241;43m.\u001b[39;49m\u001b[43mplaylist_add_items\u001b[49m\u001b[43m(\u001b[49m\u001b[43mplaylist_id\u001b[49m\u001b[43m,\u001b[49m\u001b[43m \u001b[49m\u001b[43mtracks\u001b[49m\u001b[43m,\u001b[49m\u001b[43m \u001b[49m\u001b[43mposition\u001b[49m\u001b[43m)\u001b[49m\n",
      "File \u001b[0;32m~/opt/anaconda3/lib/python3.9/site-packages/spotipy/client.py:1040\u001b[0m, in \u001b[0;36mSpotify.playlist_add_items\u001b[0;34m(self, playlist_id, items, position)\u001b[0m\n\u001b[1;32m   1038\u001b[0m plid \u001b[38;5;241m=\u001b[39m \u001b[38;5;28mself\u001b[39m\u001b[38;5;241m.\u001b[39m_get_id(\u001b[38;5;124m\"\u001b[39m\u001b[38;5;124mplaylist\u001b[39m\u001b[38;5;124m\"\u001b[39m, playlist_id)\n\u001b[1;32m   1039\u001b[0m ftracks \u001b[38;5;241m=\u001b[39m [\u001b[38;5;28mself\u001b[39m\u001b[38;5;241m.\u001b[39m_get_uri(\u001b[38;5;124m\"\u001b[39m\u001b[38;5;124mtrack\u001b[39m\u001b[38;5;124m\"\u001b[39m, tid) \u001b[38;5;28;01mfor\u001b[39;00m tid \u001b[38;5;129;01min\u001b[39;00m items]\n\u001b[0;32m-> 1040\u001b[0m \u001b[38;5;28;01mreturn\u001b[39;00m \u001b[38;5;28;43mself\u001b[39;49m\u001b[38;5;241;43m.\u001b[39;49m\u001b[43m_post\u001b[49m\u001b[43m(\u001b[49m\n\u001b[1;32m   1041\u001b[0m \u001b[43m    \u001b[49m\u001b[38;5;124;43m\"\u001b[39;49m\u001b[38;5;124;43mplaylists/\u001b[39;49m\u001b[38;5;132;43;01m%s\u001b[39;49;00m\u001b[38;5;124;43m/tracks\u001b[39;49m\u001b[38;5;124;43m\"\u001b[39;49m\u001b[43m \u001b[49m\u001b[38;5;241;43m%\u001b[39;49m\u001b[43m \u001b[49m\u001b[43m(\u001b[49m\u001b[43mplid\u001b[49m\u001b[43m)\u001b[49m\u001b[43m,\u001b[49m\n\u001b[1;32m   1042\u001b[0m \u001b[43m    \u001b[49m\u001b[43mpayload\u001b[49m\u001b[38;5;241;43m=\u001b[39;49m\u001b[43mftracks\u001b[49m\u001b[43m,\u001b[49m\n\u001b[1;32m   1043\u001b[0m \u001b[43m    \u001b[49m\u001b[43mposition\u001b[49m\u001b[38;5;241;43m=\u001b[39;49m\u001b[43mposition\u001b[49m\u001b[43m,\u001b[49m\n\u001b[1;32m   1044\u001b[0m \u001b[43m\u001b[49m\u001b[43m)\u001b[49m\n",
      "File \u001b[0;32m~/opt/anaconda3/lib/python3.9/site-packages/spotipy/client.py:302\u001b[0m, in \u001b[0;36mSpotify._post\u001b[0;34m(self, url, args, payload, **kwargs)\u001b[0m\n\u001b[1;32m    300\u001b[0m \u001b[38;5;28;01mif\u001b[39;00m args:\n\u001b[1;32m    301\u001b[0m     kwargs\u001b[38;5;241m.\u001b[39mupdate(args)\n\u001b[0;32m--> 302\u001b[0m \u001b[38;5;28;01mreturn\u001b[39;00m \u001b[38;5;28;43mself\u001b[39;49m\u001b[38;5;241;43m.\u001b[39;49m\u001b[43m_internal_call\u001b[49m\u001b[43m(\u001b[49m\u001b[38;5;124;43m\"\u001b[39;49m\u001b[38;5;124;43mPOST\u001b[39;49m\u001b[38;5;124;43m\"\u001b[39;49m\u001b[43m,\u001b[49m\u001b[43m \u001b[49m\u001b[43murl\u001b[49m\u001b[43m,\u001b[49m\u001b[43m \u001b[49m\u001b[43mpayload\u001b[49m\u001b[43m,\u001b[49m\u001b[43m \u001b[49m\u001b[43mkwargs\u001b[49m\u001b[43m)\u001b[49m\n",
      "File \u001b[0;32m~/opt/anaconda3/lib/python3.9/site-packages/spotipy/client.py:267\u001b[0m, in \u001b[0;36mSpotify._internal_call\u001b[0;34m(self, method, url, payload, params)\u001b[0m\n\u001b[1;32m    260\u001b[0m         reason \u001b[38;5;241m=\u001b[39m \u001b[38;5;28;01mNone\u001b[39;00m\n\u001b[1;32m    262\u001b[0m     logger\u001b[38;5;241m.\u001b[39merror(\n\u001b[1;32m    263\u001b[0m         \u001b[38;5;124m'\u001b[39m\u001b[38;5;124mHTTP Error for \u001b[39m\u001b[38;5;132;01m%s\u001b[39;00m\u001b[38;5;124m to \u001b[39m\u001b[38;5;132;01m%s\u001b[39;00m\u001b[38;5;124m with Params: \u001b[39m\u001b[38;5;132;01m%s\u001b[39;00m\u001b[38;5;124m returned \u001b[39m\u001b[38;5;132;01m%s\u001b[39;00m\u001b[38;5;124m due to \u001b[39m\u001b[38;5;132;01m%s\u001b[39;00m\u001b[38;5;124m'\u001b[39m,\n\u001b[1;32m    264\u001b[0m         method, url, args\u001b[38;5;241m.\u001b[39mget(\u001b[38;5;124m\"\u001b[39m\u001b[38;5;124mparams\u001b[39m\u001b[38;5;124m\"\u001b[39m), response\u001b[38;5;241m.\u001b[39mstatus_code, msg\n\u001b[1;32m    265\u001b[0m     )\n\u001b[0;32m--> 267\u001b[0m     \u001b[38;5;28;01mraise\u001b[39;00m SpotifyException(\n\u001b[1;32m    268\u001b[0m         response\u001b[38;5;241m.\u001b[39mstatus_code,\n\u001b[1;32m    269\u001b[0m         \u001b[38;5;241m-\u001b[39m\u001b[38;5;241m1\u001b[39m,\n\u001b[1;32m    270\u001b[0m         \u001b[38;5;124m\"\u001b[39m\u001b[38;5;132;01m%s\u001b[39;00m\u001b[38;5;124m:\u001b[39m\u001b[38;5;130;01m\\n\u001b[39;00m\u001b[38;5;124m \u001b[39m\u001b[38;5;132;01m%s\u001b[39;00m\u001b[38;5;124m\"\u001b[39m \u001b[38;5;241m%\u001b[39m (response\u001b[38;5;241m.\u001b[39murl, msg),\n\u001b[1;32m    271\u001b[0m         reason\u001b[38;5;241m=\u001b[39mreason,\n\u001b[1;32m    272\u001b[0m         headers\u001b[38;5;241m=\u001b[39mresponse\u001b[38;5;241m.\u001b[39mheaders,\n\u001b[1;32m    273\u001b[0m     )\n\u001b[1;32m    274\u001b[0m \u001b[38;5;28;01mexcept\u001b[39;00m requests\u001b[38;5;241m.\u001b[39mexceptions\u001b[38;5;241m.\u001b[39mRetryError \u001b[38;5;28;01mas\u001b[39;00m retry_error:\n\u001b[1;32m    275\u001b[0m     request \u001b[38;5;241m=\u001b[39m retry_error\u001b[38;5;241m.\u001b[39mrequest\n",
      "\u001b[0;31mSpotifyException\u001b[0m: http status: 401, code:-1 - https://api.spotify.com/v1/playlists/2NnjEropfPhacMUU1w6SYl/tracks:\n The access token expired, reason: None"
     ]
    }
   ],
   "source": [
    "sp.user_playlist_add_tracks(user='javi1025', \n",
    "                            playlist_id='2NnjEropfPhacMUU1w6SYl',\n",
    "                            tracks=links_rd, \n",
    "                            position=None)"
   ]
  },
  {
   "cell_type": "code",
   "execution_count": null,
   "id": "92573cc6",
   "metadata": {},
   "outputs": [],
   "source": []
  }
 ],
 "metadata": {
  "kernelspec": {
   "display_name": "Python 3 (ipykernel)",
   "language": "python",
   "name": "python3"
  },
  "language_info": {
   "codemirror_mode": {
    "name": "ipython",
    "version": 3
   },
   "file_extension": ".py",
   "mimetype": "text/x-python",
   "name": "python",
   "nbconvert_exporter": "python",
   "pygments_lexer": "ipython3",
   "version": "3.9.12"
  }
 },
 "nbformat": 4,
 "nbformat_minor": 5
}
