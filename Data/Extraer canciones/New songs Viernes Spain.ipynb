{
 "cells": [
  {
   "cell_type": "code",
   "execution_count": 1,
   "id": "9526ce95",
   "metadata": {},
   "outputs": [
    {
     "name": "stderr",
     "output_type": "stream",
     "text": [
      "2023-01-27 11:44:48,699 [12358] WARNING  py.warnings:109: [JupyterRequire] /Users/javi/opt/anaconda3/lib/python3.9/site-packages/scipy/__init__.py:146: UserWarning: A NumPy version >=1.16.5 and <1.23.0 is required for this version of SciPy (detected version 1.23.5\n",
      "  warnings.warn(f\"A NumPy version >={np_minversion} and <{np_maxversion}\"\n",
      "\n"
     ]
    }
   ],
   "source": [
    "import pandas as pd\n",
    "import spotipy\n",
    "from spotipy.oauth2 import SpotifyClientCredentials\n",
    "from spotipy.oauth2 import SpotifyOAuth\n",
    "from sklearn.preprocessing import LabelEncoder, OrdinalEncoder\n",
    "from sklearn.preprocessing import StandardScaler\n"
   ]
  },
  {
   "cell_type": "code",
   "execution_count": 2,
   "id": "b75faedc",
   "metadata": {},
   "outputs": [],
   "source": [
    "auth_manager = SpotifyClientCredentials('74c040f7ab8049648ec083fdadfc1ddb','a9fa947f1cde460bb37b94060380a6cb')\n",
    "sp = spotipy.Spotify(auth_manager=auth_manager)"
   ]
  },
  {
   "cell_type": "code",
   "execution_count": 3,
   "id": "261f6e54",
   "metadata": {},
   "outputs": [],
   "source": [
    "playlist_16_dec = 'https://open.spotify.com/playlist/37i9dQZF1DX6PYajiT4pAf'"
   ]
  },
  {
   "cell_type": "code",
   "execution_count": 4,
   "id": "8953abcf",
   "metadata": {},
   "outputs": [],
   "source": [
    "def spoti_info(playlist):\n",
    "    play = sp.playlist_tracks(playlist, fields=None, limit=100,\\\n",
    "                          offset=0, market=None, additional_types=('track', 'episode'))\n",
    "    links_track = []\n",
    "    for e in (play['items']):\n",
    "        links_track.append(e['track']['external_urls']['spotify'])\n",
    "    \n",
    "    audio_features = []\n",
    "    for e in links_track:\n",
    "        audio_features.append(sp.audio_features(e))\n",
    "    \n",
    "    track_song = []\n",
    "    for e in (play['items']):\n",
    "        track_song.append(e['track']['name'])\n",
    "    \n",
    "    artist_name = []\n",
    "    for e in (play['items']):\n",
    "        artist_name.append(e['track']['album']['artists'][0]['name'])\n",
    "    \n",
    "    audio_features=[e[0] for e in audio_features]\n",
    "    \n",
    "    datos_spotipy = pd.DataFrame(audio_features)\n",
    "    \n",
    "    datos_spotipy['artist_name'] = artist_name\n",
    "    \n",
    "    datos_spotipy['track_name'] = track_song\n",
    "    \n",
    "    datos_spotipy.drop(['type','id','uri','track_href','analysis_url','time_signature','key','mode'],axis=1, inplace=True)\n",
    "    \n",
    "    datos_spotipy=datos_spotipy.iloc[:, [10,11,1,0,2,4,3,6,7,8,9]]\n",
    "    \n",
    "    datos_spotipy.rename(columns = {'duration_ms':'duration'}, inplace = True)\n",
    "    \n",
    "    datos_spotipy['duration'] = (datos_spotipy['duration']/1000).round(2)\n",
    "\n",
    "\n",
    "\n",
    "\n",
    "\n",
    "    return datos_spotipy"
   ]
  },
  {
   "cell_type": "code",
   "execution_count": 5,
   "id": "32562f1d",
   "metadata": {},
   "outputs": [],
   "source": [
    "new_songs_sp = spoti_info(playlist_16_dec)"
   ]
  },
  {
   "cell_type": "code",
   "execution_count": 6,
   "id": "d73161cd",
   "metadata": {},
   "outputs": [
    {
     "data": {
      "text/html": [
       "<div>\n",
       "<style scoped>\n",
       "    .dataframe tbody tr th:only-of-type {\n",
       "        vertical-align: middle;\n",
       "    }\n",
       "\n",
       "    .dataframe tbody tr th {\n",
       "        vertical-align: top;\n",
       "    }\n",
       "\n",
       "    .dataframe thead th {\n",
       "        text-align: right;\n",
       "    }\n",
       "</style>\n",
       "<table border=\"1\" class=\"dataframe\">\n",
       "  <thead>\n",
       "    <tr style=\"text-align: right;\">\n",
       "      <th></th>\n",
       "      <th>artist_name</th>\n",
       "      <th>track_name</th>\n",
       "      <th>energy</th>\n",
       "      <th>danceability</th>\n",
       "      <th>loudness</th>\n",
       "      <th>acousticness</th>\n",
       "      <th>speechiness</th>\n",
       "      <th>liveness</th>\n",
       "      <th>valence</th>\n",
       "      <th>tempo</th>\n",
       "      <th>duration</th>\n",
       "    </tr>\n",
       "  </thead>\n",
       "  <tbody>\n",
       "    <tr>\n",
       "      <th>0</th>\n",
       "      <td>ROSALÍA</td>\n",
       "      <td>LLYLM</td>\n",
       "      <td>0.634</td>\n",
       "      <td>0.555</td>\n",
       "      <td>-5.522</td>\n",
       "      <td>0.1290</td>\n",
       "      <td>0.2730</td>\n",
       "      <td>0.1880</td>\n",
       "      <td>0.555</td>\n",
       "      <td>170.228</td>\n",
       "      <td>174.04</td>\n",
       "    </tr>\n",
       "    <tr>\n",
       "      <th>1</th>\n",
       "      <td>Rauw Alejandro</td>\n",
       "      <td>PANTIES Y BRASIERES</td>\n",
       "      <td>0.888</td>\n",
       "      <td>0.758</td>\n",
       "      <td>-2.851</td>\n",
       "      <td>0.3400</td>\n",
       "      <td>0.0706</td>\n",
       "      <td>0.1440</td>\n",
       "      <td>0.408</td>\n",
       "      <td>107.039</td>\n",
       "      <td>197.38</td>\n",
       "    </tr>\n",
       "    <tr>\n",
       "      <th>2</th>\n",
       "      <td>Marc Seguí</td>\n",
       "      <td>Plaza en el cielo</td>\n",
       "      <td>0.390</td>\n",
       "      <td>0.435</td>\n",
       "      <td>-6.818</td>\n",
       "      <td>0.0665</td>\n",
       "      <td>0.0449</td>\n",
       "      <td>0.2450</td>\n",
       "      <td>0.333</td>\n",
       "      <td>123.032</td>\n",
       "      <td>206.62</td>\n",
       "    </tr>\n",
       "    <tr>\n",
       "      <th>3</th>\n",
       "      <td>Daviles de Novelda</td>\n",
       "      <td>Te Miro A La Cara</td>\n",
       "      <td>0.782</td>\n",
       "      <td>0.575</td>\n",
       "      <td>-5.158</td>\n",
       "      <td>0.2160</td>\n",
       "      <td>0.0992</td>\n",
       "      <td>0.2720</td>\n",
       "      <td>0.869</td>\n",
       "      <td>85.126</td>\n",
       "      <td>142.90</td>\n",
       "    </tr>\n",
       "    <tr>\n",
       "      <th>4</th>\n",
       "      <td>Morad</td>\n",
       "      <td>Cuzi Cuza</td>\n",
       "      <td>0.652</td>\n",
       "      <td>0.799</td>\n",
       "      <td>-8.405</td>\n",
       "      <td>0.5940</td>\n",
       "      <td>0.0802</td>\n",
       "      <td>0.0991</td>\n",
       "      <td>0.609</td>\n",
       "      <td>129.995</td>\n",
       "      <td>167.86</td>\n",
       "    </tr>\n",
       "  </tbody>\n",
       "</table>\n",
       "</div>"
      ],
      "text/plain": [
       "          artist_name           track_name  energy  danceability  loudness  \\\n",
       "0             ROSALÍA                LLYLM   0.634         0.555    -5.522   \n",
       "1      Rauw Alejandro  PANTIES Y BRASIERES   0.888         0.758    -2.851   \n",
       "2          Marc Seguí    Plaza en el cielo   0.390         0.435    -6.818   \n",
       "3  Daviles de Novelda    Te Miro A La Cara   0.782         0.575    -5.158   \n",
       "4               Morad            Cuzi Cuza   0.652         0.799    -8.405   \n",
       "\n",
       "   acousticness  speechiness  liveness  valence    tempo  duration  \n",
       "0        0.1290       0.2730    0.1880    0.555  170.228    174.04  \n",
       "1        0.3400       0.0706    0.1440    0.408  107.039    197.38  \n",
       "2        0.0665       0.0449    0.2450    0.333  123.032    206.62  \n",
       "3        0.2160       0.0992    0.2720    0.869   85.126    142.90  \n",
       "4        0.5940       0.0802    0.0991    0.609  129.995    167.86  "
      ]
     },
     "execution_count": 6,
     "metadata": {},
     "output_type": "execute_result"
    }
   ],
   "source": [
    "new_songs_sp.head()"
   ]
  },
  {
   "cell_type": "code",
   "execution_count": null,
   "id": "983a4fa8",
   "metadata": {},
   "outputs": [],
   "source": [
    "datos_spotipy_sp.to_csv('../CSV_full/datos_proyecto_final.csv', index=False)"
   ]
  },
  {
   "cell_type": "code",
   "execution_count": 7,
   "id": "f4629ed0",
   "metadata": {},
   "outputs": [],
   "source": [
    "new_songs_sp_norm = new_songs_sp.copy()"
   ]
  },
  {
   "cell_type": "code",
   "execution_count": 8,
   "id": "923d6eed",
   "metadata": {},
   "outputs": [
    {
     "ename": "NameError",
     "evalue": "name 'datos_spotipy' is not defined",
     "output_type": "error",
     "traceback": [
      "\u001b[0;31m---------------------------------------------------------------------------\u001b[0m",
      "\u001b[0;31mNameError\u001b[0m                                 Traceback (most recent call last)",
      "Input \u001b[0;32mIn [8]\u001b[0m, in \u001b[0;36m<cell line: 1>\u001b[0;34m()\u001b[0m\n\u001b[0;32m----> 1\u001b[0m datos_spotipy_norm_sp \u001b[38;5;241m=\u001b[39m \u001b[43mdatos_spotipy\u001b[49m\u001b[38;5;241m.\u001b[39mcopy()\n",
      "\u001b[0;31mNameError\u001b[0m: name 'datos_spotipy' is not defined"
     ]
    }
   ],
   "source": [
    "datos_spotipy_norm_sp = datos_spotipy.copy()"
   ]
  },
  {
   "cell_type": "code",
   "execution_count": 9,
   "id": "ffeb347a",
   "metadata": {},
   "outputs": [],
   "source": [
    "new_songs_sp_norm['artist_name']=LabelEncoder().fit_transform(new_songs_sp_norm['artist_name'])\n"
   ]
  },
  {
   "cell_type": "code",
   "execution_count": 10,
   "id": "398ef08c",
   "metadata": {},
   "outputs": [],
   "source": [
    "scaler=StandardScaler()"
   ]
  },
  {
   "cell_type": "code",
   "execution_count": 11,
   "id": "f2e32ffd",
   "metadata": {},
   "outputs": [],
   "source": [
    "new_songs_sp_norm[['energy','danceability','loudness','acousticness','speechiness','liveness',\\\n",
    "                  'valence','tempo','duration',\n",
    "                    'artist_name']] = scaler.fit_transform(new_songs_sp_norm[['energy',\\\n",
    "                    'danceability','loudness','acousticness','speechiness','liveness',\\\n",
    "                  'valence','tempo','duration','artist_name']])"
   ]
  },
  {
   "cell_type": "code",
   "execution_count": 12,
   "id": "749d2c6d",
   "metadata": {},
   "outputs": [],
   "source": [
    "new_songs_sp_norm.drop(['track_name'],axis=1,inplace=True)"
   ]
  },
  {
   "cell_type": "code",
   "execution_count": 14,
   "id": "f33e5780",
   "metadata": {},
   "outputs": [
    {
     "data": {
      "text/html": [
       "<div>\n",
       "<style scoped>\n",
       "    .dataframe tbody tr th:only-of-type {\n",
       "        vertical-align: middle;\n",
       "    }\n",
       "\n",
       "    .dataframe tbody tr th {\n",
       "        vertical-align: top;\n",
       "    }\n",
       "\n",
       "    .dataframe thead th {\n",
       "        text-align: right;\n",
       "    }\n",
       "</style>\n",
       "<table border=\"1\" class=\"dataframe\">\n",
       "  <thead>\n",
       "    <tr style=\"text-align: right;\">\n",
       "      <th></th>\n",
       "      <th>artist_name</th>\n",
       "      <th>energy</th>\n",
       "      <th>danceability</th>\n",
       "      <th>loudness</th>\n",
       "      <th>acousticness</th>\n",
       "      <th>speechiness</th>\n",
       "      <th>liveness</th>\n",
       "      <th>valence</th>\n",
       "      <th>tempo</th>\n",
       "      <th>duration</th>\n",
       "    </tr>\n",
       "  </thead>\n",
       "  <tbody>\n",
       "    <tr>\n",
       "      <th>0</th>\n",
       "      <td>1.010503</td>\n",
       "      <td>-0.414687</td>\n",
       "      <td>-0.985834</td>\n",
       "      <td>0.173517</td>\n",
       "      <td>-0.445920</td>\n",
       "      <td>1.790725</td>\n",
       "      <td>0.263036</td>\n",
       "      <td>-0.007786</td>\n",
       "      <td>1.365852</td>\n",
       "      <td>-0.491923</td>\n",
       "    </tr>\n",
       "    <tr>\n",
       "      <th>1</th>\n",
       "      <td>1.183732</td>\n",
       "      <td>1.079009</td>\n",
       "      <td>0.696118</td>\n",
       "      <td>1.148513</td>\n",
       "      <td>0.409220</td>\n",
       "      <td>-0.424966</td>\n",
       "      <td>-0.194780</td>\n",
       "      <td>-0.762446</td>\n",
       "      <td>-0.778575</td>\n",
       "      <td>0.066234</td>\n",
       "    </tr>\n",
       "    <tr>\n",
       "      <th>2</th>\n",
       "      <td>0.433073</td>\n",
       "      <td>-1.849575</td>\n",
       "      <td>-1.980092</td>\n",
       "      <td>-0.299562</td>\n",
       "      <td>-0.699220</td>\n",
       "      <td>-0.706306</td>\n",
       "      <td>0.856116</td>\n",
       "      <td>-1.147477</td>\n",
       "      <td>-0.235825</td>\n",
       "      <td>0.287202</td>\n",
       "    </tr>\n",
       "    <tr>\n",
       "      <th>3</th>\n",
       "      <td>-0.952760</td>\n",
       "      <td>0.455655</td>\n",
       "      <td>-0.820124</td>\n",
       "      <td>0.306388</td>\n",
       "      <td>-0.093326</td>\n",
       "      <td>-0.111879</td>\n",
       "      <td>1.137049</td>\n",
       "      <td>1.604209</td>\n",
       "      <td>-1.522230</td>\n",
       "      <td>-1.236612</td>\n",
       "    </tr>\n",
       "    <tr>\n",
       "      <th>4</th>\n",
       "      <td>0.606302</td>\n",
       "      <td>-0.308834</td>\n",
       "      <td>1.035823</td>\n",
       "      <td>-0.878865</td>\n",
       "      <td>1.438631</td>\n",
       "      <td>-0.319874</td>\n",
       "      <td>-0.661961</td>\n",
       "      <td>0.269436</td>\n",
       "      <td>0.000476</td>\n",
       "      <td>-0.639713</td>\n",
       "    </tr>\n",
       "  </tbody>\n",
       "</table>\n",
       "</div>"
      ],
      "text/plain": [
       "   artist_name    energy  danceability  loudness  acousticness  speechiness  \\\n",
       "0     1.010503 -0.414687     -0.985834  0.173517     -0.445920     1.790725   \n",
       "1     1.183732  1.079009      0.696118  1.148513      0.409220    -0.424966   \n",
       "2     0.433073 -1.849575     -1.980092 -0.299562     -0.699220    -0.706306   \n",
       "3    -0.952760  0.455655     -0.820124  0.306388     -0.093326    -0.111879   \n",
       "4     0.606302 -0.308834      1.035823 -0.878865      1.438631    -0.319874   \n",
       "\n",
       "   liveness   valence     tempo  duration  \n",
       "0  0.263036 -0.007786  1.365852 -0.491923  \n",
       "1 -0.194780 -0.762446 -0.778575  0.066234  \n",
       "2  0.856116 -1.147477 -0.235825  0.287202  \n",
       "3  1.137049  1.604209 -1.522230 -1.236612  \n",
       "4 -0.661961  0.269436  0.000476 -0.639713  "
      ]
     },
     "execution_count": 14,
     "metadata": {},
     "output_type": "execute_result"
    }
   ],
   "source": [
    "new_songs_sp_norm.head()"
   ]
  },
  {
   "cell_type": "code",
   "execution_count": 15,
   "id": "584a125b",
   "metadata": {},
   "outputs": [],
   "source": [
    "new_songs_sp_norm.to_csv('../../Hackshow/new_songs_norml_sp.csv', index=False)"
   ]
  },
  {
   "cell_type": "code",
   "execution_count": 16,
   "id": "12361797",
   "metadata": {},
   "outputs": [],
   "source": [
    "new_songs_sp.to_csv('../../Hackshow/new_songs_sp.csv.csv', index=False)"
   ]
  },
  {
   "cell_type": "code",
   "execution_count": null,
   "id": "2d6139a7",
   "metadata": {},
   "outputs": [],
   "source": []
  }
 ],
 "metadata": {
  "kernelspec": {
   "display_name": "Python 3 (ipykernel)",
   "language": "python",
   "name": "python3"
  },
  "language_info": {
   "codemirror_mode": {
    "name": "ipython",
    "version": 3
   },
   "file_extension": ".py",
   "mimetype": "text/x-python",
   "name": "python",
   "nbconvert_exporter": "python",
   "pygments_lexer": "ipython3",
   "version": "3.9.12"
  }
 },
 "nbformat": 4,
 "nbformat_minor": 5
}
