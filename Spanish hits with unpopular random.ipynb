{
 "cells": [
  {
   "cell_type": "code",
   "execution_count": 4,
   "id": "9526ce95",
   "metadata": {},
   "outputs": [],
   "source": [
    "import pandas as pd\n",
    "import numpy as np\n",
    "pd.set_option('display.max_columns', None)\n",
    "import pylab as plt\n",
    "import seaborn as sns\n",
    "import re\n",
    "import warnings\n",
    "warnings.filterwarnings('ignore') \n",
    "#para que salga el grafico\n",
    "#pd.set_option('display.max_rows', None)\n",
    "from statistics import mean\n",
    "import pylab as plt\n",
    "from sklearn.preprocessing import StandardScaler\n",
    "\n",
    "from sklearn.svm import LinearSVC\n",
    "from sklearn.linear_model import SGDClassifier\n",
    "from sklearn.neural_network import MLPClassifier\n",
    "from sklearn.linear_model import Perceptron\n",
    "from sklearn.linear_model import LogisticRegression\n",
    "from sklearn.linear_model import LogisticRegressionCV\n",
    "from sklearn.svm import SVC\n",
    "from sklearn.calibration import CalibratedClassifierCV\n",
    "from sklearn.linear_model import PassiveAggressiveClassifier\n",
    "from sklearn.semi_supervised import LabelPropagation\n",
    "from sklearn.semi_supervised import LabelSpreading\n",
    "from sklearn.ensemble import RandomForestClassifier\n",
    "from sklearn.ensemble import GradientBoostingClassifier\n",
    "from sklearn.discriminant_analysis import QuadraticDiscriminantAnalysis\n",
    "from sklearn.ensemble import HistGradientBoostingClassifier\n",
    "from sklearn.linear_model import RidgeClassifierCV\n",
    "from sklearn.linear_model import RidgeClassifier\n",
    "from sklearn.ensemble import AdaBoostClassifier\n",
    "from sklearn.ensemble import ExtraTreesClassifier\n",
    "from sklearn.neighbors import KNeighborsClassifier\n",
    "from sklearn.ensemble import BaggingClassifier\n",
    "from sklearn.naive_bayes import BernoulliNB\n",
    "from sklearn.discriminant_analysis import LinearDiscriminantAnalysis\n",
    "from sklearn.naive_bayes import GaussianNB\n",
    "from sklearn.svm import NuSVC\n",
    "from sklearn.tree import DecisionTreeClassifier\n",
    "from sklearn.neighbors import NearestCentroid\n",
    "from sklearn.ensemble import ExtraTreesClassifier\n",
    "from sklearn.tree import ExtraTreeClassifier \n",
    "from sklearn.model_selection import train_test_split as tts   \n",
    "from sklearn.metrics import accuracy_score as acc\n",
    "from sklearn.metrics import f1_score as f1  \n",
    "\n",
    "import spotipy\n",
    "from spotipy.oauth2 import SpotifyClientCredentials\n",
    "from spotipy.oauth2 import SpotifyOAuth"
   ]
  },
  {
   "cell_type": "code",
   "execution_count": 5,
   "id": "b75faedc",
   "metadata": {},
   "outputs": [],
   "source": [
    "auth_manager = SpotifyClientCredentials('74c040f7ab8049648ec083fdadfc1ddb','a9fa947f1cde460bb37b94060380a6cb')\n",
    "sp = spotipy.Spotify(auth_manager=auth_manager)"
   ]
  },
  {
   "cell_type": "markdown",
   "id": "a4279d52",
   "metadata": {},
   "source": [
    "# Quiero hacer que la funcion saque directamente un unico dataframe con un bucle dentro pero no tengo claro como hacerlo !!!! PREGUNTAR EL LUNES!!!"
   ]
  },
  {
   "cell_type": "markdown",
   "id": "1f3827b4",
   "metadata": {},
   "source": [
    "## Importante 2018 y 2019 juntos en la misma playlist"
   ]
  },
  {
   "cell_type": "code",
   "execution_count": 11,
   "id": "261f6e54",
   "metadata": {},
   "outputs": [
    {
     "ename": "SyntaxError",
     "evalue": "invalid syntax (3577417956.py, line 1)",
     "output_type": "error",
     "traceback": [
      "\u001b[0;36m  Input \u001b[0;32mIn [11]\u001b[0;36m\u001b[0m\n\u001b[0;31m    playlist = [play_2000 ='https://open.spotify.com/playlist/37i9dQZF1DX4f5T2OF14nZ',\\\u001b[0m\n\u001b[0m                          ^\u001b[0m\n\u001b[0;31mSyntaxError\u001b[0m\u001b[0;31m:\u001b[0m invalid syntax\n"
     ]
    }
   ],
   "source": [
    "playlist = [play_2000 ='https://open.spotify.com/playlist/37i9dQZF1DX4f5T2OF14nZ',\\\n",
    "            play_2001 = 'https://open.spotify.com/playlist/37i9dQZF1DX8ri0Q7eg1qe',\\\n",
    "           play_2002 ='https://open.spotify.com/playlist/37i9dQZF1DXag6GMMWZSZ4',\\\n",
    "           play_2003 ='https://open.spotify.com/playlist/37i9dQZF1DX8EdanpjeYXD',\\\n",
    "           play_2004 = 'https://open.spotify.com/playlist/37i9dQZF1DX25bh4Tsdtts',\\\n",
    "           play_2005 = 'https://open.spotify.com/playlist/37i9dQZF1DXax0Fz6Uds7a',\\\n",
    "           play_2006 = 'https://open.spotify.com/playlist/37i9dQZF1DX0ywbtKZmG0E',\\\n",
    "           play_2007 = 'https://open.spotify.com/playlist/37i9dQZF1DXdHJoK6pY7Oh',\\\n",
    "           play_2008 = 'https://open.spotify.com/playlist/37i9dQZF1DWVBAKsA3f6Ck',\\\n",
    "           play_2009 = 'https://open.spotify.com/playlist/37i9dQZF1DX1bd6S1wAnbF',\\\n",
    "           play_2010='https://open.spotify.com/playlist/37i9dQZF1DX9zzf8V7JAQ5',\\\n",
    "           play_2011='https://open.spotify.com/playlist/37i9dQZF1DWVqckwNwncJY',\\\n",
    "           play_2012='https://open.spotify.com/playlist/37i9dQZF1DX0rX3xBmXrDn',\\\n",
    "           play_2013='https://open.spotify.com/playlist/37i9dQZF1DX5aHrtH3szCF',\\\n",
    "           play_2014 = 'https://open.spotify.com/playlist/37i9dQZF1DX5S2RzqA1qg6',\\\n",
    "           play_2015='https://open.spotify.com/playlist/37i9dQZF1DXcpG5daApEnA',\\\n",
    "           play_2016='https://open.spotify.com/playlist/37i9dQZF1CyQp1mdXCYxpR',\\\n",
    "           play_2017='https://open.spotify.com/playlist/37i9dQZF1DXaslEeaHwWLL',\\\n",
    "           play_20182019='https://open.spotify.com/playlist/0sVCLfAbcXb8dKif9QP3Ch',\\\n",
    "           play_2020 = 'https://open.spotify.com/playlist/2ErDoKVlOJMP5xKxyKmD6U',\\\n",
    "           play_2021 = 'https://open.spotify.com/playlist/5tntLMmmuZiPB2d41VsS4P',\\\n",
    "           play_2022'https://open.spotify.com/playlist/37i9dQZF1DXdo9iIZiH7LB']"
   ]
  },
  {
   "cell_type": "code",
   "execution_count": 12,
   "id": "09ca3580",
   "metadata": {},
   "outputs": [],
   "source": [
    "play_2000 ='https://open.spotify.com/playlist/37i9dQZF1DX4f5T2OF14nZ'\n",
    "play_2001 = 'https://open.spotify.com/playlist/37i9dQZF1DX8ri0Q7eg1qe'\n",
    "play_2002 ='https://open.spotify.com/playlist/37i9dQZF1DXag6GMMWZSZ4'\n",
    "play_2003 ='https://open.spotify.com/playlist/37i9dQZF1DX8EdanpjeYXD'\n",
    "play_2004 = 'https://open.spotify.com/playlist/37i9dQZF1DX25bh4Tsdtts'\n",
    "play_2005 = 'https://open.spotify.com/playlist/37i9dQZF1DXax0Fz6Uds7a'\n",
    "play_2006 = 'https://open.spotify.com/playlist/37i9dQZF1DX0ywbtKZmG0E'\n",
    "play_2007 = 'https://open.spotify.com/playlist/37i9dQZF1DXdHJoK6pY7Oh'\n",
    "play_2008 = 'https://open.spotify.com/playlist/37i9dQZF1DWVBAKsA3f6Ck'\n",
    "play_2009 = 'https://open.spotify.com/playlist/37i9dQZF1DX1bd6S1wAnbF'\n",
    "play_2010='https://open.spotify.com/playlist/37i9dQZF1DX9zzf8V7JAQ5'\n",
    "play_2011='https://open.spotify.com/playlist/37i9dQZF1DWVqckwNwncJY'\n",
    "play_2012='https://open.spotify.com/playlist/37i9dQZF1DX0rX3xBmXrDn'\n",
    "play_2013='https://open.spotify.com/playlist/37i9dQZF1DX5aHrtH3szCF'\n",
    "play_2014 = 'https://open.spotify.com/playlist/37i9dQZF1DX5S2RzqA1qg6'\n",
    "play_2015='https://open.spotify.com/playlist/37i9dQZF1DXcpG5daApEnA'\n",
    "play_2016='https://open.spotify.com/playlist/37i9dQZF1CyQp1mdXCYxpR'\n",
    "play_2017='https://open.spotify.com/playlist/37i9dQZF1DXaslEeaHwWLL'\n",
    "play_20182019='https://open.spotify.com/playlist/0sVCLfAbcXb8dKif9QP3Ch'\n",
    "play_2020 = 'https://open.spotify.com/playlist/2ErDoKVlOJMP5xKxyKmD6U'\n",
    "play_2021 = 'https://open.spotify.com/playlist/5tntLMmmuZiPB2d41VsS4P'\n",
    "play_2022 = 'https://open.spotify.com/playlist/37i9dQZF1DXdo9iIZiH7LB'"
   ]
  },
  {
   "cell_type": "code",
   "execution_count": 9,
   "id": "4ddcb1f1",
   "metadata": {},
   "outputs": [],
   "source": [
    "def spoti_info(playlist):\n",
    "    play = sp.playlist_tracks(playlist, fields=None, limit=100,\\\n",
    "                          offset=0, market=None, additional_types=('track', 'episode'))\n",
    "    links_track = []\n",
    "    for e in (play['items']):\n",
    "        links_track.append(e['track']['external_urls']['spotify'])\n",
    "    \n",
    "    audio_features = []\n",
    "    for e in links_track:\n",
    "        audio_features.append(sp.audio_features(e))\n",
    "    \n",
    "    track_song = []\n",
    "    for e in (play['items']):\n",
    "        track_song.append(e['track']['name'])\n",
    "    \n",
    "    artist_name = []\n",
    "    for e in (play['items']):\n",
    "        artist_name.append(e['track']['album']['artists'][0]['name'])\n",
    "    \n",
    "    audio_features=[e[0] for e in audio_features]\n",
    "    \n",
    "    datos_spotipy = pd.DataFrame(audio_features)\n",
    "    \n",
    "    datos_spotipy['artist_name'] = artist_name\n",
    "    \n",
    "    datos_spotipy['track_name'] = track_song\n",
    "    \n",
    "    datos_spotipy.drop(['type','id','uri','track_href','analysis_url','time_signature','key','mode'],axis=1, inplace=True)\n",
    "    \n",
    "    datos_spotipy=datos_spotipy.iloc[:, [10,11,1,0,2,4,3,6,7,8,9]]\n",
    "    \n",
    "    datos_spotipy.rename(columns = {'duration_ms':'duration'}, inplace = True)\n",
    "    \n",
    "    datos_spotipy['duration'] = (datos_spotipy['duration']/1000).round(2)\n",
    "\n",
    "\n",
    "\n",
    "\n",
    "\n",
    "    return datos_spotipy"
   ]
  },
  {
   "cell_type": "code",
   "execution_count": 10,
   "id": "1f555b3a",
   "metadata": {},
   "outputs": [
    {
     "ename": "NameError",
     "evalue": "name 'playlist' is not defined",
     "output_type": "error",
     "traceback": [
      "\u001b[0;31m---------------------------------------------------------------------------\u001b[0m",
      "\u001b[0;31mNameError\u001b[0m                                 Traceback (most recent call last)",
      "Input \u001b[0;32mIn [10]\u001b[0m, in \u001b[0;36m<cell line: 1>\u001b[0;34m()\u001b[0m\n\u001b[0;32m----> 1\u001b[0m pd\u001b[38;5;241m.\u001b[39mconcat([spoti_info(playlist[\u001b[38;5;124mf\u001b[39m\u001b[38;5;124m'\u001b[39m\u001b[38;5;124mplay_200\u001b[39m\u001b[38;5;132;01m{\u001b[39;00mi\u001b[38;5;132;01m}\u001b[39;00m\u001b[38;5;124m'\u001b[39m]) \u001b[38;5;28;01mfor\u001b[39;00m i \u001b[38;5;129;01min\u001b[39;00m \u001b[38;5;28mrange\u001b[39m(\u001b[38;5;241m10\u001b[39m)])\n",
      "Input \u001b[0;32mIn [10]\u001b[0m, in \u001b[0;36m<listcomp>\u001b[0;34m(.0)\u001b[0m\n\u001b[0;32m----> 1\u001b[0m pd\u001b[38;5;241m.\u001b[39mconcat([spoti_info(\u001b[43mplaylist\u001b[49m[\u001b[38;5;124mf\u001b[39m\u001b[38;5;124m'\u001b[39m\u001b[38;5;124mplay_200\u001b[39m\u001b[38;5;132;01m{\u001b[39;00mi\u001b[38;5;132;01m}\u001b[39;00m\u001b[38;5;124m'\u001b[39m]) \u001b[38;5;28;01mfor\u001b[39;00m i \u001b[38;5;129;01min\u001b[39;00m \u001b[38;5;28mrange\u001b[39m(\u001b[38;5;241m10\u001b[39m)])\n",
      "\u001b[0;31mNameError\u001b[0m: name 'playlist' is not defined"
     ]
    }
   ],
   "source": [
    "pd.concat([spoti_info(playlist[f'play_200{i}']) for i in range(10)])"
   ]
  },
  {
   "cell_type": "code",
   "execution_count": 13,
   "id": "0e76279a",
   "metadata": {},
   "outputs": [],
   "source": [
    "p2000 = spoti_info(play_2000)"
   ]
  },
  {
   "cell_type": "code",
   "execution_count": 14,
   "id": "7706949f",
   "metadata": {},
   "outputs": [],
   "source": [
    "p2001 = spoti_info(play_2001)"
   ]
  },
  {
   "cell_type": "code",
   "execution_count": 15,
   "id": "25902a51",
   "metadata": {},
   "outputs": [
    {
     "ename": "KeyboardInterrupt",
     "evalue": "",
     "output_type": "error",
     "traceback": [
      "\u001b[0;31m---------------------------------------------------------------------------\u001b[0m",
      "\u001b[0;31mKeyboardInterrupt\u001b[0m                         Traceback (most recent call last)",
      "Input \u001b[0;32mIn [15]\u001b[0m, in \u001b[0;36m<cell line: 1>\u001b[0;34m()\u001b[0m\n\u001b[0;32m----> 1\u001b[0m p2002 \u001b[38;5;241m=\u001b[39m \u001b[43mspoti_info\u001b[49m\u001b[43m(\u001b[49m\u001b[43mplay_2002\u001b[49m\u001b[43m)\u001b[49m\n",
      "Input \u001b[0;32mIn [9]\u001b[0m, in \u001b[0;36mspoti_info\u001b[0;34m(playlist)\u001b[0m\n\u001b[1;32m      8\u001b[0m audio_features \u001b[38;5;241m=\u001b[39m []\n\u001b[1;32m      9\u001b[0m \u001b[38;5;28;01mfor\u001b[39;00m e \u001b[38;5;129;01min\u001b[39;00m links_track:\n\u001b[0;32m---> 10\u001b[0m     audio_features\u001b[38;5;241m.\u001b[39mappend(\u001b[43msp\u001b[49m\u001b[38;5;241;43m.\u001b[39;49m\u001b[43maudio_features\u001b[49m\u001b[43m(\u001b[49m\u001b[43me\u001b[49m\u001b[43m)\u001b[49m)\n\u001b[1;32m     12\u001b[0m track_song \u001b[38;5;241m=\u001b[39m []\n\u001b[1;32m     13\u001b[0m \u001b[38;5;28;01mfor\u001b[39;00m e \u001b[38;5;129;01min\u001b[39;00m (play[\u001b[38;5;124m'\u001b[39m\u001b[38;5;124mitems\u001b[39m\u001b[38;5;124m'\u001b[39m]):\n",
      "File \u001b[0;32m~/opt/anaconda3/lib/python3.9/site-packages/spotipy/client.py:1689\u001b[0m, in \u001b[0;36mSpotify.audio_features\u001b[0;34m(self, tracks)\u001b[0m\n\u001b[1;32m   1687\u001b[0m \u001b[38;5;28;01mif\u001b[39;00m \u001b[38;5;28misinstance\u001b[39m(tracks, \u001b[38;5;28mstr\u001b[39m):\n\u001b[1;32m   1688\u001b[0m     trackid \u001b[38;5;241m=\u001b[39m \u001b[38;5;28mself\u001b[39m\u001b[38;5;241m.\u001b[39m_get_id(\u001b[38;5;124m\"\u001b[39m\u001b[38;5;124mtrack\u001b[39m\u001b[38;5;124m\"\u001b[39m, tracks)\n\u001b[0;32m-> 1689\u001b[0m     results \u001b[38;5;241m=\u001b[39m \u001b[38;5;28;43mself\u001b[39;49m\u001b[38;5;241;43m.\u001b[39;49m\u001b[43m_get\u001b[49m\u001b[43m(\u001b[49m\u001b[38;5;124;43m\"\u001b[39;49m\u001b[38;5;124;43maudio-features/?ids=\u001b[39;49m\u001b[38;5;124;43m\"\u001b[39;49m\u001b[43m \u001b[49m\u001b[38;5;241;43m+\u001b[39;49m\u001b[43m \u001b[49m\u001b[43mtrackid\u001b[49m\u001b[43m)\u001b[49m\n\u001b[1;32m   1690\u001b[0m \u001b[38;5;28;01melse\u001b[39;00m:\n\u001b[1;32m   1691\u001b[0m     tlist \u001b[38;5;241m=\u001b[39m [\u001b[38;5;28mself\u001b[39m\u001b[38;5;241m.\u001b[39m_get_id(\u001b[38;5;124m\"\u001b[39m\u001b[38;5;124mtrack\u001b[39m\u001b[38;5;124m\"\u001b[39m, t) \u001b[38;5;28;01mfor\u001b[39;00m t \u001b[38;5;129;01min\u001b[39;00m tracks]\n",
      "File \u001b[0;32m~/opt/anaconda3/lib/python3.9/site-packages/spotipy/client.py:297\u001b[0m, in \u001b[0;36mSpotify._get\u001b[0;34m(self, url, args, payload, **kwargs)\u001b[0m\n\u001b[1;32m    294\u001b[0m \u001b[38;5;28;01mif\u001b[39;00m args:\n\u001b[1;32m    295\u001b[0m     kwargs\u001b[38;5;241m.\u001b[39mupdate(args)\n\u001b[0;32m--> 297\u001b[0m \u001b[38;5;28;01mreturn\u001b[39;00m \u001b[38;5;28;43mself\u001b[39;49m\u001b[38;5;241;43m.\u001b[39;49m\u001b[43m_internal_call\u001b[49m\u001b[43m(\u001b[49m\u001b[38;5;124;43m\"\u001b[39;49m\u001b[38;5;124;43mGET\u001b[39;49m\u001b[38;5;124;43m\"\u001b[39;49m\u001b[43m,\u001b[49m\u001b[43m \u001b[49m\u001b[43murl\u001b[49m\u001b[43m,\u001b[49m\u001b[43m \u001b[49m\u001b[43mpayload\u001b[49m\u001b[43m,\u001b[49m\u001b[43m \u001b[49m\u001b[43mkwargs\u001b[49m\u001b[43m)\u001b[49m\n",
      "File \u001b[0;32m~/opt/anaconda3/lib/python3.9/site-packages/spotipy/client.py:240\u001b[0m, in \u001b[0;36mSpotify._internal_call\u001b[0;34m(self, method, url, payload, params)\u001b[0m\n\u001b[1;32m    236\u001b[0m logger\u001b[38;5;241m.\u001b[39mdebug(\u001b[38;5;124m'\u001b[39m\u001b[38;5;124mSending \u001b[39m\u001b[38;5;132;01m%s\u001b[39;00m\u001b[38;5;124m to \u001b[39m\u001b[38;5;132;01m%s\u001b[39;00m\u001b[38;5;124m with Params: \u001b[39m\u001b[38;5;132;01m%s\u001b[39;00m\u001b[38;5;124m Headers: \u001b[39m\u001b[38;5;132;01m%s\u001b[39;00m\u001b[38;5;124m and Body: \u001b[39m\u001b[38;5;132;01m%r\u001b[39;00m\u001b[38;5;124m \u001b[39m\u001b[38;5;124m'\u001b[39m,\n\u001b[1;32m    237\u001b[0m              method, url, args\u001b[38;5;241m.\u001b[39mget(\u001b[38;5;124m\"\u001b[39m\u001b[38;5;124mparams\u001b[39m\u001b[38;5;124m\"\u001b[39m), headers, args\u001b[38;5;241m.\u001b[39mget(\u001b[38;5;124m'\u001b[39m\u001b[38;5;124mdata\u001b[39m\u001b[38;5;124m'\u001b[39m))\n\u001b[1;32m    239\u001b[0m \u001b[38;5;28;01mtry\u001b[39;00m:\n\u001b[0;32m--> 240\u001b[0m     response \u001b[38;5;241m=\u001b[39m \u001b[38;5;28;43mself\u001b[39;49m\u001b[38;5;241;43m.\u001b[39;49m\u001b[43m_session\u001b[49m\u001b[38;5;241;43m.\u001b[39;49m\u001b[43mrequest\u001b[49m\u001b[43m(\u001b[49m\n\u001b[1;32m    241\u001b[0m \u001b[43m        \u001b[49m\u001b[43mmethod\u001b[49m\u001b[43m,\u001b[49m\u001b[43m \u001b[49m\u001b[43murl\u001b[49m\u001b[43m,\u001b[49m\u001b[43m \u001b[49m\u001b[43mheaders\u001b[49m\u001b[38;5;241;43m=\u001b[39;49m\u001b[43mheaders\u001b[49m\u001b[43m,\u001b[49m\u001b[43m \u001b[49m\u001b[43mproxies\u001b[49m\u001b[38;5;241;43m=\u001b[39;49m\u001b[38;5;28;43mself\u001b[39;49m\u001b[38;5;241;43m.\u001b[39;49m\u001b[43mproxies\u001b[49m\u001b[43m,\u001b[49m\n\u001b[1;32m    242\u001b[0m \u001b[43m        \u001b[49m\u001b[43mtimeout\u001b[49m\u001b[38;5;241;43m=\u001b[39;49m\u001b[38;5;28;43mself\u001b[39;49m\u001b[38;5;241;43m.\u001b[39;49m\u001b[43mrequests_timeout\u001b[49m\u001b[43m,\u001b[49m\u001b[43m \u001b[49m\u001b[38;5;241;43m*\u001b[39;49m\u001b[38;5;241;43m*\u001b[39;49m\u001b[43margs\u001b[49m\n\u001b[1;32m    243\u001b[0m \u001b[43m    \u001b[49m\u001b[43m)\u001b[49m\n\u001b[1;32m    245\u001b[0m     response\u001b[38;5;241m.\u001b[39mraise_for_status()\n\u001b[1;32m    246\u001b[0m     results \u001b[38;5;241m=\u001b[39m response\u001b[38;5;241m.\u001b[39mjson()\n",
      "File \u001b[0;32m~/opt/anaconda3/lib/python3.9/site-packages/requests/sessions.py:529\u001b[0m, in \u001b[0;36mSession.request\u001b[0;34m(self, method, url, params, data, headers, cookies, files, auth, timeout, allow_redirects, proxies, hooks, stream, verify, cert, json)\u001b[0m\n\u001b[1;32m    524\u001b[0m send_kwargs \u001b[38;5;241m=\u001b[39m {\n\u001b[1;32m    525\u001b[0m     \u001b[38;5;124m'\u001b[39m\u001b[38;5;124mtimeout\u001b[39m\u001b[38;5;124m'\u001b[39m: timeout,\n\u001b[1;32m    526\u001b[0m     \u001b[38;5;124m'\u001b[39m\u001b[38;5;124mallow_redirects\u001b[39m\u001b[38;5;124m'\u001b[39m: allow_redirects,\n\u001b[1;32m    527\u001b[0m }\n\u001b[1;32m    528\u001b[0m send_kwargs\u001b[38;5;241m.\u001b[39mupdate(settings)\n\u001b[0;32m--> 529\u001b[0m resp \u001b[38;5;241m=\u001b[39m \u001b[38;5;28;43mself\u001b[39;49m\u001b[38;5;241;43m.\u001b[39;49m\u001b[43msend\u001b[49m\u001b[43m(\u001b[49m\u001b[43mprep\u001b[49m\u001b[43m,\u001b[49m\u001b[43m \u001b[49m\u001b[38;5;241;43m*\u001b[39;49m\u001b[38;5;241;43m*\u001b[39;49m\u001b[43msend_kwargs\u001b[49m\u001b[43m)\u001b[49m\n\u001b[1;32m    531\u001b[0m \u001b[38;5;28;01mreturn\u001b[39;00m resp\n",
      "File \u001b[0;32m~/opt/anaconda3/lib/python3.9/site-packages/requests/sessions.py:645\u001b[0m, in \u001b[0;36mSession.send\u001b[0;34m(self, request, **kwargs)\u001b[0m\n\u001b[1;32m    642\u001b[0m start \u001b[38;5;241m=\u001b[39m preferred_clock()\n\u001b[1;32m    644\u001b[0m \u001b[38;5;66;03m# Send the request\u001b[39;00m\n\u001b[0;32m--> 645\u001b[0m r \u001b[38;5;241m=\u001b[39m \u001b[43madapter\u001b[49m\u001b[38;5;241;43m.\u001b[39;49m\u001b[43msend\u001b[49m\u001b[43m(\u001b[49m\u001b[43mrequest\u001b[49m\u001b[43m,\u001b[49m\u001b[43m \u001b[49m\u001b[38;5;241;43m*\u001b[39;49m\u001b[38;5;241;43m*\u001b[39;49m\u001b[43mkwargs\u001b[49m\u001b[43m)\u001b[49m\n\u001b[1;32m    647\u001b[0m \u001b[38;5;66;03m# Total elapsed time of the request (approximately)\u001b[39;00m\n\u001b[1;32m    648\u001b[0m elapsed \u001b[38;5;241m=\u001b[39m preferred_clock() \u001b[38;5;241m-\u001b[39m start\n",
      "File \u001b[0;32m~/opt/anaconda3/lib/python3.9/site-packages/requests/adapters.py:440\u001b[0m, in \u001b[0;36mHTTPAdapter.send\u001b[0;34m(self, request, stream, timeout, verify, cert, proxies)\u001b[0m\n\u001b[1;32m    438\u001b[0m \u001b[38;5;28;01mtry\u001b[39;00m:\n\u001b[1;32m    439\u001b[0m     \u001b[38;5;28;01mif\u001b[39;00m \u001b[38;5;129;01mnot\u001b[39;00m chunked:\n\u001b[0;32m--> 440\u001b[0m         resp \u001b[38;5;241m=\u001b[39m \u001b[43mconn\u001b[49m\u001b[38;5;241;43m.\u001b[39;49m\u001b[43murlopen\u001b[49m\u001b[43m(\u001b[49m\n\u001b[1;32m    441\u001b[0m \u001b[43m            \u001b[49m\u001b[43mmethod\u001b[49m\u001b[38;5;241;43m=\u001b[39;49m\u001b[43mrequest\u001b[49m\u001b[38;5;241;43m.\u001b[39;49m\u001b[43mmethod\u001b[49m\u001b[43m,\u001b[49m\n\u001b[1;32m    442\u001b[0m \u001b[43m            \u001b[49m\u001b[43murl\u001b[49m\u001b[38;5;241;43m=\u001b[39;49m\u001b[43murl\u001b[49m\u001b[43m,\u001b[49m\n\u001b[1;32m    443\u001b[0m \u001b[43m            \u001b[49m\u001b[43mbody\u001b[49m\u001b[38;5;241;43m=\u001b[39;49m\u001b[43mrequest\u001b[49m\u001b[38;5;241;43m.\u001b[39;49m\u001b[43mbody\u001b[49m\u001b[43m,\u001b[49m\n\u001b[1;32m    444\u001b[0m \u001b[43m            \u001b[49m\u001b[43mheaders\u001b[49m\u001b[38;5;241;43m=\u001b[39;49m\u001b[43mrequest\u001b[49m\u001b[38;5;241;43m.\u001b[39;49m\u001b[43mheaders\u001b[49m\u001b[43m,\u001b[49m\n\u001b[1;32m    445\u001b[0m \u001b[43m            \u001b[49m\u001b[43mredirect\u001b[49m\u001b[38;5;241;43m=\u001b[39;49m\u001b[38;5;28;43;01mFalse\u001b[39;49;00m\u001b[43m,\u001b[49m\n\u001b[1;32m    446\u001b[0m \u001b[43m            \u001b[49m\u001b[43massert_same_host\u001b[49m\u001b[38;5;241;43m=\u001b[39;49m\u001b[38;5;28;43;01mFalse\u001b[39;49;00m\u001b[43m,\u001b[49m\n\u001b[1;32m    447\u001b[0m \u001b[43m            \u001b[49m\u001b[43mpreload_content\u001b[49m\u001b[38;5;241;43m=\u001b[39;49m\u001b[38;5;28;43;01mFalse\u001b[39;49;00m\u001b[43m,\u001b[49m\n\u001b[1;32m    448\u001b[0m \u001b[43m            \u001b[49m\u001b[43mdecode_content\u001b[49m\u001b[38;5;241;43m=\u001b[39;49m\u001b[38;5;28;43;01mFalse\u001b[39;49;00m\u001b[43m,\u001b[49m\n\u001b[1;32m    449\u001b[0m \u001b[43m            \u001b[49m\u001b[43mretries\u001b[49m\u001b[38;5;241;43m=\u001b[39;49m\u001b[38;5;28;43mself\u001b[39;49m\u001b[38;5;241;43m.\u001b[39;49m\u001b[43mmax_retries\u001b[49m\u001b[43m,\u001b[49m\n\u001b[1;32m    450\u001b[0m \u001b[43m            \u001b[49m\u001b[43mtimeout\u001b[49m\u001b[38;5;241;43m=\u001b[39;49m\u001b[43mtimeout\u001b[49m\n\u001b[1;32m    451\u001b[0m \u001b[43m        \u001b[49m\u001b[43m)\u001b[49m\n\u001b[1;32m    453\u001b[0m     \u001b[38;5;66;03m# Send the request.\u001b[39;00m\n\u001b[1;32m    454\u001b[0m     \u001b[38;5;28;01melse\u001b[39;00m:\n\u001b[1;32m    455\u001b[0m         \u001b[38;5;28;01mif\u001b[39;00m \u001b[38;5;28mhasattr\u001b[39m(conn, \u001b[38;5;124m'\u001b[39m\u001b[38;5;124mproxy_pool\u001b[39m\u001b[38;5;124m'\u001b[39m):\n",
      "File \u001b[0;32m~/opt/anaconda3/lib/python3.9/site-packages/urllib3/connectionpool.py:874\u001b[0m, in \u001b[0;36mHTTPConnectionPool.urlopen\u001b[0;34m(self, method, url, body, headers, retries, redirect, assert_same_host, timeout, pool_timeout, release_conn, chunked, body_pos, **response_kw)\u001b[0m\n\u001b[1;32m    871\u001b[0m     \u001b[38;5;28;01mreturn\u001b[39;00m response\n\u001b[1;32m    873\u001b[0m response\u001b[38;5;241m.\u001b[39mdrain_conn()\n\u001b[0;32m--> 874\u001b[0m \u001b[43mretries\u001b[49m\u001b[38;5;241;43m.\u001b[39;49m\u001b[43msleep\u001b[49m\u001b[43m(\u001b[49m\u001b[43mresponse\u001b[49m\u001b[43m)\u001b[49m\n\u001b[1;32m    875\u001b[0m log\u001b[38;5;241m.\u001b[39mdebug(\u001b[38;5;124m\"\u001b[39m\u001b[38;5;124mRetry: \u001b[39m\u001b[38;5;132;01m%s\u001b[39;00m\u001b[38;5;124m\"\u001b[39m, url)\n\u001b[1;32m    876\u001b[0m \u001b[38;5;28;01mreturn\u001b[39;00m \u001b[38;5;28mself\u001b[39m\u001b[38;5;241m.\u001b[39murlopen(\n\u001b[1;32m    877\u001b[0m     method,\n\u001b[1;32m    878\u001b[0m     url,\n\u001b[0;32m   (...)\u001b[0m\n\u001b[1;32m    889\u001b[0m     \u001b[38;5;241m*\u001b[39m\u001b[38;5;241m*\u001b[39mresponse_kw\n\u001b[1;32m    890\u001b[0m )\n",
      "File \u001b[0;32m~/opt/anaconda3/lib/python3.9/site-packages/urllib3/util/retry.py:428\u001b[0m, in \u001b[0;36mRetry.sleep\u001b[0;34m(self, response)\u001b[0m\n\u001b[1;32m    419\u001b[0m \u001b[38;5;124;03m\"\"\"Sleep between retry attempts.\u001b[39;00m\n\u001b[1;32m    420\u001b[0m \n\u001b[1;32m    421\u001b[0m \u001b[38;5;124;03mThis method will respect a server's ``Retry-After`` response header\u001b[39;00m\n\u001b[0;32m   (...)\u001b[0m\n\u001b[1;32m    424\u001b[0m \u001b[38;5;124;03mthis method will return immediately.\u001b[39;00m\n\u001b[1;32m    425\u001b[0m \u001b[38;5;124;03m\"\"\"\u001b[39;00m\n\u001b[1;32m    427\u001b[0m \u001b[38;5;28;01mif\u001b[39;00m \u001b[38;5;28mself\u001b[39m\u001b[38;5;241m.\u001b[39mrespect_retry_after_header \u001b[38;5;129;01mand\u001b[39;00m response:\n\u001b[0;32m--> 428\u001b[0m     slept \u001b[38;5;241m=\u001b[39m \u001b[38;5;28;43mself\u001b[39;49m\u001b[38;5;241;43m.\u001b[39;49m\u001b[43msleep_for_retry\u001b[49m\u001b[43m(\u001b[49m\u001b[43mresponse\u001b[49m\u001b[43m)\u001b[49m\n\u001b[1;32m    429\u001b[0m     \u001b[38;5;28;01mif\u001b[39;00m slept:\n\u001b[1;32m    430\u001b[0m         \u001b[38;5;28;01mreturn\u001b[39;00m\n",
      "File \u001b[0;32m~/opt/anaconda3/lib/python3.9/site-packages/urllib3/util/retry.py:407\u001b[0m, in \u001b[0;36mRetry.sleep_for_retry\u001b[0;34m(self, response)\u001b[0m\n\u001b[1;32m    405\u001b[0m retry_after \u001b[38;5;241m=\u001b[39m \u001b[38;5;28mself\u001b[39m\u001b[38;5;241m.\u001b[39mget_retry_after(response)\n\u001b[1;32m    406\u001b[0m \u001b[38;5;28;01mif\u001b[39;00m retry_after:\n\u001b[0;32m--> 407\u001b[0m     \u001b[43mtime\u001b[49m\u001b[38;5;241;43m.\u001b[39;49m\u001b[43msleep\u001b[49m\u001b[43m(\u001b[49m\u001b[43mretry_after\u001b[49m\u001b[43m)\u001b[49m\n\u001b[1;32m    408\u001b[0m     \u001b[38;5;28;01mreturn\u001b[39;00m \u001b[38;5;28;01mTrue\u001b[39;00m\n\u001b[1;32m    410\u001b[0m \u001b[38;5;28;01mreturn\u001b[39;00m \u001b[38;5;28;01mFalse\u001b[39;00m\n",
      "\u001b[0;31mKeyboardInterrupt\u001b[0m: "
     ]
    }
   ],
   "source": [
    "p2002 = spoti_info(play_2002)"
   ]
  },
  {
   "cell_type": "code",
   "execution_count": null,
   "id": "d2d03058",
   "metadata": {},
   "outputs": [],
   "source": [
    "p2003 = spoti_info(play_2003)"
   ]
  },
  {
   "cell_type": "code",
   "execution_count": null,
   "id": "954e5f4c",
   "metadata": {},
   "outputs": [],
   "source": [
    "p2004 = spoti_info(play_2004)"
   ]
  },
  {
   "cell_type": "code",
   "execution_count": null,
   "id": "1a92ad79",
   "metadata": {},
   "outputs": [],
   "source": [
    "p2005 = spoti_info(play_2005)"
   ]
  },
  {
   "cell_type": "code",
   "execution_count": null,
   "id": "8e34b3e7",
   "metadata": {},
   "outputs": [],
   "source": [
    "p2006 = spoti_info(play_2006)"
   ]
  },
  {
   "cell_type": "code",
   "execution_count": null,
   "id": "64d4b995",
   "metadata": {},
   "outputs": [],
   "source": [
    "p2007 = spoti_info(play_2007)"
   ]
  },
  {
   "cell_type": "code",
   "execution_count": null,
   "id": "1ea38865",
   "metadata": {},
   "outputs": [],
   "source": [
    "p2008 = spoti_info(play_2008)"
   ]
  },
  {
   "cell_type": "code",
   "execution_count": null,
   "id": "59d94d75",
   "metadata": {},
   "outputs": [],
   "source": [
    "p2009 = spoti_info(play_2009)"
   ]
  },
  {
   "cell_type": "code",
   "execution_count": null,
   "id": "0a4e23a2",
   "metadata": {},
   "outputs": [],
   "source": [
    "p2010 = spoti_info(play_2010)"
   ]
  },
  {
   "cell_type": "code",
   "execution_count": null,
   "id": "9681b724",
   "metadata": {},
   "outputs": [],
   "source": [
    "p2011 = spoti_info(play_2011)"
   ]
  },
  {
   "cell_type": "code",
   "execution_count": null,
   "id": "6962595e",
   "metadata": {},
   "outputs": [],
   "source": [
    "p2012 = spoti_info(play_2012)"
   ]
  },
  {
   "cell_type": "code",
   "execution_count": null,
   "id": "3ffc3117",
   "metadata": {},
   "outputs": [],
   "source": [
    "p2013 = spoti_info(play_2013)"
   ]
  },
  {
   "cell_type": "code",
   "execution_count": null,
   "id": "491e1057",
   "metadata": {},
   "outputs": [],
   "source": [
    "p2014 = spoti_info(play_2014)"
   ]
  },
  {
   "cell_type": "code",
   "execution_count": null,
   "id": "c588c6dc",
   "metadata": {},
   "outputs": [],
   "source": [
    "p2015 = spoti_info(play_2015)"
   ]
  },
  {
   "cell_type": "code",
   "execution_count": null,
   "id": "55fe6c33",
   "metadata": {},
   "outputs": [],
   "source": [
    "p2016 = spoti_info(play_2016)"
   ]
  },
  {
   "cell_type": "code",
   "execution_count": null,
   "id": "ac3823dc",
   "metadata": {},
   "outputs": [],
   "source": [
    "p2017 = spoti_info(play_2017)"
   ]
  },
  {
   "cell_type": "code",
   "execution_count": null,
   "id": "f4f1a3f3",
   "metadata": {},
   "outputs": [],
   "source": [
    "p20182019 = spoti_info(play_20182019)"
   ]
  },
  {
   "cell_type": "code",
   "execution_count": null,
   "id": "db88ba3b",
   "metadata": {},
   "outputs": [],
   "source": [
    "p2020 = spoti_info(play_2020)"
   ]
  },
  {
   "cell_type": "code",
   "execution_count": null,
   "id": "178074a4",
   "metadata": {},
   "outputs": [],
   "source": [
    "p2021 = spoti_info(play_2021)"
   ]
  },
  {
   "cell_type": "code",
   "execution_count": null,
   "id": "0e97e97b",
   "metadata": {},
   "outputs": [],
   "source": [
    "p2022 = spoti_info(play_2022)"
   ]
  },
  {
   "cell_type": "code",
   "execution_count": null,
   "id": "e8088dc0",
   "metadata": {},
   "outputs": [],
   "source": [
    "spanish_hits = pd.concat([p2000, p2001,p2002,p2003,p2004,p2005,p2006,\\\n",
    "                         p2007,p2008,p2009,p2010,p2011,p2012,p2013,p2014,p2015,\\\n",
    "                         p2016,p2017,p20182019,p2020,p2021,p2022]).reset_index(drop=True)"
   ]
  },
  {
   "cell_type": "code",
   "execution_count": null,
   "id": "fbe82f7b",
   "metadata": {},
   "outputs": [],
   "source": [
    "spanish_hits.head()"
   ]
  },
  {
   "cell_type": "code",
   "execution_count": null,
   "id": "9dc387f5",
   "metadata": {},
   "outputs": [],
   "source": [
    "spanish_hits.to_csv('../Proyecto-FInal-Spotify/CSV_primeros/spanish_hits.csv', index=False)"
   ]
  },
  {
   "cell_type": "markdown",
   "id": "4ce30417",
   "metadata": {},
   "source": [
    "# Para ahorrar tiempo he guardado spanish hits y lo cargo."
   ]
  },
  {
   "cell_type": "code",
   "execution_count": 3,
   "id": "c0c84f4c",
   "metadata": {},
   "outputs": [
    {
     "data": {
      "text/html": [
       "<div>\n",
       "<style scoped>\n",
       "    .dataframe tbody tr th:only-of-type {\n",
       "        vertical-align: middle;\n",
       "    }\n",
       "\n",
       "    .dataframe tbody tr th {\n",
       "        vertical-align: top;\n",
       "    }\n",
       "\n",
       "    .dataframe thead th {\n",
       "        text-align: right;\n",
       "    }\n",
       "</style>\n",
       "<table border=\"1\" class=\"dataframe\">\n",
       "  <thead>\n",
       "    <tr style=\"text-align: right;\">\n",
       "      <th></th>\n",
       "      <th>artist_name</th>\n",
       "      <th>track_name</th>\n",
       "      <th>energy</th>\n",
       "      <th>danceability</th>\n",
       "      <th>loudness</th>\n",
       "      <th>acousticness</th>\n",
       "      <th>speechiness</th>\n",
       "      <th>liveness</th>\n",
       "      <th>valence</th>\n",
       "      <th>tempo</th>\n",
       "      <th>duration</th>\n",
       "    </tr>\n",
       "  </thead>\n",
       "  <tbody>\n",
       "    <tr>\n",
       "      <th>0</th>\n",
       "      <td>Coldplay</td>\n",
       "      <td>Yellow</td>\n",
       "      <td>0.661</td>\n",
       "      <td>0.429</td>\n",
       "      <td>-7.227</td>\n",
       "      <td>0.00239</td>\n",
       "      <td>0.0281</td>\n",
       "      <td>0.2340</td>\n",
       "      <td>0.285</td>\n",
       "      <td>173.372</td>\n",
       "      <td>266.77</td>\n",
       "    </tr>\n",
       "    <tr>\n",
       "      <th>1</th>\n",
       "      <td>Amaral</td>\n",
       "      <td>Cómo hablar</td>\n",
       "      <td>0.775</td>\n",
       "      <td>0.606</td>\n",
       "      <td>-4.752</td>\n",
       "      <td>0.03560</td>\n",
       "      <td>0.0291</td>\n",
       "      <td>0.1110</td>\n",
       "      <td>0.626</td>\n",
       "      <td>117.357</td>\n",
       "      <td>241.27</td>\n",
       "    </tr>\n",
       "    <tr>\n",
       "      <th>2</th>\n",
       "      <td>Eminem</td>\n",
       "      <td>The Real Slim Shady</td>\n",
       "      <td>0.661</td>\n",
       "      <td>0.949</td>\n",
       "      <td>-4.244</td>\n",
       "      <td>0.03020</td>\n",
       "      <td>0.0572</td>\n",
       "      <td>0.0454</td>\n",
       "      <td>0.760</td>\n",
       "      <td>104.504</td>\n",
       "      <td>284.20</td>\n",
       "    </tr>\n",
       "    <tr>\n",
       "      <th>3</th>\n",
       "      <td>Britney Spears</td>\n",
       "      <td>Oops!...I Did It Again</td>\n",
       "      <td>0.834</td>\n",
       "      <td>0.751</td>\n",
       "      <td>-5.444</td>\n",
       "      <td>0.30000</td>\n",
       "      <td>0.0437</td>\n",
       "      <td>0.3550</td>\n",
       "      <td>0.894</td>\n",
       "      <td>95.053</td>\n",
       "      <td>211.16</td>\n",
       "    </tr>\n",
       "    <tr>\n",
       "      <th>4</th>\n",
       "      <td>La Oreja de Van Gogh</td>\n",
       "      <td>La Playa</td>\n",
       "      <td>0.552</td>\n",
       "      <td>0.589</td>\n",
       "      <td>-5.707</td>\n",
       "      <td>0.17500</td>\n",
       "      <td>0.0268</td>\n",
       "      <td>0.1060</td>\n",
       "      <td>0.311</td>\n",
       "      <td>88.535</td>\n",
       "      <td>247.69</td>\n",
       "    </tr>\n",
       "  </tbody>\n",
       "</table>\n",
       "</div>"
      ],
      "text/plain": [
       "            artist_name              track_name  energy  danceability  \\\n",
       "0              Coldplay                  Yellow   0.661         0.429   \n",
       "1                Amaral             Cómo hablar   0.775         0.606   \n",
       "2                Eminem     The Real Slim Shady   0.661         0.949   \n",
       "3        Britney Spears  Oops!...I Did It Again   0.834         0.751   \n",
       "4  La Oreja de Van Gogh                La Playa   0.552         0.589   \n",
       "\n",
       "   loudness  acousticness  speechiness  liveness  valence    tempo  duration  \n",
       "0    -7.227       0.00239       0.0281    0.2340    0.285  173.372    266.77  \n",
       "1    -4.752       0.03560       0.0291    0.1110    0.626  117.357    241.27  \n",
       "2    -4.244       0.03020       0.0572    0.0454    0.760  104.504    284.20  \n",
       "3    -5.444       0.30000       0.0437    0.3550    0.894   95.053    211.16  \n",
       "4    -5.707       0.17500       0.0268    0.1060    0.311   88.535    247.69  "
      ]
     },
     "execution_count": 3,
     "metadata": {},
     "output_type": "execute_result"
    }
   ],
   "source": [
    "spanish_hits = pd.read_csv('../Proyecto-FInal-Spotify/CSV_primeros/spanish_hits.csv')\n",
    "\n",
    "spanish_hits.head(5)"
   ]
  },
  {
   "cell_type": "code",
   "execution_count": null,
   "id": "5904192c",
   "metadata": {},
   "outputs": [],
   "source": [
    "spanish_hits.shape"
   ]
  },
  {
   "cell_type": "code",
   "execution_count": null,
   "id": "76751f7e",
   "metadata": {},
   "outputs": [],
   "source": [
    "ejfbhuopewh"
   ]
  },
  {
   "cell_type": "code",
   "execution_count": 7,
   "id": "f4629ed0",
   "metadata": {},
   "outputs": [],
   "source": [
    "unpopular_outliers = pd.read_csv('../Proyecto-FInal-Spotify/CSV_primeros/unpopular_outliers.csv')"
   ]
  },
  {
   "cell_type": "code",
   "execution_count": 8,
   "id": "aded27cd",
   "metadata": {},
   "outputs": [
    {
     "data": {
      "text/plain": [
       "True"
      ]
     },
     "execution_count": 8,
     "metadata": {},
     "output_type": "execute_result"
    }
   ],
   "source": [
    "spanish_hits.drop_duplicates().shape==spanish_hits.shape    "
   ]
  },
  {
   "cell_type": "code",
   "execution_count": 9,
   "id": "b4bd80dd",
   "metadata": {},
   "outputs": [],
   "source": [
    "spanish_hits=spanish_hits.drop_duplicates()\n"
   ]
  },
  {
   "cell_type": "code",
   "execution_count": 10,
   "id": "7eb6276e",
   "metadata": {},
   "outputs": [
    {
     "data": {
      "text/plain": [
       "True"
      ]
     },
     "execution_count": 10,
     "metadata": {},
     "output_type": "execute_result"
    }
   ],
   "source": [
    "spanish_hits.drop_duplicates().shape==spanish_hits.shape    "
   ]
  },
  {
   "cell_type": "code",
   "execution_count": null,
   "id": "44fdc785",
   "metadata": {},
   "outputs": [],
   "source": [
    "spanish_hits.shape"
   ]
  },
  {
   "cell_type": "code",
   "execution_count": null,
   "id": "e70eca6c",
   "metadata": {},
   "outputs": [],
   "source": [
    "spanish_hits.info(memory_usage='deep')"
   ]
  },
  {
   "cell_type": "code",
   "execution_count": null,
   "id": "c8cddfb1",
   "metadata": {},
   "outputs": [],
   "source": [
    "plt.figure(figsize=(20, 15))\n",
    "\n",
    "sns.set(style='white')\n",
    "\n",
    "mask=np.triu(np.ones_like(spanish_hits.corr(), dtype=bool))\n",
    "\n",
    "cmap=sns.diverging_palette(0, 10, as_cmap=True)\n",
    "\n",
    "\n",
    "sns.heatmap(spanish_hits.corr(),\n",
    "          mask=mask,\n",
    "          cmap=cmap,\n",
    "          center=0,\n",
    "          square=True,\n",
    "          annot=True,\n",
    "          linewidths=0.5, \n",
    "          cbar_kws={'shrink': 0.5});"
   ]
  },
  {
   "cell_type": "code",
   "execution_count": null,
   "id": "dae44f31",
   "metadata": {},
   "outputs": [],
   "source": [
    "unpopular_sp.info(memory_usage='deep')"
   ]
  },
  {
   "cell_type": "code",
   "execution_count": null,
   "id": "53fd7dad",
   "metadata": {},
   "outputs": [],
   "source": [
    "unpopular_sp['duration'] = unpopular_sp['duration'].astype(float)\n"
   ]
  },
  {
   "cell_type": "code",
   "execution_count": null,
   "id": "95f03642",
   "metadata": {},
   "outputs": [],
   "source": [
    "unpopular_sp.info(memory_usage='deep')"
   ]
  },
  {
   "cell_type": "code",
   "execution_count": 6,
   "id": "82f4fe8a",
   "metadata": {},
   "outputs": [
    {
     "data": {
      "text/plain": [
       "(3785, 12)"
      ]
     },
     "execution_count": 6,
     "metadata": {},
     "output_type": "execute_result"
    }
   ],
   "source": []
  },
  {
   "cell_type": "code",
   "execution_count": null,
   "id": "7a75b5ec",
   "metadata": {},
   "outputs": [],
   "source": []
  }
 ],
 "metadata": {
  "kernelspec": {
   "display_name": "Python 3 (ipykernel)",
   "language": "python",
   "name": "python3"
  },
  "language_info": {
   "codemirror_mode": {
    "name": "ipython",
    "version": 3
   },
   "file_extension": ".py",
   "mimetype": "text/x-python",
   "name": "python",
   "nbconvert_exporter": "python",
   "pygments_lexer": "ipython3",
   "version": "3.9.12"
  }
 },
 "nbformat": 4,
 "nbformat_minor": 5
}
