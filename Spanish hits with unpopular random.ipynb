{
 "cells": [
  {
   "cell_type": "code",
   "execution_count": 1,
   "id": "9526ce95",
   "metadata": {},
   "outputs": [],
   "source": [
    "import pandas as pd\n",
    "import numpy as np\n",
    "pd.set_option('display.max_columns', None)\n",
    "import pylab as plt\n",
    "import seaborn as sns\n",
    "import re\n",
    "import warnings\n",
    "warnings.filterwarnings('ignore') \n",
    "#para que salga el grafico\n",
    "#pd.set_option('display.max_rows', None)\n",
    "%matplotlib inline\n",
    "from statistics import mean\n",
    "import pylab as plt\n",
    "from sklearn.preprocessing import StandardScaler\n",
    "from sklearn.svm import SVR\n",
    "from sklearn.ensemble import RandomForestRegressor as RFR  \n",
    "from sklearn.tree import ExtraTreeRegressor as ETR\n",
    "from sklearn.ensemble import GradientBoostingRegressor as GBR\n",
    "from xgboost import XGBRegressor as XGBR\n",
    "from catboost import CatBoostRegressor as CTR\n",
    "from sklearn.linear_model import LinearRegression as LinReg\n",
    "from sklearn.linear_model import Lasso    \n",
    "from sklearn.linear_model import Ridge\n",
    "from sklearn.linear_model import ElasticNet \n",
    "from sklearn.model_selection import train_test_split as tts   \n",
    "from sklearn.metrics import mean_squared_error as mse\n",
    "import spotipy\n",
    "from spotipy.oauth2 import SpotifyClientCredentials\n",
    "from spotipy.oauth2 import SpotifyOAuth"
   ]
  },
  {
   "cell_type": "code",
   "execution_count": 2,
   "id": "b75faedc",
   "metadata": {},
   "outputs": [],
   "source": [
    "auth_manager = SpotifyClientCredentials('74c040f7ab8049648ec083fdadfc1ddb','a9fa947f1cde460bb37b94060380a6cb')\n",
    "sp = spotipy.Spotify(auth_manager=auth_manager)"
   ]
  },
  {
   "cell_type": "markdown",
   "id": "a4279d52",
   "metadata": {},
   "source": [
    "# Quiero hacer que la funcion saque directamente un unico dataframe con un bucle dentro pero no tengo claro como hacerlo !!!! PREGUNTAR EL LUNES!!!"
   ]
  },
  {
   "cell_type": "markdown",
   "id": "1f3827b4",
   "metadata": {},
   "source": [
    "## Importante 2018 y 2019 juntos en la misma playlist"
   ]
  },
  {
   "cell_type": "code",
   "execution_count": null,
   "id": "261f6e54",
   "metadata": {},
   "outputs": [],
   "source": [
    "playlist = [play_2000 ='https://open.spotify.com/playlist/37i9dQZF1DX4f5T2OF14nZ',\\\n",
    "            play_2001 = 'https://open.spotify.com/playlist/37i9dQZF1DX8ri0Q7eg1qe',\\\n",
    "           play_2002 ='https://open.spotify.com/playlist/37i9dQZF1DXag6GMMWZSZ4',\\\n",
    "           play_2003 ='https://open.spotify.com/playlist/37i9dQZF1DX8EdanpjeYXD',\\\n",
    "           play_2004 = 'https://open.spotify.com/playlist/37i9dQZF1DX25bh4Tsdtts',\\\n",
    "           play_2005 = 'https://open.spotify.com/playlist/37i9dQZF1DXax0Fz6Uds7a',\\\n",
    "           play_2006 = 'https://open.spotify.com/playlist/37i9dQZF1DX0ywbtKZmG0E',\\\n",
    "           play_2007 = 'https://open.spotify.com/playlist/37i9dQZF1DXdHJoK6pY7Oh',\\\n",
    "           play_2008 = 'https://open.spotify.com/playlist/37i9dQZF1DWVBAKsA3f6Ck',\\\n",
    "           play_2009 = 'https://open.spotify.com/playlist/37i9dQZF1DX1bd6S1wAnbF',\\\n",
    "           play_2010='https://open.spotify.com/playlist/37i9dQZF1DX9zzf8V7JAQ5',\\\n",
    "           play_2011='https://open.spotify.com/playlist/37i9dQZF1DWVqckwNwncJY',\\\n",
    "           play_2012='https://open.spotify.com/playlist/37i9dQZF1DX0rX3xBmXrDn',\\\n",
    "           play_2013='https://open.spotify.com/playlist/37i9dQZF1DX5aHrtH3szCF',\\\n",
    "           play_2014 = 'https://open.spotify.com/playlist/37i9dQZF1DX5S2RzqA1qg6',\\\n",
    "           play_2015='https://open.spotify.com/playlist/37i9dQZF1DXcpG5daApEnA',\\\n",
    "           play_2016='https://open.spotify.com/playlist/37i9dQZF1CyQp1mdXCYxpR',\\\n",
    "           play_2017='https://open.spotify.com/playlist/37i9dQZF1DXaslEeaHwWLL',\\\n",
    "           play_20182019='https://open.spotify.com/playlist/0sVCLfAbcXb8dKif9QP3Ch',\\\n",
    "           play_2020 = 'https://open.spotify.com/playlist/2ErDoKVlOJMP5xKxyKmD6U',\\\n",
    "           play_2021 = 'https://open.spotify.com/playlist/5tntLMmmuZiPB2d41VsS4P',\\\n",
    "           play_2022'https://open.spotify.com/playlist/37i9dQZF1DXdo9iIZiH7LB']"
   ]
  },
  {
   "cell_type": "code",
   "execution_count": null,
   "id": "09ca3580",
   "metadata": {},
   "outputs": [],
   "source": [
    "play_2000 ='https://open.spotify.com/playlist/37i9dQZF1DX4f5T2OF14nZ'\n",
    "play_2001 = 'https://open.spotify.com/playlist/37i9dQZF1DX8ri0Q7eg1qe'\n",
    "play_2002 ='https://open.spotify.com/playlist/37i9dQZF1DXag6GMMWZSZ4'\n",
    "play_2003 ='https://open.spotify.com/playlist/37i9dQZF1DX8EdanpjeYXD'\n",
    "play_2004 = 'https://open.spotify.com/playlist/37i9dQZF1DX25bh4Tsdtts'\n",
    "play_2005 = 'https://open.spotify.com/playlist/37i9dQZF1DXax0Fz6Uds7a'\n",
    "play_2006 = 'https://open.spotify.com/playlist/37i9dQZF1DX0ywbtKZmG0E'\n",
    "play_2007 = 'https://open.spotify.com/playlist/37i9dQZF1DXdHJoK6pY7Oh'\n",
    "play_2008 = 'https://open.spotify.com/playlist/37i9dQZF1DWVBAKsA3f6Ck'\n",
    "play_2009 = 'https://open.spotify.com/playlist/37i9dQZF1DX1bd6S1wAnbF'\n",
    "play_2010='https://open.spotify.com/playlist/37i9dQZF1DX9zzf8V7JAQ5'\n",
    "play_2011='https://open.spotify.com/playlist/37i9dQZF1DWVqckwNwncJY'\n",
    "play_2012='https://open.spotify.com/playlist/37i9dQZF1DX0rX3xBmXrDn'\n",
    "play_2013='https://open.spotify.com/playlist/37i9dQZF1DX5aHrtH3szCF'\n",
    "play_2014 = 'https://open.spotify.com/playlist/37i9dQZF1DX5S2RzqA1qg6'\n",
    "play_2015='https://open.spotify.com/playlist/37i9dQZF1DXcpG5daApEnA'\n",
    "play_2016='https://open.spotify.com/playlist/37i9dQZF1CyQp1mdXCYxpR'\n",
    "play_2017='https://open.spotify.com/playlist/37i9dQZF1DXaslEeaHwWLL'\n",
    "play_20182019='https://open.spotify.com/playlist/0sVCLfAbcXb8dKif9QP3Ch'\n",
    "play_2020 = 'https://open.spotify.com/playlist/2ErDoKVlOJMP5xKxyKmD6U'\n",
    "play_2021 = 'https://open.spotify.com/playlist/5tntLMmmuZiPB2d41VsS4P'\n",
    "play_2022 = 'https://open.spotify.com/playlist/37i9dQZF1DXdo9iIZiH7LB'"
   ]
  },
  {
   "cell_type": "code",
   "execution_count": null,
   "id": "4ddcb1f1",
   "metadata": {},
   "outputs": [],
   "source": [
    "def spoti_info(playlist):\n",
    "    play = sp.playlist_tracks(playlist, fields=None, limit=100,\\\n",
    "                          offset=0, market=None, additional_types=('track', 'episode'))\n",
    "    links_track = []\n",
    "    for e in (play['items']):\n",
    "        links_track.append(e['track']['external_urls']['spotify'])\n",
    "    \n",
    "    audio_features = []\n",
    "    for e in links_track:\n",
    "        audio_features.append(sp.audio_features(e))\n",
    "    \n",
    "    track_song = []\n",
    "    for e in (play['items']):\n",
    "        track_song.append(e['track']['name'])\n",
    "    \n",
    "    artist_name = []\n",
    "    for e in (play['items']):\n",
    "        artist_name.append(e['track']['album']['artists'][0]['name'])\n",
    "    \n",
    "    audio_features=[e[0] for e in audio_features]\n",
    "    \n",
    "    datos_spotipy = pd.DataFrame(audio_features)\n",
    "    \n",
    "    datos_spotipy['artist_name'] = artist_name\n",
    "    \n",
    "    datos_spotipy['track_name'] = track_song\n",
    "    \n",
    "    datos_spotipy.drop(['type','id','uri','track_href','analysis_url','time_signature','key','mode'],axis=1, inplace=True)\n",
    "    \n",
    "    datos_spotipy=datos_spotipy.iloc[:, [10,11,1,0,2,4,3,6,7,8,9]]\n",
    "    \n",
    "    datos_spotipy.rename(columns = {'duration_ms':'duration'}, inplace = True)\n",
    "    \n",
    "    datos_spotipy['duration'] = (datos_spotipy['duration']/1000).round(2)\n",
    "\n",
    "\n",
    "\n",
    "\n",
    "\n",
    "    return datos_spotipy"
   ]
  },
  {
   "cell_type": "code",
   "execution_count": null,
   "id": "0e76279a",
   "metadata": {},
   "outputs": [],
   "source": [
    "p2000 = spoti_info(play_2000)"
   ]
  },
  {
   "cell_type": "code",
   "execution_count": null,
   "id": "7706949f",
   "metadata": {},
   "outputs": [],
   "source": [
    "p2001 = spoti_info(play_2001)"
   ]
  },
  {
   "cell_type": "code",
   "execution_count": null,
   "id": "25902a51",
   "metadata": {},
   "outputs": [],
   "source": [
    "p2002 = spoti_info(play_2002)"
   ]
  },
  {
   "cell_type": "code",
   "execution_count": null,
   "id": "d2d03058",
   "metadata": {},
   "outputs": [],
   "source": [
    "p2003 = spoti_info(play_2003)"
   ]
  },
  {
   "cell_type": "code",
   "execution_count": null,
   "id": "954e5f4c",
   "metadata": {},
   "outputs": [],
   "source": [
    "p2004 = spoti_info(play_2004)"
   ]
  },
  {
   "cell_type": "code",
   "execution_count": null,
   "id": "1a92ad79",
   "metadata": {},
   "outputs": [],
   "source": [
    "p2005 = spoti_info(play_2005)"
   ]
  },
  {
   "cell_type": "code",
   "execution_count": null,
   "id": "8e34b3e7",
   "metadata": {},
   "outputs": [],
   "source": [
    "p2006 = spoti_info(play_2006)"
   ]
  },
  {
   "cell_type": "code",
   "execution_count": null,
   "id": "64d4b995",
   "metadata": {},
   "outputs": [],
   "source": [
    "p2007 = spoti_info(play_2007)"
   ]
  },
  {
   "cell_type": "code",
   "execution_count": null,
   "id": "1ea38865",
   "metadata": {},
   "outputs": [],
   "source": [
    "p2008 = spoti_info(play_2008)"
   ]
  },
  {
   "cell_type": "code",
   "execution_count": null,
   "id": "59d94d75",
   "metadata": {},
   "outputs": [],
   "source": [
    "p2009 = spoti_info(play_2009)"
   ]
  },
  {
   "cell_type": "code",
   "execution_count": null,
   "id": "0a4e23a2",
   "metadata": {},
   "outputs": [],
   "source": [
    "p2010 = spoti_info(play_2010)"
   ]
  },
  {
   "cell_type": "code",
   "execution_count": null,
   "id": "9681b724",
   "metadata": {},
   "outputs": [],
   "source": [
    "p2011 = spoti_info(play_2011)"
   ]
  },
  {
   "cell_type": "code",
   "execution_count": null,
   "id": "6962595e",
   "metadata": {},
   "outputs": [],
   "source": [
    "p2012 = spoti_info(play_2012)"
   ]
  },
  {
   "cell_type": "code",
   "execution_count": null,
   "id": "3ffc3117",
   "metadata": {},
   "outputs": [],
   "source": [
    "p2013 = spoti_info(play_2013)"
   ]
  },
  {
   "cell_type": "code",
   "execution_count": null,
   "id": "491e1057",
   "metadata": {},
   "outputs": [],
   "source": [
    "p2014 = spoti_info(play_2014)"
   ]
  },
  {
   "cell_type": "code",
   "execution_count": null,
   "id": "c588c6dc",
   "metadata": {},
   "outputs": [],
   "source": [
    "p2015 = spoti_info(play_2015)"
   ]
  },
  {
   "cell_type": "code",
   "execution_count": null,
   "id": "55fe6c33",
   "metadata": {},
   "outputs": [],
   "source": [
    "p2016 = spoti_info(play_2016)"
   ]
  },
  {
   "cell_type": "code",
   "execution_count": null,
   "id": "ac3823dc",
   "metadata": {},
   "outputs": [],
   "source": [
    "p2017 = spoti_info(play_2017)"
   ]
  },
  {
   "cell_type": "code",
   "execution_count": null,
   "id": "f4f1a3f3",
   "metadata": {},
   "outputs": [],
   "source": [
    "p20182019 = spoti_info(play_20182019)"
   ]
  },
  {
   "cell_type": "code",
   "execution_count": null,
   "id": "db88ba3b",
   "metadata": {},
   "outputs": [],
   "source": [
    "p2020 = spoti_info(play_2020)"
   ]
  },
  {
   "cell_type": "code",
   "execution_count": null,
   "id": "178074a4",
   "metadata": {},
   "outputs": [],
   "source": [
    "p2021 = spoti_info(play_2021)"
   ]
  },
  {
   "cell_type": "code",
   "execution_count": null,
   "id": "0e97e97b",
   "metadata": {},
   "outputs": [],
   "source": [
    "p2022 = spoti_info(play_2022)"
   ]
  },
  {
   "cell_type": "code",
   "execution_count": null,
   "id": "e8088dc0",
   "metadata": {},
   "outputs": [],
   "source": [
    "spanish_hits = pd.concat([p2000, p2001,p2002,p2003,p2004,p2005,p2006,\\\n",
    "                         p2007,p2008,p2009,p2010,p2011,p2012,p2013,p2014,p2015,\\\n",
    "                         p2016,p2017,p20182019,p2020,p2021,p2022]).reset_index(drop=True)"
   ]
  },
  {
   "cell_type": "code",
   "execution_count": null,
   "id": "fbe82f7b",
   "metadata": {},
   "outputs": [],
   "source": [
    "spanish_hits.head()"
   ]
  },
  {
   "cell_type": "code",
   "execution_count": null,
   "id": "9dc387f5",
   "metadata": {},
   "outputs": [],
   "source": [
    "spanish_hits.to_csv('../Proyecto-FInal-Spotify/CSV_primeros/spanish_hits.csv', index=False)"
   ]
  },
  {
   "cell_type": "markdown",
   "id": "4ce30417",
   "metadata": {},
   "source": [
    "# Para ahorrar tiempo he guardado spanish hits y lo cargo."
   ]
  },
  {
   "cell_type": "code",
   "execution_count": 3,
   "id": "c0c84f4c",
   "metadata": {},
   "outputs": [
    {
     "data": {
      "text/html": [
       "<div>\n",
       "<style scoped>\n",
       "    .dataframe tbody tr th:only-of-type {\n",
       "        vertical-align: middle;\n",
       "    }\n",
       "\n",
       "    .dataframe tbody tr th {\n",
       "        vertical-align: top;\n",
       "    }\n",
       "\n",
       "    .dataframe thead th {\n",
       "        text-align: right;\n",
       "    }\n",
       "</style>\n",
       "<table border=\"1\" class=\"dataframe\">\n",
       "  <thead>\n",
       "    <tr style=\"text-align: right;\">\n",
       "      <th></th>\n",
       "      <th>artist_name</th>\n",
       "      <th>track_name</th>\n",
       "      <th>energy</th>\n",
       "      <th>danceability</th>\n",
       "      <th>loudness</th>\n",
       "      <th>acousticness</th>\n",
       "      <th>speechiness</th>\n",
       "      <th>liveness</th>\n",
       "      <th>valence</th>\n",
       "      <th>tempo</th>\n",
       "      <th>duration</th>\n",
       "    </tr>\n",
       "  </thead>\n",
       "  <tbody>\n",
       "    <tr>\n",
       "      <th>0</th>\n",
       "      <td>Coldplay</td>\n",
       "      <td>Yellow</td>\n",
       "      <td>0.661</td>\n",
       "      <td>0.429</td>\n",
       "      <td>-7.227</td>\n",
       "      <td>0.00239</td>\n",
       "      <td>0.0281</td>\n",
       "      <td>0.2340</td>\n",
       "      <td>0.285</td>\n",
       "      <td>173.372</td>\n",
       "      <td>266.77</td>\n",
       "    </tr>\n",
       "    <tr>\n",
       "      <th>1</th>\n",
       "      <td>Amaral</td>\n",
       "      <td>Cómo hablar</td>\n",
       "      <td>0.775</td>\n",
       "      <td>0.606</td>\n",
       "      <td>-4.752</td>\n",
       "      <td>0.03560</td>\n",
       "      <td>0.0291</td>\n",
       "      <td>0.1110</td>\n",
       "      <td>0.626</td>\n",
       "      <td>117.357</td>\n",
       "      <td>241.27</td>\n",
       "    </tr>\n",
       "    <tr>\n",
       "      <th>2</th>\n",
       "      <td>Eminem</td>\n",
       "      <td>The Real Slim Shady</td>\n",
       "      <td>0.661</td>\n",
       "      <td>0.949</td>\n",
       "      <td>-4.244</td>\n",
       "      <td>0.03020</td>\n",
       "      <td>0.0572</td>\n",
       "      <td>0.0454</td>\n",
       "      <td>0.760</td>\n",
       "      <td>104.504</td>\n",
       "      <td>284.20</td>\n",
       "    </tr>\n",
       "    <tr>\n",
       "      <th>3</th>\n",
       "      <td>Britney Spears</td>\n",
       "      <td>Oops!...I Did It Again</td>\n",
       "      <td>0.834</td>\n",
       "      <td>0.751</td>\n",
       "      <td>-5.444</td>\n",
       "      <td>0.30000</td>\n",
       "      <td>0.0437</td>\n",
       "      <td>0.3550</td>\n",
       "      <td>0.894</td>\n",
       "      <td>95.053</td>\n",
       "      <td>211.16</td>\n",
       "    </tr>\n",
       "    <tr>\n",
       "      <th>4</th>\n",
       "      <td>La Oreja de Van Gogh</td>\n",
       "      <td>La Playa</td>\n",
       "      <td>0.552</td>\n",
       "      <td>0.589</td>\n",
       "      <td>-5.707</td>\n",
       "      <td>0.17500</td>\n",
       "      <td>0.0268</td>\n",
       "      <td>0.1060</td>\n",
       "      <td>0.311</td>\n",
       "      <td>88.535</td>\n",
       "      <td>247.69</td>\n",
       "    </tr>\n",
       "  </tbody>\n",
       "</table>\n",
       "</div>"
      ],
      "text/plain": [
       "            artist_name              track_name  energy  danceability  \\\n",
       "0              Coldplay                  Yellow   0.661         0.429   \n",
       "1                Amaral             Cómo hablar   0.775         0.606   \n",
       "2                Eminem     The Real Slim Shady   0.661         0.949   \n",
       "3        Britney Spears  Oops!...I Did It Again   0.834         0.751   \n",
       "4  La Oreja de Van Gogh                La Playa   0.552         0.589   \n",
       "\n",
       "   loudness  acousticness  speechiness  liveness  valence    tempo  duration  \n",
       "0    -7.227       0.00239       0.0281    0.2340    0.285  173.372    266.77  \n",
       "1    -4.752       0.03560       0.0291    0.1110    0.626  117.357    241.27  \n",
       "2    -4.244       0.03020       0.0572    0.0454    0.760  104.504    284.20  \n",
       "3    -5.444       0.30000       0.0437    0.3550    0.894   95.053    211.16  \n",
       "4    -5.707       0.17500       0.0268    0.1060    0.311   88.535    247.69  "
      ]
     },
     "execution_count": 3,
     "metadata": {},
     "output_type": "execute_result"
    }
   ],
   "source": [
    "spanish_hits = pd.read_csv('../Proyecto-FInal-Spotify/CSV_primeros/spanish_hits.csv')\n",
    "\n",
    "spanish_hits.head(5)"
   ]
  },
  {
   "cell_type": "code",
   "execution_count": null,
   "id": "5904192c",
   "metadata": {},
   "outputs": [],
   "source": [
    "spanish_hits.shape"
   ]
  },
  {
   "cell_type": "code",
   "execution_count": null,
   "id": "76751f7e",
   "metadata": {},
   "outputs": [],
   "source": [
    "ejfbhuopewh"
   ]
  },
  {
   "cell_type": "code",
   "execution_count": 7,
   "id": "f4629ed0",
   "metadata": {},
   "outputs": [],
   "source": [
    "unpopular_outliers = pd.read_csv('../Proyecto-FInal-Spotify/CSV_primeros/unpopular_outliers.csv')"
   ]
  },
  {
   "cell_type": "code",
   "execution_count": 8,
   "id": "aded27cd",
   "metadata": {},
   "outputs": [
    {
     "data": {
      "text/plain": [
       "True"
      ]
     },
     "execution_count": 8,
     "metadata": {},
     "output_type": "execute_result"
    }
   ],
   "source": [
    "spanish_hits.drop_duplicates().shape==spanish_hits.shape    "
   ]
  },
  {
   "cell_type": "code",
   "execution_count": 9,
   "id": "b4bd80dd",
   "metadata": {},
   "outputs": [],
   "source": [
    "spanish_hits=spanish_hits.drop_duplicates()\n"
   ]
  },
  {
   "cell_type": "code",
   "execution_count": 10,
   "id": "7eb6276e",
   "metadata": {},
   "outputs": [
    {
     "data": {
      "text/plain": [
       "True"
      ]
     },
     "execution_count": 10,
     "metadata": {},
     "output_type": "execute_result"
    }
   ],
   "source": [
    "spanish_hits.drop_duplicates().shape==spanish_hits.shape    "
   ]
  },
  {
   "cell_type": "code",
   "execution_count": null,
   "id": "44fdc785",
   "metadata": {},
   "outputs": [],
   "source": [
    "spanish_hits.shape"
   ]
  },
  {
   "cell_type": "code",
   "execution_count": null,
   "id": "e70eca6c",
   "metadata": {},
   "outputs": [],
   "source": [
    "spanish_hits.info(memory_usage='deep')"
   ]
  },
  {
   "cell_type": "code",
   "execution_count": null,
   "id": "c8cddfb1",
   "metadata": {},
   "outputs": [],
   "source": [
    "plt.figure(figsize=(20, 15))\n",
    "\n",
    "sns.set(style='white')\n",
    "\n",
    "mask=np.triu(np.ones_like(spanish_hits.corr(), dtype=bool))\n",
    "\n",
    "cmap=sns.diverging_palette(0, 10, as_cmap=True)\n",
    "\n",
    "\n",
    "sns.heatmap(spanish_hits.corr(),\n",
    "          mask=mask,\n",
    "          cmap=cmap,\n",
    "          center=0,\n",
    "          square=True,\n",
    "          annot=True,\n",
    "          linewidths=0.5, \n",
    "          cbar_kws={'shrink': 0.5});"
   ]
  },
  {
   "cell_type": "code",
   "execution_count": null,
   "id": "dae44f31",
   "metadata": {},
   "outputs": [],
   "source": [
    "unpopular_sp.info(memory_usage='deep')"
   ]
  },
  {
   "cell_type": "code",
   "execution_count": null,
   "id": "53fd7dad",
   "metadata": {},
   "outputs": [],
   "source": [
    "unpopular_sp['duration'] = unpopular_sp['duration'].astype(float)\n"
   ]
  },
  {
   "cell_type": "code",
   "execution_count": null,
   "id": "95f03642",
   "metadata": {},
   "outputs": [],
   "source": [
    "unpopular_sp.info(memory_usage='deep')"
   ]
  },
  {
   "cell_type": "code",
   "execution_count": 6,
   "id": "82f4fe8a",
   "metadata": {},
   "outputs": [
    {
     "data": {
      "text/plain": [
       "(3785, 12)"
      ]
     },
     "execution_count": 6,
     "metadata": {},
     "output_type": "execute_result"
    }
   ],
   "source": []
  },
  {
   "cell_type": "code",
   "execution_count": null,
   "id": "7a75b5ec",
   "metadata": {},
   "outputs": [],
   "source": []
  }
 ],
 "metadata": {
  "kernelspec": {
   "display_name": "Python 3 (ipykernel)",
   "language": "python",
   "name": "python3"
  },
  "language_info": {
   "codemirror_mode": {
    "name": "ipython",
    "version": 3
   },
   "file_extension": ".py",
   "mimetype": "text/x-python",
   "name": "python",
   "nbconvert_exporter": "python",
   "pygments_lexer": "ipython3",
   "version": "3.9.12"
  }
 },
 "nbformat": 4,
 "nbformat_minor": 5
}
