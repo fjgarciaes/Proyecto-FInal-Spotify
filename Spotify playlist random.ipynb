{
 "cells": [
  {
   "cell_type": "code",
   "execution_count": 50,
   "id": "9526ce95",
   "metadata": {},
   "outputs": [],
   "source": [
    "import pandas as pd\n",
    "import numpy as np\n",
    "import spotipy\n",
    "from spotipy.oauth2 import SpotifyOAuth\n",
    "import random"
   ]
  },
  {
   "cell_type": "code",
   "execution_count": 10,
   "id": "b75faedc",
   "metadata": {},
   "outputs": [],
   "source": [
    "auth_manager = SpotifyClientCredentials('74c040f7ab8049648ec083fdadfc1ddb','a9fa947f1cde460bb37b94060380a6cb')\n",
    "sp = spotipy.Spotify(auth_manager=auth_manager)"
   ]
  },
  {
   "cell_type": "code",
   "execution_count": 12,
   "id": "09ca3580",
   "metadata": {},
   "outputs": [],
   "source": [
    "play_2000 ='https://open.spotify.com/playlist/37i9dQZF1DX4f5T2OF14nZ'\n",
    "play_2001 = 'https://open.spotify.com/playlist/37i9dQZF1DX8ri0Q7eg1qe'\n",
    "play_2002 ='https://open.spotify.com/playlist/37i9dQZF1DXag6GMMWZSZ4'\n",
    "play_2003 ='https://open.spotify.com/playlist/37i9dQZF1DX8EdanpjeYXD'\n",
    "play_2004 = 'https://open.spotify.com/playlist/37i9dQZF1DX25bh4Tsdtts'\n",
    "play_2005 = 'https://open.spotify.com/playlist/37i9dQZF1DXax0Fz6Uds7a'\n",
    "play_2006 = 'https://open.spotify.com/playlist/37i9dQZF1DX0ywbtKZmG0E'\n",
    "play_2007 = 'https://open.spotify.com/playlist/37i9dQZF1DXdHJoK6pY7Oh'\n",
    "play_2008 = 'https://open.spotify.com/playlist/37i9dQZF1DWVBAKsA3f6Ck'\n",
    "play_2009 = 'https://open.spotify.com/playlist/37i9dQZF1DX1bd6S1wAnbF'\n",
    "play_2010='https://open.spotify.com/playlist/37i9dQZF1DX9zzf8V7JAQ5'\n",
    "play_2011='https://open.spotify.com/playlist/37i9dQZF1DWVqckwNwncJY'\n",
    "play_2012='https://open.spotify.com/playlist/37i9dQZF1DX0rX3xBmXrDn'\n",
    "play_2013='https://open.spotify.com/playlist/37i9dQZF1DX5aHrtH3szCF'\n",
    "play_2014 = 'https://open.spotify.com/playlist/37i9dQZF1DX5S2RzqA1qg6'\n",
    "play_2015='https://open.spotify.com/playlist/37i9dQZF1DXcpG5daApEnA'\n",
    "play_2016='https://open.spotify.com/playlist/37i9dQZF1CyQp1mdXCYxpR'\n",
    "play_2017='https://open.spotify.com/playlist/37i9dQZF1DXaslEeaHwWLL'\n",
    "play_20182019='https://open.spotify.com/playlist/0sVCLfAbcXb8dKif9QP3Ch'\n",
    "play_2020 = 'https://open.spotify.com/playlist/2ErDoKVlOJMP5xKxyKmD6U'\n",
    "play_2021 = 'https://open.spotify.com/playlist/5tntLMmmuZiPB2d41VsS4P'\n",
    "play_2022 = 'https://open.spotify.com/playlist/37i9dQZF1DXdo9iIZiH7LB'"
   ]
  },
  {
   "cell_type": "code",
   "execution_count": 61,
   "id": "4ddcb1f1",
   "metadata": {},
   "outputs": [],
   "source": [
    "def spoti_links(playlist):\n",
    "    play = sp.playlist_tracks(playlist, fields=None, limit=100,\\\n",
    "                          offset=0, market=None, additional_types=('track', 'episode'))\n",
    "    links_track = []\n",
    "    for e in (play['items']):\n",
    "        links_track.append(e['track']['external_urls']['spotify'])\n",
    "        \n",
    "    \n",
    "    \n",
    "    datos_spotipy = pd.DataFrame(links_track)\n",
    "    \n",
    "    \n",
    "\n",
    "    return datos_spotipy"
   ]
  },
  {
   "cell_type": "code",
   "execution_count": 62,
   "id": "0e76279a",
   "metadata": {},
   "outputs": [],
   "source": [
    "p2000 = spoti_links(play_2000)"
   ]
  },
  {
   "cell_type": "code",
   "execution_count": 63,
   "id": "91f63631",
   "metadata": {},
   "outputs": [
    {
     "data": {
      "text/html": [
       "<div>\n",
       "<style scoped>\n",
       "    .dataframe tbody tr th:only-of-type {\n",
       "        vertical-align: middle;\n",
       "    }\n",
       "\n",
       "    .dataframe tbody tr th {\n",
       "        vertical-align: top;\n",
       "    }\n",
       "\n",
       "    .dataframe thead th {\n",
       "        text-align: right;\n",
       "    }\n",
       "</style>\n",
       "<table border=\"1\" class=\"dataframe\">\n",
       "  <thead>\n",
       "    <tr style=\"text-align: right;\">\n",
       "      <th></th>\n",
       "      <th>0</th>\n",
       "    </tr>\n",
       "  </thead>\n",
       "  <tbody>\n",
       "    <tr>\n",
       "      <th>0</th>\n",
       "      <td>https://open.spotify.com/track/7gqIqyeCaV2xNtf...</td>\n",
       "    </tr>\n",
       "    <tr>\n",
       "      <th>1</th>\n",
       "      <td>https://open.spotify.com/track/3DYm7Lp7Fc3xf6W...</td>\n",
       "    </tr>\n",
       "    <tr>\n",
       "      <th>2</th>\n",
       "      <td>https://open.spotify.com/track/3AJwUDP919kvQ9Q...</td>\n",
       "    </tr>\n",
       "    <tr>\n",
       "      <th>3</th>\n",
       "      <td>https://open.spotify.com/track/6naxalmIoLFWR0s...</td>\n",
       "    </tr>\n",
       "    <tr>\n",
       "      <th>4</th>\n",
       "      <td>https://open.spotify.com/track/2DNyZP4Py6f4zMA...</td>\n",
       "    </tr>\n",
       "    <tr>\n",
       "      <th>...</th>\n",
       "      <td>...</td>\n",
       "    </tr>\n",
       "    <tr>\n",
       "      <th>95</th>\n",
       "      <td>https://open.spotify.com/track/49X0LAl6faAusYq...</td>\n",
       "    </tr>\n",
       "    <tr>\n",
       "      <th>96</th>\n",
       "      <td>https://open.spotify.com/track/3zYufmyv6HOuiHn...</td>\n",
       "    </tr>\n",
       "    <tr>\n",
       "      <th>97</th>\n",
       "      <td>https://open.spotify.com/track/0w07a1vsKahQMM0...</td>\n",
       "    </tr>\n",
       "    <tr>\n",
       "      <th>98</th>\n",
       "      <td>https://open.spotify.com/track/0R8P9KfGJCDULml...</td>\n",
       "    </tr>\n",
       "    <tr>\n",
       "      <th>99</th>\n",
       "      <td>https://open.spotify.com/track/7b5pjwmr1tyNMiE...</td>\n",
       "    </tr>\n",
       "  </tbody>\n",
       "</table>\n",
       "<p>100 rows × 1 columns</p>\n",
       "</div>"
      ],
      "text/plain": [
       "                                                    0\n",
       "0   https://open.spotify.com/track/7gqIqyeCaV2xNtf...\n",
       "1   https://open.spotify.com/track/3DYm7Lp7Fc3xf6W...\n",
       "2   https://open.spotify.com/track/3AJwUDP919kvQ9Q...\n",
       "3   https://open.spotify.com/track/6naxalmIoLFWR0s...\n",
       "4   https://open.spotify.com/track/2DNyZP4Py6f4zMA...\n",
       "..                                                ...\n",
       "95  https://open.spotify.com/track/49X0LAl6faAusYq...\n",
       "96  https://open.spotify.com/track/3zYufmyv6HOuiHn...\n",
       "97  https://open.spotify.com/track/0w07a1vsKahQMM0...\n",
       "98  https://open.spotify.com/track/0R8P9KfGJCDULml...\n",
       "99  https://open.spotify.com/track/7b5pjwmr1tyNMiE...\n",
       "\n",
       "[100 rows x 1 columns]"
      ]
     },
     "execution_count": 63,
     "metadata": {},
     "output_type": "execute_result"
    }
   ],
   "source": [
    "p2000"
   ]
  },
  {
   "cell_type": "code",
   "execution_count": 15,
   "id": "7706949f",
   "metadata": {},
   "outputs": [],
   "source": [
    "p2001 = spoti_info(play_2001)"
   ]
  },
  {
   "cell_type": "code",
   "execution_count": 16,
   "id": "25902a51",
   "metadata": {},
   "outputs": [],
   "source": [
    "p2002 = spoti_info(play_2002)"
   ]
  },
  {
   "cell_type": "code",
   "execution_count": 17,
   "id": "d2d03058",
   "metadata": {},
   "outputs": [],
   "source": [
    "p2003 = spoti_info(play_2003)"
   ]
  },
  {
   "cell_type": "code",
   "execution_count": 18,
   "id": "954e5f4c",
   "metadata": {},
   "outputs": [],
   "source": [
    "p2004 = spoti_info(play_2004)"
   ]
  },
  {
   "cell_type": "code",
   "execution_count": 19,
   "id": "1a92ad79",
   "metadata": {},
   "outputs": [],
   "source": [
    "p2005 = spoti_info(play_2005)"
   ]
  },
  {
   "cell_type": "code",
   "execution_count": 20,
   "id": "8e34b3e7",
   "metadata": {},
   "outputs": [],
   "source": [
    "p2006 = spoti_info(play_2006)"
   ]
  },
  {
   "cell_type": "code",
   "execution_count": 21,
   "id": "64d4b995",
   "metadata": {},
   "outputs": [],
   "source": [
    "p2007 = spoti_info(play_2007)"
   ]
  },
  {
   "cell_type": "code",
   "execution_count": 22,
   "id": "1ea38865",
   "metadata": {},
   "outputs": [],
   "source": [
    "p2008 = spoti_info(play_2008)"
   ]
  },
  {
   "cell_type": "code",
   "execution_count": 23,
   "id": "59d94d75",
   "metadata": {},
   "outputs": [],
   "source": [
    "p2009 = spoti_info(play_2009)"
   ]
  },
  {
   "cell_type": "code",
   "execution_count": 24,
   "id": "0a4e23a2",
   "metadata": {},
   "outputs": [],
   "source": [
    "p2010 = spoti_info(play_2010)"
   ]
  },
  {
   "cell_type": "code",
   "execution_count": 25,
   "id": "9681b724",
   "metadata": {},
   "outputs": [],
   "source": [
    "p2011 = spoti_info(play_2011)"
   ]
  },
  {
   "cell_type": "code",
   "execution_count": 26,
   "id": "6962595e",
   "metadata": {},
   "outputs": [],
   "source": [
    "p2012 = spoti_info(play_2012)"
   ]
  },
  {
   "cell_type": "code",
   "execution_count": 27,
   "id": "3ffc3117",
   "metadata": {},
   "outputs": [],
   "source": [
    "p2013 = spoti_info(play_2013)"
   ]
  },
  {
   "cell_type": "code",
   "execution_count": 28,
   "id": "491e1057",
   "metadata": {},
   "outputs": [],
   "source": [
    "p2014 = spoti_info(play_2014)"
   ]
  },
  {
   "cell_type": "code",
   "execution_count": 29,
   "id": "c588c6dc",
   "metadata": {},
   "outputs": [],
   "source": [
    "p2015 = spoti_info(play_2015)"
   ]
  },
  {
   "cell_type": "code",
   "execution_count": 30,
   "id": "55fe6c33",
   "metadata": {},
   "outputs": [],
   "source": [
    "p2016 = spoti_info(play_2016)"
   ]
  },
  {
   "cell_type": "code",
   "execution_count": 31,
   "id": "ac3823dc",
   "metadata": {},
   "outputs": [],
   "source": [
    "p2017 = spoti_info(play_2017)"
   ]
  },
  {
   "cell_type": "code",
   "execution_count": 32,
   "id": "f4f1a3f3",
   "metadata": {},
   "outputs": [],
   "source": [
    "p20182019 = spoti_info(play_20182019)"
   ]
  },
  {
   "cell_type": "code",
   "execution_count": 33,
   "id": "db88ba3b",
   "metadata": {},
   "outputs": [],
   "source": [
    "p2020 = spoti_info(play_2020)"
   ]
  },
  {
   "cell_type": "code",
   "execution_count": 34,
   "id": "178074a4",
   "metadata": {},
   "outputs": [],
   "source": [
    "p2021 = spoti_info(play_2021)"
   ]
  },
  {
   "cell_type": "code",
   "execution_count": 35,
   "id": "0e97e97b",
   "metadata": {},
   "outputs": [],
   "source": [
    "p2022 = spoti_info(play_2022)"
   ]
  },
  {
   "cell_type": "code",
   "execution_count": 40,
   "id": "e8088dc0",
   "metadata": {},
   "outputs": [],
   "source": [
    "links = p2000 + p2001 + p2002 + p2003 + p2004 + p2005 + p2006\\\n",
    "                         +p2007 + p2008 + p2009 +p2010 +p2011+p2012+p2013+p2014+p2015\\\n",
    "                         +p2016 +p2017+p20182019+p2020+p2021+p2022"
   ]
  },
  {
   "cell_type": "code",
   "execution_count": 64,
   "id": "64a24947",
   "metadata": {},
   "outputs": [],
   "source": [
    "links = pd.DataFrame(links)"
   ]
  },
  {
   "cell_type": "code",
   "execution_count": 65,
   "id": "1d9760a7",
   "metadata": {},
   "outputs": [
    {
     "data": {
      "text/html": [
       "<div>\n",
       "<style scoped>\n",
       "    .dataframe tbody tr th:only-of-type {\n",
       "        vertical-align: middle;\n",
       "    }\n",
       "\n",
       "    .dataframe tbody tr th {\n",
       "        vertical-align: top;\n",
       "    }\n",
       "\n",
       "    .dataframe thead th {\n",
       "        text-align: right;\n",
       "    }\n",
       "</style>\n",
       "<table border=\"1\" class=\"dataframe\">\n",
       "  <thead>\n",
       "    <tr style=\"text-align: right;\">\n",
       "      <th></th>\n",
       "      <th>0</th>\n",
       "    </tr>\n",
       "  </thead>\n",
       "  <tbody>\n",
       "    <tr>\n",
       "      <th>0</th>\n",
       "      <td>https://open.spotify.com/track/3AJwUDP919kvQ9Q...</td>\n",
       "    </tr>\n",
       "    <tr>\n",
       "      <th>1</th>\n",
       "      <td>https://open.spotify.com/track/3DYm7Lp7Fc3xf6W...</td>\n",
       "    </tr>\n",
       "    <tr>\n",
       "      <th>2</th>\n",
       "      <td>https://open.spotify.com/track/3yfqSUWxFvZELEM...</td>\n",
       "    </tr>\n",
       "    <tr>\n",
       "      <th>3</th>\n",
       "      <td>https://open.spotify.com/track/6naxalmIoLFWR0s...</td>\n",
       "    </tr>\n",
       "    <tr>\n",
       "      <th>4</th>\n",
       "      <td>https://open.spotify.com/track/2DNyZP4Py6f4zMA...</td>\n",
       "    </tr>\n",
       "    <tr>\n",
       "      <th>...</th>\n",
       "      <td>...</td>\n",
       "    </tr>\n",
       "    <tr>\n",
       "      <th>2145</th>\n",
       "      <td>https://open.spotify.com/track/277ia0CBOO47RhG...</td>\n",
       "    </tr>\n",
       "    <tr>\n",
       "      <th>2146</th>\n",
       "      <td>https://open.spotify.com/track/2qEoAz0i6yEz5dP...</td>\n",
       "    </tr>\n",
       "    <tr>\n",
       "      <th>2147</th>\n",
       "      <td>https://open.spotify.com/track/2vsoD8S1OyrWSVI...</td>\n",
       "    </tr>\n",
       "    <tr>\n",
       "      <th>2148</th>\n",
       "      <td>https://open.spotify.com/track/6ynErSDSlxqsxg0...</td>\n",
       "    </tr>\n",
       "    <tr>\n",
       "      <th>2149</th>\n",
       "      <td>https://open.spotify.com/track/2NMjggapJcXXM7W...</td>\n",
       "    </tr>\n",
       "  </tbody>\n",
       "</table>\n",
       "<p>2150 rows × 1 columns</p>\n",
       "</div>"
      ],
      "text/plain": [
       "                                                      0\n",
       "0     https://open.spotify.com/track/3AJwUDP919kvQ9Q...\n",
       "1     https://open.spotify.com/track/3DYm7Lp7Fc3xf6W...\n",
       "2     https://open.spotify.com/track/3yfqSUWxFvZELEM...\n",
       "3     https://open.spotify.com/track/6naxalmIoLFWR0s...\n",
       "4     https://open.spotify.com/track/2DNyZP4Py6f4zMA...\n",
       "...                                                 ...\n",
       "2145  https://open.spotify.com/track/277ia0CBOO47RhG...\n",
       "2146  https://open.spotify.com/track/2qEoAz0i6yEz5dP...\n",
       "2147  https://open.spotify.com/track/2vsoD8S1OyrWSVI...\n",
       "2148  https://open.spotify.com/track/6ynErSDSlxqsxg0...\n",
       "2149  https://open.spotify.com/track/2NMjggapJcXXM7W...\n",
       "\n",
       "[2150 rows x 1 columns]"
      ]
     },
     "execution_count": 65,
     "metadata": {},
     "output_type": "execute_result"
    }
   ],
   "source": [
    "links"
   ]
  },
  {
   "cell_type": "code",
   "execution_count": 66,
   "id": "cdb2c5c0",
   "metadata": {},
   "outputs": [],
   "source": [
    "links.to_csv('../Proyecto-FInal-Spotify/CSV_primeros/links.csv', index=False)"
   ]
  },
  {
   "cell_type": "code",
   "execution_count": 68,
   "id": "ff620800",
   "metadata": {},
   "outputs": [
    {
     "data": {
      "text/html": [
       "<div>\n",
       "<style scoped>\n",
       "    .dataframe tbody tr th:only-of-type {\n",
       "        vertical-align: middle;\n",
       "    }\n",
       "\n",
       "    .dataframe tbody tr th {\n",
       "        vertical-align: top;\n",
       "    }\n",
       "\n",
       "    .dataframe thead th {\n",
       "        text-align: right;\n",
       "    }\n",
       "</style>\n",
       "<table border=\"1\" class=\"dataframe\">\n",
       "  <thead>\n",
       "    <tr style=\"text-align: right;\">\n",
       "      <th></th>\n",
       "      <th>0</th>\n",
       "    </tr>\n",
       "  </thead>\n",
       "  <tbody>\n",
       "    <tr>\n",
       "      <th>0</th>\n",
       "      <td>https://open.spotify.com/track/3AJwUDP919kvQ9Q...</td>\n",
       "    </tr>\n",
       "    <tr>\n",
       "      <th>1</th>\n",
       "      <td>https://open.spotify.com/track/3DYm7Lp7Fc3xf6W...</td>\n",
       "    </tr>\n",
       "    <tr>\n",
       "      <th>2</th>\n",
       "      <td>https://open.spotify.com/track/3yfqSUWxFvZELEM...</td>\n",
       "    </tr>\n",
       "    <tr>\n",
       "      <th>3</th>\n",
       "      <td>https://open.spotify.com/track/6naxalmIoLFWR0s...</td>\n",
       "    </tr>\n",
       "    <tr>\n",
       "      <th>4</th>\n",
       "      <td>https://open.spotify.com/track/2DNyZP4Py6f4zMA...</td>\n",
       "    </tr>\n",
       "  </tbody>\n",
       "</table>\n",
       "</div>"
      ],
      "text/plain": [
       "                                                   0\n",
       "0  https://open.spotify.com/track/3AJwUDP919kvQ9Q...\n",
       "1  https://open.spotify.com/track/3DYm7Lp7Fc3xf6W...\n",
       "2  https://open.spotify.com/track/3yfqSUWxFvZELEM...\n",
       "3  https://open.spotify.com/track/6naxalmIoLFWR0s...\n",
       "4  https://open.spotify.com/track/2DNyZP4Py6f4zMA..."
      ]
     },
     "execution_count": 68,
     "metadata": {},
     "output_type": "execute_result"
    }
   ],
   "source": [
    "links = pd.read_csv('../Proyecto-FInal-Spotify/CSV_primeros/links.csv')\n",
    "\n",
    "links.head(5)"
   ]
  },
  {
   "cell_type": "code",
   "execution_count": 72,
   "id": "ee62cc3b",
   "metadata": {},
   "outputs": [],
   "source": [
    "links = links['0'].tolist()"
   ]
  },
  {
   "cell_type": "code",
   "execution_count": 73,
   "id": "1e766d90",
   "metadata": {},
   "outputs": [],
   "source": [
    " links_rd = random.sample(links,100)"
   ]
  },
  {
   "cell_type": "code",
   "execution_count": 51,
   "id": "c4010d1a",
   "metadata": {},
   "outputs": [],
   "source": [
    "token='BQDJ4BKfvhpLd2a0G2z-noYzp5oo0m6PhUPWHGJu2ppNmgxu5LTKCRDzSFdlDp_1uSYNFGHVRRGc7AUckDDSeEXitFrgNz9sRy047MRFELnC1W8YQZvl5KXbGVy_c26uDyfw6rFMzH9f9UaoLRrsYe3rVYjdF8qVMAbdeIFhydJGBwX0S2UMMHFj1mvu9iq6H6Jn7xqQJzqFeGm4nFOrJoHpgq7sofKSUKpApYzEYQ'"
   ]
  },
  {
   "cell_type": "code",
   "execution_count": 52,
   "id": "4be535dd",
   "metadata": {},
   "outputs": [],
   "source": [
    "sp = spotipy.Spotify(auth=token)\n"
   ]
  },
  {
   "cell_type": "code",
   "execution_count": 67,
   "id": "5278b52b",
   "metadata": {},
   "outputs": [
    {
     "data": {
      "text/plain": [
       "{'collaborative': False,\n",
       " 'description': 'prueba',\n",
       " 'external_urls': {'spotify': 'https://open.spotify.com/playlist/48KXGa9uNtJXQsax6Pb6LM'},\n",
       " 'followers': {'href': None, 'total': 0},\n",
       " 'href': 'https://api.spotify.com/v1/playlists/48KXGa9uNtJXQsax6Pb6LM',\n",
       " 'id': '48KXGa9uNtJXQsax6Pb6LM',\n",
       " 'images': [],\n",
       " 'name': 'exitos',\n",
       " 'owner': {'display_name': 'javi1025',\n",
       "  'external_urls': {'spotify': 'https://open.spotify.com/user/javi1025'},\n",
       "  'href': 'https://api.spotify.com/v1/users/javi1025',\n",
       "  'id': 'javi1025',\n",
       "  'type': 'user',\n",
       "  'uri': 'spotify:user:javi1025'},\n",
       " 'primary_color': None,\n",
       " 'public': True,\n",
       " 'snapshot_id': 'MSwwM2VmMzljMzg2ZjllNzU1YjY4MzNkZGNlOGNlMTcwNzllNjBlMzBm',\n",
       " 'tracks': {'href': 'https://api.spotify.com/v1/playlists/48KXGa9uNtJXQsax6Pb6LM/tracks',\n",
       "  'items': [],\n",
       "  'limit': 100,\n",
       "  'next': None,\n",
       "  'offset': 0,\n",
       "  'previous': None,\n",
       "  'total': 0},\n",
       " 'type': 'playlist',\n",
       " 'uri': 'spotify:playlist:48KXGa9uNtJXQsax6Pb6LM'}"
      ]
     },
     "execution_count": 67,
     "metadata": {},
     "output_type": "execute_result"
    }
   ],
   "source": [
    "sp.user_playlist_create(user='javi1025',name='exitos',description='prueba')"
   ]
  },
  {
   "cell_type": "code",
   "execution_count": 54,
   "id": "016f1bc8",
   "metadata": {},
   "outputs": [
    {
     "data": {
      "text/plain": [
       "{'snapshot_id': 'MyxjODBmMTY0ZDE1MjBkN2U1ZjViZjBmYTM5MmVhY2MzNDYyOWJkODFm'}"
      ]
     },
     "execution_count": 54,
     "metadata": {},
     "output_type": "execute_result"
    }
   ],
   "source": [
    "sp.user_playlist_add_tracks(user='javi1025', \n",
    "                            playlist_id='2NnjEropfPhacMUU1w6SYl',\n",
    "                            tracks=links_rd, \n",
    "                            position=None)"
   ]
  },
  {
   "cell_type": "code",
   "execution_count": null,
   "id": "32f172ad",
   "metadata": {},
   "outputs": [],
   "source": []
  }
 ],
 "metadata": {
  "kernelspec": {
   "display_name": "Python 3 (ipykernel)",
   "language": "python",
   "name": "python3"
  },
  "language_info": {
   "codemirror_mode": {
    "name": "ipython",
    "version": 3
   },
   "file_extension": ".py",
   "mimetype": "text/x-python",
   "name": "python",
   "nbconvert_exporter": "python",
   "pygments_lexer": "ipython3",
   "version": "3.9.12"
  }
 },
 "nbformat": 4,
 "nbformat_minor": 5
}
