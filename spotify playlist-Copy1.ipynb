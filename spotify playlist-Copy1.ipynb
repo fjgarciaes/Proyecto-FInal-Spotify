{
 "cells": [
  {
   "cell_type": "code",
   "execution_count": 4,
   "id": "9b35edab",
   "metadata": {},
   "outputs": [
    {
     "ename": "ImportError",
     "evalue": "cannot import name 'oauth2' from 'spotipy.oauth2' (/Users/javi/opt/anaconda3/lib/python3.9/site-packages/spotipy/oauth2.py)",
     "output_type": "error",
     "traceback": [
      "\u001b[0;31m---------------------------------------------------------------------------\u001b[0m",
      "\u001b[0;31mImportError\u001b[0m                               Traceback (most recent call last)",
      "Input \u001b[0;32mIn [4]\u001b[0m, in \u001b[0;36m<cell line: 4>\u001b[0;34m()\u001b[0m\n\u001b[1;32m      1\u001b[0m \u001b[38;5;28;01mimport\u001b[39;00m \u001b[38;5;21;01mspotipy\u001b[39;00m\n\u001b[1;32m      3\u001b[0m \u001b[38;5;28;01mfrom\u001b[39;00m \u001b[38;5;21;01mspotipy\u001b[39;00m\u001b[38;5;21;01m.\u001b[39;00m\u001b[38;5;21;01moauth2\u001b[39;00m \u001b[38;5;28;01mimport\u001b[39;00m SpotifyOAuth\n\u001b[0;32m----> 4\u001b[0m \u001b[38;5;28;01mfrom\u001b[39;00m \u001b[38;5;21;01mspotipy\u001b[39;00m\u001b[38;5;21;01m.\u001b[39;00m\u001b[38;5;21;01moauth2\u001b[39;00m \u001b[38;5;28;01mimport\u001b[39;00m oauth2\n\u001b[1;32m      5\u001b[0m \u001b[38;5;28;01mfrom\u001b[39;00m \u001b[38;5;21;01mspotipy\u001b[39;00m\u001b[38;5;21;01m.\u001b[39;00m\u001b[38;5;21;01moauth2\u001b[39;00m \u001b[38;5;28;01mimport\u001b[39;00m SpotifyClientCredentials\n\u001b[1;32m      6\u001b[0m \u001b[38;5;28;01mimport\u001b[39;00m \u001b[38;5;21;01mspotipy\u001b[39;00m\u001b[38;5;21;01m.\u001b[39;00m\u001b[38;5;21;01mutil\u001b[39;00m \u001b[38;5;28;01mas\u001b[39;00m \u001b[38;5;21;01mutil\u001b[39;00m\n",
      "\u001b[0;31mImportError\u001b[0m: cannot import name 'oauth2' from 'spotipy.oauth2' (/Users/javi/opt/anaconda3/lib/python3.9/site-packages/spotipy/oauth2.py)"
     ]
    }
   ],
   "source": [
    "import spotipy\n",
    "\n",
    "from spotipy.oauth2 import SpotifyOAuth\n",
    "from spotipy.oauth2 import oauth2\n",
    "from spotipy.oauth2 import SpotifyClientCredentials\n",
    "import spotipy.util as util"
   ]
  },
  {
   "cell_type": "code",
   "execution_count": 6,
   "id": "71fdeb70",
   "metadata": {},
   "outputs": [
    {
     "data": {
      "text/plain": [
       "(<spotipy.client.Spotify at 0x7f87b450cc70>,\n",
       " <spotipy.oauth2.SpotifyOAuth at 0x7f87b450cd00>)"
      ]
     },
     "execution_count": 6,
     "metadata": {},
     "output_type": "execute_result"
    }
   ],
   "source": [
    "def connect_to_spotify():\n",
    "    \"\"\"Used to obtain the auth_manager and establish a connection to Spotify\n",
    "    for the given user.\n",
    "    Returns (Spotify object, auth_manager)\"\"\"\n",
    "    auth_manager = SpotifyOAuth(\n",
    "        client_id=\"74c040f7ab8049648ec083fdadfc1ddb\",\n",
    "        client_secret=\"a9fa947f1cde460bb37b94060380a6cb\",\n",
    "        redirect_uri=\"https://open.spotify.com/\",\n",
    "        scope='playlist-modify-public',\n",
    "        username='javi1025')\n",
    "\n",
    "    if auth_manager:\n",
    "        return (spotipy.Spotify(auth_manager=auth_manager), auth_manager)\n",
    "\n",
    "    print(f\"Can't get token for {username}\")\n",
    "    sys.exit()\n",
    "\n",
    "\n",
    "connect_to_spotify()"
   ]
  },
  {
   "cell_type": "code",
   "execution_count": 7,
   "id": "c695ac9d",
   "metadata": {},
   "outputs": [],
   "source": [
    "  auth_manager = SpotifyOAuth(\n",
    "        client_id=\"74c040f7ab8049648ec083fdadfc1ddb\",\n",
    "        client_secret=\"a9fa947f1cde460bb37b94060380a6cb\",\n",
    "        redirect_uri=\"https://open.spotify.com/\",\n",
    "        scope='playlist-modify-public',\n",
    "        username='javi1025')"
   ]
  },
  {
   "cell_type": "code",
   "execution_count": 8,
   "id": "9f1fac37",
   "metadata": {},
   "outputs": [],
   "source": [
    "spotifyObject=spotipy.Spotify(auth_manager)"
   ]
  },
  {
   "cell_type": "code",
   "execution_count": 9,
   "id": "7ead144c",
   "metadata": {},
   "outputs": [
    {
     "name": "stderr",
     "output_type": "stream",
     "text": [
      "2022-12-14 19:01:44,267 [1809] ERROR    spotipy.client:262: [JupyterRequire] HTTP Error for POST to https://api.spotify.com/v1/users/username/playlists with Params: {} returned 400 due to Only valid bearer authentication supported\n"
     ]
    },
    {
     "ename": "SpotifyException",
     "evalue": "http status: 400, code:-1 - https://api.spotify.com/v1/users/username/playlists:\n Only valid bearer authentication supported, reason: None",
     "output_type": "error",
     "traceback": [
      "\u001b[0;31m---------------------------------------------------------------------------\u001b[0m",
      "\u001b[0;31mHTTPError\u001b[0m                                 Traceback (most recent call last)",
      "File \u001b[0;32m~/opt/anaconda3/lib/python3.9/site-packages/spotipy/client.py:245\u001b[0m, in \u001b[0;36mSpotify._internal_call\u001b[0;34m(self, method, url, payload, params)\u001b[0m\n\u001b[1;32m    240\u001b[0m response \u001b[38;5;241m=\u001b[39m \u001b[38;5;28mself\u001b[39m\u001b[38;5;241m.\u001b[39m_session\u001b[38;5;241m.\u001b[39mrequest(\n\u001b[1;32m    241\u001b[0m     method, url, headers\u001b[38;5;241m=\u001b[39mheaders, proxies\u001b[38;5;241m=\u001b[39m\u001b[38;5;28mself\u001b[39m\u001b[38;5;241m.\u001b[39mproxies,\n\u001b[1;32m    242\u001b[0m     timeout\u001b[38;5;241m=\u001b[39m\u001b[38;5;28mself\u001b[39m\u001b[38;5;241m.\u001b[39mrequests_timeout, \u001b[38;5;241m*\u001b[39m\u001b[38;5;241m*\u001b[39margs\n\u001b[1;32m    243\u001b[0m )\n\u001b[0;32m--> 245\u001b[0m \u001b[43mresponse\u001b[49m\u001b[38;5;241;43m.\u001b[39;49m\u001b[43mraise_for_status\u001b[49m\u001b[43m(\u001b[49m\u001b[43m)\u001b[49m\n\u001b[1;32m    246\u001b[0m results \u001b[38;5;241m=\u001b[39m response\u001b[38;5;241m.\u001b[39mjson()\n",
      "File \u001b[0;32m~/opt/anaconda3/lib/python3.9/site-packages/requests/models.py:960\u001b[0m, in \u001b[0;36mResponse.raise_for_status\u001b[0;34m(self)\u001b[0m\n\u001b[1;32m    959\u001b[0m \u001b[38;5;28;01mif\u001b[39;00m http_error_msg:\n\u001b[0;32m--> 960\u001b[0m     \u001b[38;5;28;01mraise\u001b[39;00m HTTPError(http_error_msg, response\u001b[38;5;241m=\u001b[39m\u001b[38;5;28mself\u001b[39m)\n",
      "\u001b[0;31mHTTPError\u001b[0m: 400 Client Error: Bad Request for url: https://api.spotify.com/v1/users/username/playlists",
      "\nDuring handling of the above exception, another exception occurred:\n",
      "\u001b[0;31mSpotifyException\u001b[0m                          Traceback (most recent call last)",
      "Input \u001b[0;32mIn [9]\u001b[0m, in \u001b[0;36m<cell line: 1>\u001b[0;34m()\u001b[0m\n\u001b[0;32m----> 1\u001b[0m \u001b[43mspotifyObject\u001b[49m\u001b[38;5;241;43m.\u001b[39;49m\u001b[43muser_playlist_create\u001b[49m\u001b[43m(\u001b[49m\u001b[43muser\u001b[49m\u001b[38;5;241;43m=\u001b[39;49m\u001b[38;5;124;43m'\u001b[39;49m\u001b[38;5;124;43musername\u001b[39;49m\u001b[38;5;124;43m'\u001b[39;49m\u001b[43m,\u001b[49m\u001b[43mname\u001b[49m\u001b[38;5;241;43m=\u001b[39;49m\u001b[38;5;124;43m'\u001b[39;49m\u001b[38;5;124;43mplaylist_name\u001b[39;49m\u001b[38;5;124;43m'\u001b[39;49m\u001b[43m,\u001b[49m\u001b[43mpublic\u001b[49m\u001b[38;5;241;43m=\u001b[39;49m\u001b[38;5;28;43;01mTrue\u001b[39;49;00m\u001b[43m,\u001b[49m\u001b[43mdescription\u001b[49m\u001b[38;5;241;43m=\u001b[39;49m\u001b[38;5;124;43m'\u001b[39;49m\u001b[38;5;124;43mplaylist_description\u001b[39;49m\u001b[38;5;124;43m'\u001b[39;49m\u001b[43m)\u001b[49m\n",
      "File \u001b[0;32m~/opt/anaconda3/lib/python3.9/site-packages/spotipy/client.py:792\u001b[0m, in \u001b[0;36mSpotify.user_playlist_create\u001b[0;34m(self, user, name, public, collaborative, description)\u001b[0m\n\u001b[1;32m    776\u001b[0m \u001b[38;5;124;03m\"\"\" Creates a playlist for a user\u001b[39;00m\n\u001b[1;32m    777\u001b[0m \n\u001b[1;32m    778\u001b[0m \u001b[38;5;124;03m    Parameters:\u001b[39;00m\n\u001b[0;32m   (...)\u001b[0m\n\u001b[1;32m    783\u001b[0m \u001b[38;5;124;03m        - description - the description of the playlist\u001b[39;00m\n\u001b[1;32m    784\u001b[0m \u001b[38;5;124;03m\"\"\"\u001b[39;00m\n\u001b[1;32m    785\u001b[0m data \u001b[38;5;241m=\u001b[39m {\n\u001b[1;32m    786\u001b[0m     \u001b[38;5;124m\"\u001b[39m\u001b[38;5;124mname\u001b[39m\u001b[38;5;124m\"\u001b[39m: name,\n\u001b[1;32m    787\u001b[0m     \u001b[38;5;124m\"\u001b[39m\u001b[38;5;124mpublic\u001b[39m\u001b[38;5;124m\"\u001b[39m: public,\n\u001b[1;32m    788\u001b[0m     \u001b[38;5;124m\"\u001b[39m\u001b[38;5;124mcollaborative\u001b[39m\u001b[38;5;124m\"\u001b[39m: collaborative,\n\u001b[1;32m    789\u001b[0m     \u001b[38;5;124m\"\u001b[39m\u001b[38;5;124mdescription\u001b[39m\u001b[38;5;124m\"\u001b[39m: description\n\u001b[1;32m    790\u001b[0m }\n\u001b[0;32m--> 792\u001b[0m \u001b[38;5;28;01mreturn\u001b[39;00m \u001b[38;5;28;43mself\u001b[39;49m\u001b[38;5;241;43m.\u001b[39;49m\u001b[43m_post\u001b[49m\u001b[43m(\u001b[49m\u001b[38;5;124;43m\"\u001b[39;49m\u001b[38;5;124;43musers/\u001b[39;49m\u001b[38;5;132;43;01m%s\u001b[39;49;00m\u001b[38;5;124;43m/playlists\u001b[39;49m\u001b[38;5;124;43m\"\u001b[39;49m\u001b[43m \u001b[49m\u001b[38;5;241;43m%\u001b[39;49m\u001b[43m \u001b[49m\u001b[43m(\u001b[49m\u001b[43muser\u001b[49m\u001b[43m,\u001b[49m\u001b[43m)\u001b[49m\u001b[43m,\u001b[49m\u001b[43m \u001b[49m\u001b[43mpayload\u001b[49m\u001b[38;5;241;43m=\u001b[39;49m\u001b[43mdata\u001b[49m\u001b[43m)\u001b[49m\n",
      "File \u001b[0;32m~/opt/anaconda3/lib/python3.9/site-packages/spotipy/client.py:302\u001b[0m, in \u001b[0;36mSpotify._post\u001b[0;34m(self, url, args, payload, **kwargs)\u001b[0m\n\u001b[1;32m    300\u001b[0m \u001b[38;5;28;01mif\u001b[39;00m args:\n\u001b[1;32m    301\u001b[0m     kwargs\u001b[38;5;241m.\u001b[39mupdate(args)\n\u001b[0;32m--> 302\u001b[0m \u001b[38;5;28;01mreturn\u001b[39;00m \u001b[38;5;28;43mself\u001b[39;49m\u001b[38;5;241;43m.\u001b[39;49m\u001b[43m_internal_call\u001b[49m\u001b[43m(\u001b[49m\u001b[38;5;124;43m\"\u001b[39;49m\u001b[38;5;124;43mPOST\u001b[39;49m\u001b[38;5;124;43m\"\u001b[39;49m\u001b[43m,\u001b[49m\u001b[43m \u001b[49m\u001b[43murl\u001b[49m\u001b[43m,\u001b[49m\u001b[43m \u001b[49m\u001b[43mpayload\u001b[49m\u001b[43m,\u001b[49m\u001b[43m \u001b[49m\u001b[43mkwargs\u001b[49m\u001b[43m)\u001b[49m\n",
      "File \u001b[0;32m~/opt/anaconda3/lib/python3.9/site-packages/spotipy/client.py:267\u001b[0m, in \u001b[0;36mSpotify._internal_call\u001b[0;34m(self, method, url, payload, params)\u001b[0m\n\u001b[1;32m    260\u001b[0m         reason \u001b[38;5;241m=\u001b[39m \u001b[38;5;28;01mNone\u001b[39;00m\n\u001b[1;32m    262\u001b[0m     logger\u001b[38;5;241m.\u001b[39merror(\n\u001b[1;32m    263\u001b[0m         \u001b[38;5;124m'\u001b[39m\u001b[38;5;124mHTTP Error for \u001b[39m\u001b[38;5;132;01m%s\u001b[39;00m\u001b[38;5;124m to \u001b[39m\u001b[38;5;132;01m%s\u001b[39;00m\u001b[38;5;124m with Params: \u001b[39m\u001b[38;5;132;01m%s\u001b[39;00m\u001b[38;5;124m returned \u001b[39m\u001b[38;5;132;01m%s\u001b[39;00m\u001b[38;5;124m due to \u001b[39m\u001b[38;5;132;01m%s\u001b[39;00m\u001b[38;5;124m'\u001b[39m,\n\u001b[1;32m    264\u001b[0m         method, url, args\u001b[38;5;241m.\u001b[39mget(\u001b[38;5;124m\"\u001b[39m\u001b[38;5;124mparams\u001b[39m\u001b[38;5;124m\"\u001b[39m), response\u001b[38;5;241m.\u001b[39mstatus_code, msg\n\u001b[1;32m    265\u001b[0m     )\n\u001b[0;32m--> 267\u001b[0m     \u001b[38;5;28;01mraise\u001b[39;00m SpotifyException(\n\u001b[1;32m    268\u001b[0m         response\u001b[38;5;241m.\u001b[39mstatus_code,\n\u001b[1;32m    269\u001b[0m         \u001b[38;5;241m-\u001b[39m\u001b[38;5;241m1\u001b[39m,\n\u001b[1;32m    270\u001b[0m         \u001b[38;5;124m\"\u001b[39m\u001b[38;5;132;01m%s\u001b[39;00m\u001b[38;5;124m:\u001b[39m\u001b[38;5;130;01m\\n\u001b[39;00m\u001b[38;5;124m \u001b[39m\u001b[38;5;132;01m%s\u001b[39;00m\u001b[38;5;124m\"\u001b[39m \u001b[38;5;241m%\u001b[39m (response\u001b[38;5;241m.\u001b[39murl, msg),\n\u001b[1;32m    271\u001b[0m         reason\u001b[38;5;241m=\u001b[39mreason,\n\u001b[1;32m    272\u001b[0m         headers\u001b[38;5;241m=\u001b[39mresponse\u001b[38;5;241m.\u001b[39mheaders,\n\u001b[1;32m    273\u001b[0m     )\n\u001b[1;32m    274\u001b[0m \u001b[38;5;28;01mexcept\u001b[39;00m requests\u001b[38;5;241m.\u001b[39mexceptions\u001b[38;5;241m.\u001b[39mRetryError \u001b[38;5;28;01mas\u001b[39;00m retry_error:\n\u001b[1;32m    275\u001b[0m     request \u001b[38;5;241m=\u001b[39m retry_error\u001b[38;5;241m.\u001b[39mrequest\n",
      "\u001b[0;31mSpotifyException\u001b[0m: http status: 400, code:-1 - https://api.spotify.com/v1/users/username/playlists:\n Only valid bearer authentication supported, reason: None"
     ]
    }
   ],
   "source": [
    "spotifyObject.user_playlist_create(user='username',name='playlist_name',public=True,description='playlist_description')"
   ]
  },
  {
   "cell_type": "code",
   "execution_count": null,
   "id": "1b61fa00",
   "metadata": {},
   "outputs": [],
   "source": [
    ">>> # Credentials you get from registering a new application\n",
    ">>> client_id = '74c040f7ab8049648ec083fdadfc1ddb'\n",
    ">>> client_secret = 'a9fa947f1cde460bb37b94060380a6cb'\n",
    ">>> redirect_uri = 'http://127.0.0.1:8080/'\n",
    "\n",
    ">>> # OAuth endpoints given in the Spotify API documentation\n",
    ">>> # https://developer.spotify.com/documentation/general/guides/authorization/code-flow/\n",
    ">>> authorization_base_url = \"https://accounts.spotify.com/authorize\"\n",
    ">>> token_url = \"https://accounts.spotify.com/api/token\"\n",
    ">>> # https://developer.spotify.com/documentation/general/guides/authorization/scopes/\n",
    ">>> scope = [\n",
    "...     \"javi1025\",\n",
    "...     \"playlist-modify-public\"\n",
    "... ]\n",
    "\n",
    ">>> from requests_oauthlib import OAuth2Session\n",
    ">>> spotify = OAuth2Session(client_id, scope=scope, redirect_uri=redirect_uri)\n",
    "\n",
    ">>> # Redirect user to Spotify for authorization\n",
    ">>> authorization_url, state = spotify.authorization_url(authorization_base_url)\n",
    ">>> print('Please go here and authorize: ', authorization_url)\n",
    "\n",
    ">>> # Get the authorization verifier code from the callback url\n",
    ">>> redirect_response = input('\\n\\nPaste the full redirect URL here: ')\n",
    "\n",
    ">>> from requests.auth import HTTPBasicAuth\n",
    "\n",
    ">>> auth = HTTPBasicAuth(client_id, client_secret)\n",
    "\n",
    ">>> # Fetch the access token\n",
    ">>> token = spotify.fetch_token(token_url, auth=auth,\n",
    "...         authorization_response=redirect_response)\n",
    "\n",
    ">>> print(token)\n",
    "\n",
    ">>> # Fetch a protected resource, i.e. user profile\n",
    ">>> r = spotify.get('https://api.spotify.com/v1/me')\n",
    ">>> print(r.content)"
   ]
  },
  {
   "cell_type": "code",
   "execution_count": null,
   "id": "c4d62c81",
   "metadata": {},
   "outputs": [],
   "source": [
    "help(SpotifyOAuth)"
   ]
  },
  {
   "cell_type": "code",
   "execution_count": null,
   "id": "426f79ce",
   "metadata": {},
   "outputs": [],
   "source": [
    "auth_manager = SpotifyOAuth('74c040f7ab8049648ec083fdadfc1ddb',\n",
    "                            'a9fa947f1cde460bb37b94060380a6cb',\n",
    "                            'http://127.0.0.1:8080/')\n"
   ]
  },
  {
   "cell_type": "code",
   "execution_count": null,
   "id": "9b364f8c",
   "metadata": {},
   "outputs": [],
   "source": [
    "scope = 'playlist-modify-public'\n",
    "username = 'javi1025'"
   ]
  },
  {
   "cell_type": "code",
   "execution_count": null,
   "id": "9094e3c1",
   "metadata": {},
   "outputs": [],
   "source": [
    "token = SpotifyOAuth(client_id='74c040f7ab8049648ec083fdadfc1ddb',\n",
    "                     client_secret='a9fa947f1cde460bb37b94060380a6cb',\n",
    "                     redirect_uri='http://127.0.0.1:8080/',\n",
    "                     scope=scope,\n",
    "                     username=username)"
   ]
  },
  {
   "cell_type": "code",
   "execution_count": null,
   "id": "e9e96252",
   "metadata": {},
   "outputs": [],
   "source": [
    "token"
   ]
  },
  {
   "cell_type": "code",
   "execution_count": null,
   "id": "8bfee9bf",
   "metadata": {},
   "outputs": [],
   "source": [
    "SpotifyOAuth(client_id='74c040f7ab8049648ec083fdadfc1ddb',\n",
    "                            client_secret='a9fa947f1cde460bb37b94060380a6cb',\n",
    "                            redirect_uri='http://127.0.0.1:8080/')"
   ]
  },
  {
   "cell_type": "code",
   "execution_count": null,
   "id": "e83ff97b",
   "metadata": {},
   "outputs": [],
   "source": [
    "spotifyObject=spotipy.Spotify(auth_manager=token)"
   ]
  },
  {
   "cell_type": "code",
   "execution_count": null,
   "id": "4ba4a056",
   "metadata": {},
   "outputs": [],
   "source": [
    "#auth_manager = SpotifyClientCredentials('74c040f7ab8049648ec083fdadfc1ddb','a9fa947f1cde460bb37b94060380a6cb')\n",
    "#sp = spotipy.Spotify(auth_manager=auth_manager)"
   ]
  },
  {
   "cell_type": "code",
   "execution_count": null,
   "id": "9aacb24e",
   "metadata": {},
   "outputs": [],
   "source": [
    "#token=SpotifyOAuth(scope=scope,username=username)"
   ]
  },
  {
   "cell_type": "code",
   "execution_count": null,
   "id": "f3153848",
   "metadata": {},
   "outputs": [],
   "source": [
    "util.prompt_for_user_token(username=username,\n",
    "                           scope=scope,\n",
    "                           client_id='74c040f7ab8049648ec083fdadfc1ddb',\n",
    "                           client_secret='a9fa947f1cde460bb37b94060380a6cb',\n",
    "                           redirect_uri='http://127.0.0.1:8080')"
   ]
  },
  {
   "cell_type": "code",
   "execution_count": null,
   "id": "49669be6",
   "metadata": {},
   "outputs": [],
   "source": [
    "help(util)"
   ]
  },
  {
   "cell_type": "markdown",
   "id": "39bb83d2",
   "metadata": {},
   "source": [
    "## Create the playlist"
   ]
  },
  {
   "cell_type": "code",
   "execution_count": null,
   "id": "641695f3",
   "metadata": {},
   "outputs": [],
   "source": [
    "playlist_name =input('Enter a playlist name:')"
   ]
  },
  {
   "cell_type": "code",
   "execution_count": null,
   "id": "ddc69fa2",
   "metadata": {},
   "outputs": [],
   "source": [
    "playlist_description = input ('Enter a playlist description:')"
   ]
  },
  {
   "cell_type": "code",
   "execution_count": null,
   "id": "5ab2190c",
   "metadata": {},
   "outputs": [],
   "source": [
    "spotifyObject.user_playlist_create(user='username',name='playlist_name',public=True,description='playlist_description')"
   ]
  },
  {
   "cell_type": "code",
   "execution_count": null,
   "id": "5e2f0b68",
   "metadata": {},
   "outputs": [],
   "source": []
  }
 ],
 "metadata": {
  "kernelspec": {
   "display_name": "Python 3 (ipykernel)",
   "language": "python",
   "name": "python3"
  },
  "language_info": {
   "codemirror_mode": {
    "name": "ipython",
    "version": 3
   },
   "file_extension": ".py",
   "mimetype": "text/x-python",
   "name": "python",
   "nbconvert_exporter": "python",
   "pygments_lexer": "ipython3",
   "version": "3.9.12"
  }
 },
 "nbformat": 4,
 "nbformat_minor": 5
}
