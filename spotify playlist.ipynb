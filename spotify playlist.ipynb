{
 "cells": [
  {
   "cell_type": "code",
   "execution_count": 25,
   "id": "9b35edab",
   "metadata": {},
   "outputs": [],
   "source": [
    "import spotipy\n",
    "\n",
    "from spotipy.oauth2 import SpotifyOAuth\n",
    "import random"
   ]
  },
  {
   "cell_type": "code",
   "execution_count": 2,
   "id": "c4d62c81",
   "metadata": {},
   "outputs": [
    {
     "data": {
      "text/plain": [
       "spotipy.oauth2.SpotifyOAuth"
      ]
     },
     "execution_count": 2,
     "metadata": {},
     "output_type": "execute_result"
    }
   ],
   "source": [
    "SpotifyOAuth"
   ]
  },
  {
   "cell_type": "code",
   "execution_count": 3,
   "id": "bbd9c224",
   "metadata": {},
   "outputs": [],
   "source": [
    "token='BQCVOubBuAWmUF8nUK2qBxfuCYNxQJImlXepcNnjSjYKqQ0b1Y1hTAPJKwqKblHQLJa2aofjoDByZQLX_Ih45ckosrJ3BeeVXVIulZLMiw7k_UNpD4rbZYnpsDdYcB4m-3j7cyTt8Dsdn5WCcZ3FCZrfBUly6-czyRFcbWkW9EtIujdtNUwko6P31hRJjwymFyfdnUlyifM12ec4LOZDtjfVbG8XrpPs1eQCmmPKHg'"
   ]
  },
  {
   "cell_type": "code",
   "execution_count": 4,
   "id": "c23cdf38",
   "metadata": {},
   "outputs": [],
   "source": [
    "sp = spotipy.Spotify(auth=token)"
   ]
  },
  {
   "cell_type": "markdown",
   "id": "39bb83d2",
   "metadata": {},
   "source": [
    "## Create the playlist"
   ]
  },
  {
   "cell_type": "code",
   "execution_count": null,
   "id": "641695f3",
   "metadata": {},
   "outputs": [],
   "source": [
    "playlist_name =input('Enter a playlist name:')"
   ]
  },
  {
   "cell_type": "code",
   "execution_count": null,
   "id": "ddc69fa2",
   "metadata": {},
   "outputs": [],
   "source": [
    "playlist_description = input ('Enter a playlist description:')"
   ]
  },
  {
   "cell_type": "code",
   "execution_count": 12,
   "id": "5ab2190c",
   "metadata": {},
   "outputs": [
    {
     "data": {
      "text/plain": [
       "{'collaborative': False,\n",
       " 'description': 'prueba',\n",
       " 'external_urls': {'spotify': 'https://open.spotify.com/playlist/5gCb26kBnxtdski23MCjBY'},\n",
       " 'followers': {'href': None, 'total': 0},\n",
       " 'href': 'https://api.spotify.com/v1/playlists/5gCb26kBnxtdski23MCjBY',\n",
       " 'id': '5gCb26kBnxtdski23MCjBY',\n",
       " 'images': [],\n",
       " 'name': 'test3',\n",
       " 'owner': {'display_name': 'javi1025',\n",
       "  'external_urls': {'spotify': 'https://open.spotify.com/user/javi1025'},\n",
       "  'href': 'https://api.spotify.com/v1/users/javi1025',\n",
       "  'id': 'javi1025',\n",
       "  'type': 'user',\n",
       "  'uri': 'spotify:user:javi1025'},\n",
       " 'primary_color': None,\n",
       " 'public': True,\n",
       " 'snapshot_id': 'MSw3YTUwM2QwMWM4OTAxODZlZDc3MDAzMjVmYTNiM2U1ODgyNWRlMjQ4',\n",
       " 'tracks': {'href': 'https://api.spotify.com/v1/playlists/5gCb26kBnxtdski23MCjBY/tracks',\n",
       "  'items': [],\n",
       "  'limit': 100,\n",
       "  'next': None,\n",
       "  'offset': 0,\n",
       "  'previous': None,\n",
       "  'total': 0},\n",
       " 'type': 'playlist',\n",
       " 'uri': 'spotify:playlist:5gCb26kBnxtdski23MCjBY'}"
      ]
     },
     "execution_count": 12,
     "metadata": {},
     "output_type": "execute_result"
    }
   ],
   "source": [
    "sp.user_playlist_create(user='javi1025',name='test3',description='prueba')"
   ]
  },
  {
   "cell_type": "code",
   "execution_count": 7,
   "id": "5e2f0b68",
   "metadata": {},
   "outputs": [
    {
     "name": "stdout",
     "output_type": "stream",
     "text": [
      "Enter the song:\n"
     ]
    }
   ],
   "source": [
    "user_input = input('Enter the song:')\n",
    "list_of_songs = []"
   ]
  },
  {
   "cell_type": "code",
   "execution_count": 18,
   "id": "db84528b",
   "metadata": {},
   "outputs": [
    {
     "data": {
      "text/plain": [
       "{'snapshot_id': 'MywwZjUwMWI0NTJhYzk3OGJmNGZmM2VjYzViYjM3Y2ZjZDM0MjRmMTYz'}"
      ]
     },
     "execution_count": 18,
     "metadata": {},
     "output_type": "execute_result"
    }
   ],
   "source": [
    "sp.user_playlist_add_tracks(user='javi1025', \n",
    "                            playlist_id='5gCb26kBnxtdski23MCjBY',\n",
    "                            tracks=['spotify:track:1JOSZhu8W4gl3JY0xfTBNH'], \n",
    "                            position=None)\n"
   ]
  },
  {
   "cell_type": "code",
   "execution_count": 23,
   "id": "853e7473",
   "metadata": {},
   "outputs": [],
   "source": [
    "play_2000 ='https://open.spotify.com/playlist/37i9dQZF1DX4f5T2OF14nZ'\n",
    "play_2001 = 'https://open.spotify.com/playlist/37i9dQZF1DX8ri0Q7eg1qe'\n",
    "play_2002 ='https://open.spotify.com/playlist/37i9dQZF1DXag6GMMWZSZ4'\n",
    "play_2003 ='https://open.spotify.com/playlist/37i9dQZF1DX8EdanpjeYXD'\n",
    "play_2004 = 'https://open.spotify.com/playlist/37i9dQZF1DX25bh4Tsdtts'\n",
    "play_2005 = 'https://open.spotify.com/playlist/37i9dQZF1DXax0Fz6Uds7a'\n",
    "play_2006 = 'https://open.spotify.com/playlist/37i9dQZF1DX0ywbtKZmG0E'\n",
    "play_2007 = 'https://open.spotify.com/playlist/37i9dQZF1DXdHJoK6pY7Oh'\n",
    "play_2008 = 'https://open.spotify.com/playlist/37i9dQZF1DWVBAKsA3f6Ck'\n",
    "play_2009 = 'https://open.spotify.com/playlist/37i9dQZF1DX1bd6S1wAnbF'\n",
    "play_2010='https://open.spotify.com/playlist/37i9dQZF1DX9zzf8V7JAQ5'\n",
    "play_2011='https://open.spotify.com/playlist/37i9dQZF1DWVqckwNwncJY'\n",
    "play_2012='https://open.spotify.com/playlist/37i9dQZF1DX0rX3xBmXrDn'\n",
    "play_2013='https://open.spotify.com/playlist/37i9dQZF1DX5aHrtH3szCF'\n",
    "play_2014 = 'https://open.spotify.com/playlist/37i9dQZF1DX5S2RzqA1qg6'\n",
    "play_2015='https://open.spotify.com/playlist/37i9dQZF1DXcpG5daApEnA'\n",
    "play_2016='https://open.spotify.com/playlist/37i9dQZF1CyQp1mdXCYxpR'\n",
    "play_2017='https://open.spotify.com/playlist/37i9dQZF1DXaslEeaHwWLL'\n",
    "play_20182019='https://open.spotify.com/playlist/0sVCLfAbcXb8dKif9QP3Ch'\n",
    "play_2020 = 'https://open.spotify.com/playlist/2ErDoKVlOJMP5xKxyKmD6U'\n",
    "play_2021 = 'https://open.spotify.com/playlist/5tntLMmmuZiPB2d41VsS4P'\n",
    "play_2022 = 'https://open.spotify.com/playlist/37i9dQZF1DXdo9iIZiH7LB'"
   ]
  },
  {
   "cell_type": "code",
   "execution_count": 19,
   "id": "ecb13491",
   "metadata": {},
   "outputs": [],
   "source": [
    "def spoti_links(playlist):\n",
    "    play = sp.playlist_tracks(playlist, fields=None, limit=100,\\\n",
    "                          offset=0, market=None, additional_types=('track', 'episode'))\n",
    "    links_track = []\n",
    "    for e in (play['items']):\n",
    "        links_track.append(e['track']['external_urls']['spotify'])\n",
    "    \n",
    "\n",
    "    return links_track"
   ]
  },
  {
   "cell_type": "code",
   "execution_count": 26,
   "id": "d9f7a96d",
   "metadata": {},
   "outputs": [
    {
     "name": "stderr",
     "output_type": "stream",
     "text": [
      "2022-12-15 11:32:56,493 [3336] ERROR    spotipy.client:262: [JupyterRequire] HTTP Error for GET to https://api.spotify.com/v1/playlists/37i9dQZF1DX4f5T2OF14nZ/tracks with Params: {'limit': 100, 'offset': 0, 'fields': None, 'market': None, 'additional_types': 'track,episode'} returned 401 due to The access token expired\n"
     ]
    },
    {
     "ename": "SpotifyException",
     "evalue": "http status: 401, code:-1 - https://api.spotify.com/v1/playlists/37i9dQZF1DX4f5T2OF14nZ/tracks?limit=100&offset=0&additional_types=track%2Cepisode:\n The access token expired, reason: None",
     "output_type": "error",
     "traceback": [
      "\u001b[0;31m---------------------------------------------------------------------------\u001b[0m",
      "\u001b[0;31mHTTPError\u001b[0m                                 Traceback (most recent call last)",
      "File \u001b[0;32m~/opt/anaconda3/lib/python3.9/site-packages/spotipy/client.py:245\u001b[0m, in \u001b[0;36mSpotify._internal_call\u001b[0;34m(self, method, url, payload, params)\u001b[0m\n\u001b[1;32m    240\u001b[0m response \u001b[38;5;241m=\u001b[39m \u001b[38;5;28mself\u001b[39m\u001b[38;5;241m.\u001b[39m_session\u001b[38;5;241m.\u001b[39mrequest(\n\u001b[1;32m    241\u001b[0m     method, url, headers\u001b[38;5;241m=\u001b[39mheaders, proxies\u001b[38;5;241m=\u001b[39m\u001b[38;5;28mself\u001b[39m\u001b[38;5;241m.\u001b[39mproxies,\n\u001b[1;32m    242\u001b[0m     timeout\u001b[38;5;241m=\u001b[39m\u001b[38;5;28mself\u001b[39m\u001b[38;5;241m.\u001b[39mrequests_timeout, \u001b[38;5;241m*\u001b[39m\u001b[38;5;241m*\u001b[39margs\n\u001b[1;32m    243\u001b[0m )\n\u001b[0;32m--> 245\u001b[0m \u001b[43mresponse\u001b[49m\u001b[38;5;241;43m.\u001b[39;49m\u001b[43mraise_for_status\u001b[49m\u001b[43m(\u001b[49m\u001b[43m)\u001b[49m\n\u001b[1;32m    246\u001b[0m results \u001b[38;5;241m=\u001b[39m response\u001b[38;5;241m.\u001b[39mjson()\n",
      "File \u001b[0;32m~/opt/anaconda3/lib/python3.9/site-packages/requests/models.py:960\u001b[0m, in \u001b[0;36mResponse.raise_for_status\u001b[0;34m(self)\u001b[0m\n\u001b[1;32m    959\u001b[0m \u001b[38;5;28;01mif\u001b[39;00m http_error_msg:\n\u001b[0;32m--> 960\u001b[0m     \u001b[38;5;28;01mraise\u001b[39;00m HTTPError(http_error_msg, response\u001b[38;5;241m=\u001b[39m\u001b[38;5;28mself\u001b[39m)\n",
      "\u001b[0;31mHTTPError\u001b[0m: 401 Client Error: Unauthorized for url: https://api.spotify.com/v1/playlists/37i9dQZF1DX4f5T2OF14nZ/tracks?limit=100&offset=0&additional_types=track%2Cepisode",
      "\nDuring handling of the above exception, another exception occurred:\n",
      "\u001b[0;31mSpotifyException\u001b[0m                          Traceback (most recent call last)",
      "Input \u001b[0;32mIn [26]\u001b[0m, in \u001b[0;36m<cell line: 1>\u001b[0;34m()\u001b[0m\n\u001b[0;32m----> 1\u001b[0m p2000 \u001b[38;5;241m=\u001b[39m \u001b[43mspoti_links\u001b[49m\u001b[43m(\u001b[49m\u001b[43mplay_2000\u001b[49m\u001b[43m)\u001b[49m\n",
      "Input \u001b[0;32mIn [19]\u001b[0m, in \u001b[0;36mspoti_links\u001b[0;34m(playlist)\u001b[0m\n\u001b[1;32m      1\u001b[0m \u001b[38;5;28;01mdef\u001b[39;00m \u001b[38;5;21mspoti_links\u001b[39m(playlist):\n\u001b[0;32m----> 2\u001b[0m     play \u001b[38;5;241m=\u001b[39m \u001b[43msp\u001b[49m\u001b[38;5;241;43m.\u001b[39;49m\u001b[43mplaylist_tracks\u001b[49m\u001b[43m(\u001b[49m\u001b[43mplaylist\u001b[49m\u001b[43m,\u001b[49m\u001b[43m \u001b[49m\u001b[43mfields\u001b[49m\u001b[38;5;241;43m=\u001b[39;49m\u001b[38;5;28;43;01mNone\u001b[39;49;00m\u001b[43m,\u001b[49m\u001b[43m \u001b[49m\u001b[43mlimit\u001b[49m\u001b[38;5;241;43m=\u001b[39;49m\u001b[38;5;241;43m100\u001b[39;49m\u001b[43m,\u001b[49m\u001b[43m\\\u001b[49m\n\u001b[1;32m      3\u001b[0m \u001b[43m                          \u001b[49m\u001b[43moffset\u001b[49m\u001b[38;5;241;43m=\u001b[39;49m\u001b[38;5;241;43m0\u001b[39;49m\u001b[43m,\u001b[49m\u001b[43m \u001b[49m\u001b[43mmarket\u001b[49m\u001b[38;5;241;43m=\u001b[39;49m\u001b[38;5;28;43;01mNone\u001b[39;49;00m\u001b[43m,\u001b[49m\u001b[43m \u001b[49m\u001b[43madditional_types\u001b[49m\u001b[38;5;241;43m=\u001b[39;49m\u001b[43m(\u001b[49m\u001b[38;5;124;43m'\u001b[39;49m\u001b[38;5;124;43mtrack\u001b[39;49m\u001b[38;5;124;43m'\u001b[39;49m\u001b[43m,\u001b[49m\u001b[43m \u001b[49m\u001b[38;5;124;43m'\u001b[39;49m\u001b[38;5;124;43mepisode\u001b[39;49m\u001b[38;5;124;43m'\u001b[39;49m\u001b[43m)\u001b[49m\u001b[43m)\u001b[49m\n\u001b[1;32m      4\u001b[0m     links_track \u001b[38;5;241m=\u001b[39m []\n\u001b[1;32m      5\u001b[0m     \u001b[38;5;28;01mfor\u001b[39;00m e \u001b[38;5;129;01min\u001b[39;00m (play[\u001b[38;5;124m'\u001b[39m\u001b[38;5;124mitems\u001b[39m\u001b[38;5;124m'\u001b[39m]):\n",
      "File \u001b[0;32m~/opt/anaconda3/lib/python3.9/site-packages/spotipy/client.py:657\u001b[0m, in \u001b[0;36mSpotify.playlist_tracks\u001b[0;34m(self, playlist_id, fields, limit, offset, market, additional_types)\u001b[0m\n\u001b[1;32m    641\u001b[0m \u001b[38;5;124;03m\"\"\" Get full details of the tracks of a playlist.\u001b[39;00m\n\u001b[1;32m    642\u001b[0m \n\u001b[1;32m    643\u001b[0m \u001b[38;5;124;03m    Parameters:\u001b[39;00m\n\u001b[0;32m   (...)\u001b[0m\n\u001b[1;32m    650\u001b[0m \u001b[38;5;124;03m                             valid types are: track and episode\u001b[39;00m\n\u001b[1;32m    651\u001b[0m \u001b[38;5;124;03m\"\"\"\u001b[39;00m\n\u001b[1;32m    652\u001b[0m warnings\u001b[38;5;241m.\u001b[39mwarn(\n\u001b[1;32m    653\u001b[0m     \u001b[38;5;124m\"\u001b[39m\u001b[38;5;124mYou should use `playlist_items(playlist_id, ...,\u001b[39m\u001b[38;5;124m\"\u001b[39m\n\u001b[1;32m    654\u001b[0m     \u001b[38;5;124m\"\u001b[39m\u001b[38;5;124madditional_types=(\u001b[39m\u001b[38;5;124m'\u001b[39m\u001b[38;5;124mtrack\u001b[39m\u001b[38;5;124m'\u001b[39m\u001b[38;5;124m,))` instead\u001b[39m\u001b[38;5;124m\"\u001b[39m,\n\u001b[1;32m    655\u001b[0m     \u001b[38;5;167;01mDeprecationWarning\u001b[39;00m,\n\u001b[1;32m    656\u001b[0m )\n\u001b[0;32m--> 657\u001b[0m \u001b[38;5;28;01mreturn\u001b[39;00m \u001b[38;5;28;43mself\u001b[39;49m\u001b[38;5;241;43m.\u001b[39;49m\u001b[43mplaylist_items\u001b[49m\u001b[43m(\u001b[49m\u001b[43mplaylist_id\u001b[49m\u001b[43m,\u001b[49m\u001b[43m \u001b[49m\u001b[43mfields\u001b[49m\u001b[43m,\u001b[49m\u001b[43m \u001b[49m\u001b[43mlimit\u001b[49m\u001b[43m,\u001b[49m\u001b[43m \u001b[49m\u001b[43moffset\u001b[49m\u001b[43m,\u001b[49m\n\u001b[1;32m    658\u001b[0m \u001b[43m                           \u001b[49m\u001b[43mmarket\u001b[49m\u001b[43m,\u001b[49m\u001b[43m \u001b[49m\u001b[43madditional_types\u001b[49m\u001b[43m)\u001b[49m\n",
      "File \u001b[0;32m~/opt/anaconda3/lib/python3.9/site-packages/spotipy/client.py:681\u001b[0m, in \u001b[0;36mSpotify.playlist_items\u001b[0;34m(self, playlist_id, fields, limit, offset, market, additional_types)\u001b[0m\n\u001b[1;32m    669\u001b[0m \u001b[38;5;124;03m\"\"\" Get full details of the tracks and episodes of a playlist.\u001b[39;00m\n\u001b[1;32m    670\u001b[0m \n\u001b[1;32m    671\u001b[0m \u001b[38;5;124;03m    Parameters:\u001b[39;00m\n\u001b[0;32m   (...)\u001b[0m\n\u001b[1;32m    678\u001b[0m \u001b[38;5;124;03m                             valid types are: track and episode\u001b[39;00m\n\u001b[1;32m    679\u001b[0m \u001b[38;5;124;03m\"\"\"\u001b[39;00m\n\u001b[1;32m    680\u001b[0m plid \u001b[38;5;241m=\u001b[39m \u001b[38;5;28mself\u001b[39m\u001b[38;5;241m.\u001b[39m_get_id(\u001b[38;5;124m\"\u001b[39m\u001b[38;5;124mplaylist\u001b[39m\u001b[38;5;124m\"\u001b[39m, playlist_id)\n\u001b[0;32m--> 681\u001b[0m \u001b[38;5;28;01mreturn\u001b[39;00m \u001b[38;5;28;43mself\u001b[39;49m\u001b[38;5;241;43m.\u001b[39;49m\u001b[43m_get\u001b[49m\u001b[43m(\u001b[49m\n\u001b[1;32m    682\u001b[0m \u001b[43m    \u001b[49m\u001b[38;5;124;43m\"\u001b[39;49m\u001b[38;5;124;43mplaylists/\u001b[39;49m\u001b[38;5;132;43;01m%s\u001b[39;49;00m\u001b[38;5;124;43m/tracks\u001b[39;49m\u001b[38;5;124;43m\"\u001b[39;49m\u001b[43m \u001b[49m\u001b[38;5;241;43m%\u001b[39;49m\u001b[43m \u001b[49m\u001b[43m(\u001b[49m\u001b[43mplid\u001b[49m\u001b[43m)\u001b[49m\u001b[43m,\u001b[49m\n\u001b[1;32m    683\u001b[0m \u001b[43m    \u001b[49m\u001b[43mlimit\u001b[49m\u001b[38;5;241;43m=\u001b[39;49m\u001b[43mlimit\u001b[49m\u001b[43m,\u001b[49m\n\u001b[1;32m    684\u001b[0m \u001b[43m    \u001b[49m\u001b[43moffset\u001b[49m\u001b[38;5;241;43m=\u001b[39;49m\u001b[43moffset\u001b[49m\u001b[43m,\u001b[49m\n\u001b[1;32m    685\u001b[0m \u001b[43m    \u001b[49m\u001b[43mfields\u001b[49m\u001b[38;5;241;43m=\u001b[39;49m\u001b[43mfields\u001b[49m\u001b[43m,\u001b[49m\n\u001b[1;32m    686\u001b[0m \u001b[43m    \u001b[49m\u001b[43mmarket\u001b[49m\u001b[38;5;241;43m=\u001b[39;49m\u001b[43mmarket\u001b[49m\u001b[43m,\u001b[49m\n\u001b[1;32m    687\u001b[0m \u001b[43m    \u001b[49m\u001b[43madditional_types\u001b[49m\u001b[38;5;241;43m=\u001b[39;49m\u001b[38;5;124;43m\"\u001b[39;49m\u001b[38;5;124;43m,\u001b[39;49m\u001b[38;5;124;43m\"\u001b[39;49m\u001b[38;5;241;43m.\u001b[39;49m\u001b[43mjoin\u001b[49m\u001b[43m(\u001b[49m\u001b[43madditional_types\u001b[49m\u001b[43m)\u001b[49m\n\u001b[1;32m    688\u001b[0m \u001b[43m\u001b[49m\u001b[43m)\u001b[49m\n",
      "File \u001b[0;32m~/opt/anaconda3/lib/python3.9/site-packages/spotipy/client.py:297\u001b[0m, in \u001b[0;36mSpotify._get\u001b[0;34m(self, url, args, payload, **kwargs)\u001b[0m\n\u001b[1;32m    294\u001b[0m \u001b[38;5;28;01mif\u001b[39;00m args:\n\u001b[1;32m    295\u001b[0m     kwargs\u001b[38;5;241m.\u001b[39mupdate(args)\n\u001b[0;32m--> 297\u001b[0m \u001b[38;5;28;01mreturn\u001b[39;00m \u001b[38;5;28;43mself\u001b[39;49m\u001b[38;5;241;43m.\u001b[39;49m\u001b[43m_internal_call\u001b[49m\u001b[43m(\u001b[49m\u001b[38;5;124;43m\"\u001b[39;49m\u001b[38;5;124;43mGET\u001b[39;49m\u001b[38;5;124;43m\"\u001b[39;49m\u001b[43m,\u001b[49m\u001b[43m \u001b[49m\u001b[43murl\u001b[49m\u001b[43m,\u001b[49m\u001b[43m \u001b[49m\u001b[43mpayload\u001b[49m\u001b[43m,\u001b[49m\u001b[43m \u001b[49m\u001b[43mkwargs\u001b[49m\u001b[43m)\u001b[49m\n",
      "File \u001b[0;32m~/opt/anaconda3/lib/python3.9/site-packages/spotipy/client.py:267\u001b[0m, in \u001b[0;36mSpotify._internal_call\u001b[0;34m(self, method, url, payload, params)\u001b[0m\n\u001b[1;32m    260\u001b[0m         reason \u001b[38;5;241m=\u001b[39m \u001b[38;5;28;01mNone\u001b[39;00m\n\u001b[1;32m    262\u001b[0m     logger\u001b[38;5;241m.\u001b[39merror(\n\u001b[1;32m    263\u001b[0m         \u001b[38;5;124m'\u001b[39m\u001b[38;5;124mHTTP Error for \u001b[39m\u001b[38;5;132;01m%s\u001b[39;00m\u001b[38;5;124m to \u001b[39m\u001b[38;5;132;01m%s\u001b[39;00m\u001b[38;5;124m with Params: \u001b[39m\u001b[38;5;132;01m%s\u001b[39;00m\u001b[38;5;124m returned \u001b[39m\u001b[38;5;132;01m%s\u001b[39;00m\u001b[38;5;124m due to \u001b[39m\u001b[38;5;132;01m%s\u001b[39;00m\u001b[38;5;124m'\u001b[39m,\n\u001b[1;32m    264\u001b[0m         method, url, args\u001b[38;5;241m.\u001b[39mget(\u001b[38;5;124m\"\u001b[39m\u001b[38;5;124mparams\u001b[39m\u001b[38;5;124m\"\u001b[39m), response\u001b[38;5;241m.\u001b[39mstatus_code, msg\n\u001b[1;32m    265\u001b[0m     )\n\u001b[0;32m--> 267\u001b[0m     \u001b[38;5;28;01mraise\u001b[39;00m SpotifyException(\n\u001b[1;32m    268\u001b[0m         response\u001b[38;5;241m.\u001b[39mstatus_code,\n\u001b[1;32m    269\u001b[0m         \u001b[38;5;241m-\u001b[39m\u001b[38;5;241m1\u001b[39m,\n\u001b[1;32m    270\u001b[0m         \u001b[38;5;124m\"\u001b[39m\u001b[38;5;132;01m%s\u001b[39;00m\u001b[38;5;124m:\u001b[39m\u001b[38;5;130;01m\\n\u001b[39;00m\u001b[38;5;124m \u001b[39m\u001b[38;5;132;01m%s\u001b[39;00m\u001b[38;5;124m\"\u001b[39m \u001b[38;5;241m%\u001b[39m (response\u001b[38;5;241m.\u001b[39murl, msg),\n\u001b[1;32m    271\u001b[0m         reason\u001b[38;5;241m=\u001b[39mreason,\n\u001b[1;32m    272\u001b[0m         headers\u001b[38;5;241m=\u001b[39mresponse\u001b[38;5;241m.\u001b[39mheaders,\n\u001b[1;32m    273\u001b[0m     )\n\u001b[1;32m    274\u001b[0m \u001b[38;5;28;01mexcept\u001b[39;00m requests\u001b[38;5;241m.\u001b[39mexceptions\u001b[38;5;241m.\u001b[39mRetryError \u001b[38;5;28;01mas\u001b[39;00m retry_error:\n\u001b[1;32m    275\u001b[0m     request \u001b[38;5;241m=\u001b[39m retry_error\u001b[38;5;241m.\u001b[39mrequest\n",
      "\u001b[0;31mSpotifyException\u001b[0m: http status: 401, code:-1 - https://api.spotify.com/v1/playlists/37i9dQZF1DX4f5T2OF14nZ/tracks?limit=100&offset=0&additional_types=track%2Cepisode:\n The access token expired, reason: None"
     ]
    }
   ],
   "source": [
    "p2000 = spoti_links(play_2000)"
   ]
  },
  {
   "cell_type": "code",
   "execution_count": null,
   "id": "4ede9c4d",
   "metadata": {},
   "outputs": [],
   "source": []
  }
 ],
 "metadata": {
  "kernelspec": {
   "display_name": "Python 3 (ipykernel)",
   "language": "python",
   "name": "python3"
  },
  "language_info": {
   "codemirror_mode": {
    "name": "ipython",
    "version": 3
   },
   "file_extension": ".py",
   "mimetype": "text/x-python",
   "name": "python",
   "nbconvert_exporter": "python",
   "pygments_lexer": "ipython3",
   "version": "3.9.12"
  }
 },
 "nbformat": 4,
 "nbformat_minor": 5
}
