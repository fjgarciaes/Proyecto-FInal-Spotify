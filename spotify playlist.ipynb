{
 "cells": [
  {
   "cell_type": "code",
   "execution_count": 2,
   "id": "9b35edab",
   "metadata": {},
   "outputs": [],
   "source": [
    "import spotipy\n",
    "\n",
    "from spotipy.oauth2 import SpotifyOAuth\n",
    "from spotipy.oauth2 import SpotifyClientCredentials\n",
    "import spotipy.util as util"
   ]
  },
  {
   "cell_type": "code",
   "execution_count": 8,
   "id": "c4d62c81",
   "metadata": {},
   "outputs": [
    {
     "name": "stdout",
     "output_type": "stream",
     "text": [
      "Help on class SpotifyOAuth in module spotipy.oauth2:\n",
      "\n",
      "class SpotifyOAuth(SpotifyAuthBase)\n",
      " |  SpotifyOAuth(client_id=None, client_secret=None, redirect_uri=None, state=None, scope=None, cache_path=None, username=None, proxies=None, show_dialog=False, requests_session=True, requests_timeout=None, open_browser=True, cache_handler=None)\n",
      " |  \n",
      " |  Implements Authorization Code Flow for Spotify's OAuth implementation.\n",
      " |  \n",
      " |  Method resolution order:\n",
      " |      SpotifyOAuth\n",
      " |      SpotifyAuthBase\n",
      " |      builtins.object\n",
      " |  \n",
      " |  Methods defined here:\n",
      " |  \n",
      " |  __init__(self, client_id=None, client_secret=None, redirect_uri=None, state=None, scope=None, cache_path=None, username=None, proxies=None, show_dialog=False, requests_session=True, requests_timeout=None, open_browser=True, cache_handler=None)\n",
      " |      Creates a SpotifyOAuth object\n",
      " |      \n",
      " |      Parameters:\n",
      " |           * client_id: Must be supplied or set as environment variable\n",
      " |           * client_secret: Must be supplied or set as environment variable\n",
      " |           * redirect_uri: Must be supplied or set as environment variable\n",
      " |           * state: Optional, no verification is performed\n",
      " |           * scope: Optional, either a list of scopes or comma separated string of scopes.\n",
      " |                    e.g, \"playlist-read-private,playlist-read-collaborative\"\n",
      " |           * cache_path: (deprecated) Optional, will otherwise be generated\n",
      " |                         (takes precedence over `username`)\n",
      " |           * username: (deprecated) Optional or set as environment variable\n",
      " |                       (will set `cache_path` to `.cache-{username}`)\n",
      " |           * proxies: Optional, proxy for the requests library to route through\n",
      " |           * show_dialog: Optional, interpreted as boolean\n",
      " |           * requests_session: A Requests session\n",
      " |           * requests_timeout: Optional, tell Requests to stop waiting for a response after\n",
      " |                               a given number of seconds\n",
      " |           * open_browser: Optional, whether or not the web browser should be opened to\n",
      " |                           authorize a user\n",
      " |           * cache_handler: An instance of the `CacheHandler` class to handle\n",
      " |                            getting and saving cached authorization tokens.\n",
      " |                            Optional, will otherwise use `CacheFileHandler`.\n",
      " |                            (takes precedence over `cache_path` and `username`)\n",
      " |  \n",
      " |  get_access_token(self, code=None, as_dict=True, check_cache=True)\n",
      " |      Gets the access token for the app given the code\n",
      " |      \n",
      " |      Parameters:\n",
      " |          - code - the response code\n",
      " |          - as_dict - a boolean indicating if returning the access token\n",
      " |                      as a token_info dictionary, otherwise it will be returned\n",
      " |                      as a string.\n",
      " |  \n",
      " |  get_auth_response(self, open_browser=None)\n",
      " |  \n",
      " |  get_authorization_code(self, response=None)\n",
      " |  \n",
      " |  get_authorize_url(self, state=None)\n",
      " |      Gets the URL to use to authorize this app\n",
      " |  \n",
      " |  get_cached_token(self)\n",
      " |  \n",
      " |  parse_response_code(self, url)\n",
      " |      Parse the response code in the given response url\n",
      " |      \n",
      " |      Parameters:\n",
      " |          - url - the response url\n",
      " |  \n",
      " |  refresh_access_token(self, refresh_token)\n",
      " |  \n",
      " |  validate_token(self, token_info)\n",
      " |  \n",
      " |  ----------------------------------------------------------------------\n",
      " |  Static methods defined here:\n",
      " |  \n",
      " |  parse_auth_response_url(url)\n",
      " |  \n",
      " |  ----------------------------------------------------------------------\n",
      " |  Data and other attributes defined here:\n",
      " |  \n",
      " |  OAUTH_AUTHORIZE_URL = 'https://accounts.spotify.com/authorize'\n",
      " |  \n",
      " |  OAUTH_TOKEN_URL = 'https://accounts.spotify.com/api/token'\n",
      " |  \n",
      " |  ----------------------------------------------------------------------\n",
      " |  Methods inherited from SpotifyAuthBase:\n",
      " |  \n",
      " |  __del__(self)\n",
      " |      Make sure the connection (pool) gets closed\n",
      " |  \n",
      " |  ----------------------------------------------------------------------\n",
      " |  Static methods inherited from SpotifyAuthBase:\n",
      " |  \n",
      " |  is_token_expired(token_info)\n",
      " |  \n",
      " |  ----------------------------------------------------------------------\n",
      " |  Data descriptors inherited from SpotifyAuthBase:\n",
      " |  \n",
      " |  __dict__\n",
      " |      dictionary for instance variables (if defined)\n",
      " |  \n",
      " |  __weakref__\n",
      " |      list of weak references to the object (if defined)\n",
      " |  \n",
      " |  client_id\n",
      " |  \n",
      " |  client_secret\n",
      " |  \n",
      " |  redirect_uri\n",
      "\n"
     ]
    }
   ],
   "source": [
    "help(SpotifyOAuth)"
   ]
  },
  {
   "cell_type": "code",
   "execution_count": null,
   "id": "426f79ce",
   "metadata": {},
   "outputs": [],
   "source": [
    "auth_manager = SpotifyOAuth('74c040f7ab8049648ec083fdadfc1ddb',\n",
    "                            'a9fa947f1cde460bb37b94060380a6cb',\n",
    "                            'http://127.0.0.1:8080/')\n"
   ]
  },
  {
   "cell_type": "code",
   "execution_count": 5,
   "id": "9b364f8c",
   "metadata": {},
   "outputs": [],
   "source": [
    "scope = 'playlist-modify-public'\n",
    "username = 'javi1025'"
   ]
  },
  {
   "cell_type": "code",
   "execution_count": 17,
   "id": "9094e3c1",
   "metadata": {},
   "outputs": [],
   "source": [
    "token = SpotifyOAuth(client_id='74c040f7ab8049648ec083fdadfc1ddb',\n",
    "                     client_secret='a9fa947f1cde460bb37b94060380a6cb',\n",
    "                     redirect_uri='http://127.0.0.1:8080/',\n",
    "                     scope=scope,\n",
    "                     username=username)"
   ]
  },
  {
   "cell_type": "code",
   "execution_count": 31,
   "id": "81bc8d85",
   "metadata": {},
   "outputs": [
    {
     "data": {
      "text/plain": [
       "<spotipy.oauth2.SpotifyOAuth at 0x7fea37bcbee0>"
      ]
     },
     "execution_count": 31,
     "metadata": {},
     "output_type": "execute_result"
    }
   ],
   "source": [
    "token"
   ]
  },
  {
   "cell_type": "code",
   "execution_count": 18,
   "id": "8bfee9bf",
   "metadata": {},
   "outputs": [
    {
     "data": {
      "text/plain": [
       "<spotipy.oauth2.SpotifyOAuth at 0x7fea3796ed90>"
      ]
     },
     "execution_count": 18,
     "metadata": {},
     "output_type": "execute_result"
    }
   ],
   "source": [
    "SpotifyOAuth(client_id='74c040f7ab8049648ec083fdadfc1ddb',\n",
    "                            client_secret='a9fa947f1cde460bb37b94060380a6cb',\n",
    "                            redirect_uri='http://127.0.0.1:8080/')"
   ]
  },
  {
   "cell_type": "code",
   "execution_count": 32,
   "id": "e83ff97b",
   "metadata": {},
   "outputs": [],
   "source": [
    "spotifyObject=spotipy.Spotify(auth_manager=token)"
   ]
  },
  {
   "cell_type": "code",
   "execution_count": null,
   "id": "4ba4a056",
   "metadata": {},
   "outputs": [],
   "source": [
    "#auth_manager = SpotifyClientCredentials('74c040f7ab8049648ec083fdadfc1ddb','a9fa947f1cde460bb37b94060380a6cb')\n",
    "#sp = spotipy.Spotify(auth_manager=auth_manager)"
   ]
  },
  {
   "cell_type": "code",
   "execution_count": null,
   "id": "9aacb24e",
   "metadata": {},
   "outputs": [],
   "source": [
    "#token=SpotifyOAuth(scope=scope,username=username)"
   ]
  },
  {
   "cell_type": "code",
   "execution_count": 23,
   "id": "f3153848",
   "metadata": {},
   "outputs": [
    {
     "data": {
      "text/plain": [
       "'BQCOEEgxR1i1yYtabKCwsUvgowP3UpMmq1bv8nlG5S5WjIKo5usiHR6UAJIGOXaiD0BFPIB5ET-XRDlar_XpKitd5L6g9hPSSRJ0nAJJQ6EhxqupPGgAZbqFLldX7OEqdVdfGRg8KXqUskR6FVoiqeSZhS3AZ8MHgz5LKdyJ-go6cm5QZASid63YkkEwCnGhL79Qw98nMwJEIRs'"
      ]
     },
     "execution_count": 23,
     "metadata": {},
     "output_type": "execute_result"
    }
   ],
   "source": [
    "util.prompt_for_user_token(username=username,\n",
    "                           scope=scope,\n",
    "                           client_id='74c040f7ab8049648ec083fdadfc1ddb',\n",
    "                           client_secret='a9fa947f1cde460bb37b94060380a6cb',\n",
    "                           redirect_uri='http://127.0.0.1:8080')"
   ]
  },
  {
   "cell_type": "code",
   "execution_count": 21,
   "id": "49669be6",
   "metadata": {},
   "outputs": [
    {
     "name": "stdout",
     "output_type": "stream",
     "text": [
      "Help on module spotipy.util in spotipy:\n",
      "\n",
      "NAME\n",
      "    spotipy.util - Shows a user's playlists (need to be authenticated via oauth)\n",
      "\n",
      "FUNCTIONS\n",
      "    prompt_for_user_token(username=None, scope=None, client_id=None, client_secret=None, redirect_uri=None, cache_path=None, oauth_manager=None, show_dialog=False)\n",
      "\n",
      "DATA\n",
      "    CLIENT_CREDS_ENV_VARS = {'client_id': 'SPOTIPY_CLIENT_ID', 'client_sec...\n",
      "    __all__ = ['CLIENT_CREDS_ENV_VARS', 'prompt_for_user_token']\n",
      "    __warningregistry__ = {'version': 27}\n",
      "\n",
      "FILE\n",
      "    /Users/javi/opt/anaconda3/lib/python3.9/site-packages/spotipy/util.py\n",
      "\n",
      "\n"
     ]
    }
   ],
   "source": [
    "help(util)"
   ]
  },
  {
   "cell_type": "markdown",
   "id": "39bb83d2",
   "metadata": {},
   "source": [
    "## Create the playlist"
   ]
  },
  {
   "cell_type": "code",
   "execution_count": null,
   "id": "641695f3",
   "metadata": {},
   "outputs": [],
   "source": [
    "playlist_name =input('Enter a playlist name:')"
   ]
  },
  {
   "cell_type": "code",
   "execution_count": null,
   "id": "ddc69fa2",
   "metadata": {},
   "outputs": [],
   "source": [
    "playlist_description = input ('Enter a playlist description:')"
   ]
  },
  {
   "cell_type": "code",
   "execution_count": 33,
   "id": "5ab2190c",
   "metadata": {},
   "outputs": [
    {
     "name": "stderr",
     "output_type": "stream",
     "text": [
      "2022-12-14 18:49:52,499 [877] ERROR    spotipy.client:262: [JupyterRequire] HTTP Error for POST to https://api.spotify.com/v1/users/username/playlists with Params: {} returned 403 due to You cannot create a playlist for another user.\n"
     ]
    },
    {
     "ename": "SpotifyException",
     "evalue": "http status: 403, code:-1 - https://api.spotify.com/v1/users/username/playlists:\n You cannot create a playlist for another user., reason: None",
     "output_type": "error",
     "traceback": [
      "\u001b[0;31m---------------------------------------------------------------------------\u001b[0m",
      "\u001b[0;31mHTTPError\u001b[0m                                 Traceback (most recent call last)",
      "File \u001b[0;32m~/opt/anaconda3/lib/python3.9/site-packages/spotipy/client.py:245\u001b[0m, in \u001b[0;36mSpotify._internal_call\u001b[0;34m(self, method, url, payload, params)\u001b[0m\n\u001b[1;32m    240\u001b[0m response \u001b[38;5;241m=\u001b[39m \u001b[38;5;28mself\u001b[39m\u001b[38;5;241m.\u001b[39m_session\u001b[38;5;241m.\u001b[39mrequest(\n\u001b[1;32m    241\u001b[0m     method, url, headers\u001b[38;5;241m=\u001b[39mheaders, proxies\u001b[38;5;241m=\u001b[39m\u001b[38;5;28mself\u001b[39m\u001b[38;5;241m.\u001b[39mproxies,\n\u001b[1;32m    242\u001b[0m     timeout\u001b[38;5;241m=\u001b[39m\u001b[38;5;28mself\u001b[39m\u001b[38;5;241m.\u001b[39mrequests_timeout, \u001b[38;5;241m*\u001b[39m\u001b[38;5;241m*\u001b[39margs\n\u001b[1;32m    243\u001b[0m )\n\u001b[0;32m--> 245\u001b[0m \u001b[43mresponse\u001b[49m\u001b[38;5;241;43m.\u001b[39;49m\u001b[43mraise_for_status\u001b[49m\u001b[43m(\u001b[49m\u001b[43m)\u001b[49m\n\u001b[1;32m    246\u001b[0m results \u001b[38;5;241m=\u001b[39m response\u001b[38;5;241m.\u001b[39mjson()\n",
      "File \u001b[0;32m~/opt/anaconda3/lib/python3.9/site-packages/requests/models.py:960\u001b[0m, in \u001b[0;36mResponse.raise_for_status\u001b[0;34m(self)\u001b[0m\n\u001b[1;32m    959\u001b[0m \u001b[38;5;28;01mif\u001b[39;00m http_error_msg:\n\u001b[0;32m--> 960\u001b[0m     \u001b[38;5;28;01mraise\u001b[39;00m HTTPError(http_error_msg, response\u001b[38;5;241m=\u001b[39m\u001b[38;5;28mself\u001b[39m)\n",
      "\u001b[0;31mHTTPError\u001b[0m: 403 Client Error: Forbidden for url: https://api.spotify.com/v1/users/username/playlists",
      "\nDuring handling of the above exception, another exception occurred:\n",
      "\u001b[0;31mSpotifyException\u001b[0m                          Traceback (most recent call last)",
      "Input \u001b[0;32mIn [33]\u001b[0m, in \u001b[0;36m<cell line: 1>\u001b[0;34m()\u001b[0m\n\u001b[0;32m----> 1\u001b[0m \u001b[43mspotifyObject\u001b[49m\u001b[38;5;241;43m.\u001b[39;49m\u001b[43muser_playlist_create\u001b[49m\u001b[43m(\u001b[49m\u001b[43muser\u001b[49m\u001b[38;5;241;43m=\u001b[39;49m\u001b[38;5;124;43m'\u001b[39;49m\u001b[38;5;124;43musername\u001b[39;49m\u001b[38;5;124;43m'\u001b[39;49m\u001b[43m,\u001b[49m\u001b[43mname\u001b[49m\u001b[38;5;241;43m=\u001b[39;49m\u001b[38;5;124;43m'\u001b[39;49m\u001b[38;5;124;43mplaylist_name\u001b[39;49m\u001b[38;5;124;43m'\u001b[39;49m\u001b[43m,\u001b[49m\u001b[43mpublic\u001b[49m\u001b[38;5;241;43m=\u001b[39;49m\u001b[38;5;28;43;01mTrue\u001b[39;49;00m\u001b[43m,\u001b[49m\u001b[43mdescription\u001b[49m\u001b[38;5;241;43m=\u001b[39;49m\u001b[38;5;124;43m'\u001b[39;49m\u001b[38;5;124;43mplaylist_description\u001b[39;49m\u001b[38;5;124;43m'\u001b[39;49m\u001b[43m)\u001b[49m\n",
      "File \u001b[0;32m~/opt/anaconda3/lib/python3.9/site-packages/spotipy/client.py:792\u001b[0m, in \u001b[0;36mSpotify.user_playlist_create\u001b[0;34m(self, user, name, public, collaborative, description)\u001b[0m\n\u001b[1;32m    776\u001b[0m \u001b[38;5;124;03m\"\"\" Creates a playlist for a user\u001b[39;00m\n\u001b[1;32m    777\u001b[0m \n\u001b[1;32m    778\u001b[0m \u001b[38;5;124;03m    Parameters:\u001b[39;00m\n\u001b[0;32m   (...)\u001b[0m\n\u001b[1;32m    783\u001b[0m \u001b[38;5;124;03m        - description - the description of the playlist\u001b[39;00m\n\u001b[1;32m    784\u001b[0m \u001b[38;5;124;03m\"\"\"\u001b[39;00m\n\u001b[1;32m    785\u001b[0m data \u001b[38;5;241m=\u001b[39m {\n\u001b[1;32m    786\u001b[0m     \u001b[38;5;124m\"\u001b[39m\u001b[38;5;124mname\u001b[39m\u001b[38;5;124m\"\u001b[39m: name,\n\u001b[1;32m    787\u001b[0m     \u001b[38;5;124m\"\u001b[39m\u001b[38;5;124mpublic\u001b[39m\u001b[38;5;124m\"\u001b[39m: public,\n\u001b[1;32m    788\u001b[0m     \u001b[38;5;124m\"\u001b[39m\u001b[38;5;124mcollaborative\u001b[39m\u001b[38;5;124m\"\u001b[39m: collaborative,\n\u001b[1;32m    789\u001b[0m     \u001b[38;5;124m\"\u001b[39m\u001b[38;5;124mdescription\u001b[39m\u001b[38;5;124m\"\u001b[39m: description\n\u001b[1;32m    790\u001b[0m }\n\u001b[0;32m--> 792\u001b[0m \u001b[38;5;28;01mreturn\u001b[39;00m \u001b[38;5;28;43mself\u001b[39;49m\u001b[38;5;241;43m.\u001b[39;49m\u001b[43m_post\u001b[49m\u001b[43m(\u001b[49m\u001b[38;5;124;43m\"\u001b[39;49m\u001b[38;5;124;43musers/\u001b[39;49m\u001b[38;5;132;43;01m%s\u001b[39;49;00m\u001b[38;5;124;43m/playlists\u001b[39;49m\u001b[38;5;124;43m\"\u001b[39;49m\u001b[43m \u001b[49m\u001b[38;5;241;43m%\u001b[39;49m\u001b[43m \u001b[49m\u001b[43m(\u001b[49m\u001b[43muser\u001b[49m\u001b[43m,\u001b[49m\u001b[43m)\u001b[49m\u001b[43m,\u001b[49m\u001b[43m \u001b[49m\u001b[43mpayload\u001b[49m\u001b[38;5;241;43m=\u001b[39;49m\u001b[43mdata\u001b[49m\u001b[43m)\u001b[49m\n",
      "File \u001b[0;32m~/opt/anaconda3/lib/python3.9/site-packages/spotipy/client.py:302\u001b[0m, in \u001b[0;36mSpotify._post\u001b[0;34m(self, url, args, payload, **kwargs)\u001b[0m\n\u001b[1;32m    300\u001b[0m \u001b[38;5;28;01mif\u001b[39;00m args:\n\u001b[1;32m    301\u001b[0m     kwargs\u001b[38;5;241m.\u001b[39mupdate(args)\n\u001b[0;32m--> 302\u001b[0m \u001b[38;5;28;01mreturn\u001b[39;00m \u001b[38;5;28;43mself\u001b[39;49m\u001b[38;5;241;43m.\u001b[39;49m\u001b[43m_internal_call\u001b[49m\u001b[43m(\u001b[49m\u001b[38;5;124;43m\"\u001b[39;49m\u001b[38;5;124;43mPOST\u001b[39;49m\u001b[38;5;124;43m\"\u001b[39;49m\u001b[43m,\u001b[49m\u001b[43m \u001b[49m\u001b[43murl\u001b[49m\u001b[43m,\u001b[49m\u001b[43m \u001b[49m\u001b[43mpayload\u001b[49m\u001b[43m,\u001b[49m\u001b[43m \u001b[49m\u001b[43mkwargs\u001b[49m\u001b[43m)\u001b[49m\n",
      "File \u001b[0;32m~/opt/anaconda3/lib/python3.9/site-packages/spotipy/client.py:267\u001b[0m, in \u001b[0;36mSpotify._internal_call\u001b[0;34m(self, method, url, payload, params)\u001b[0m\n\u001b[1;32m    260\u001b[0m         reason \u001b[38;5;241m=\u001b[39m \u001b[38;5;28;01mNone\u001b[39;00m\n\u001b[1;32m    262\u001b[0m     logger\u001b[38;5;241m.\u001b[39merror(\n\u001b[1;32m    263\u001b[0m         \u001b[38;5;124m'\u001b[39m\u001b[38;5;124mHTTP Error for \u001b[39m\u001b[38;5;132;01m%s\u001b[39;00m\u001b[38;5;124m to \u001b[39m\u001b[38;5;132;01m%s\u001b[39;00m\u001b[38;5;124m with Params: \u001b[39m\u001b[38;5;132;01m%s\u001b[39;00m\u001b[38;5;124m returned \u001b[39m\u001b[38;5;132;01m%s\u001b[39;00m\u001b[38;5;124m due to \u001b[39m\u001b[38;5;132;01m%s\u001b[39;00m\u001b[38;5;124m'\u001b[39m,\n\u001b[1;32m    264\u001b[0m         method, url, args\u001b[38;5;241m.\u001b[39mget(\u001b[38;5;124m\"\u001b[39m\u001b[38;5;124mparams\u001b[39m\u001b[38;5;124m\"\u001b[39m), response\u001b[38;5;241m.\u001b[39mstatus_code, msg\n\u001b[1;32m    265\u001b[0m     )\n\u001b[0;32m--> 267\u001b[0m     \u001b[38;5;28;01mraise\u001b[39;00m SpotifyException(\n\u001b[1;32m    268\u001b[0m         response\u001b[38;5;241m.\u001b[39mstatus_code,\n\u001b[1;32m    269\u001b[0m         \u001b[38;5;241m-\u001b[39m\u001b[38;5;241m1\u001b[39m,\n\u001b[1;32m    270\u001b[0m         \u001b[38;5;124m\"\u001b[39m\u001b[38;5;132;01m%s\u001b[39;00m\u001b[38;5;124m:\u001b[39m\u001b[38;5;130;01m\\n\u001b[39;00m\u001b[38;5;124m \u001b[39m\u001b[38;5;132;01m%s\u001b[39;00m\u001b[38;5;124m\"\u001b[39m \u001b[38;5;241m%\u001b[39m (response\u001b[38;5;241m.\u001b[39murl, msg),\n\u001b[1;32m    271\u001b[0m         reason\u001b[38;5;241m=\u001b[39mreason,\n\u001b[1;32m    272\u001b[0m         headers\u001b[38;5;241m=\u001b[39mresponse\u001b[38;5;241m.\u001b[39mheaders,\n\u001b[1;32m    273\u001b[0m     )\n\u001b[1;32m    274\u001b[0m \u001b[38;5;28;01mexcept\u001b[39;00m requests\u001b[38;5;241m.\u001b[39mexceptions\u001b[38;5;241m.\u001b[39mRetryError \u001b[38;5;28;01mas\u001b[39;00m retry_error:\n\u001b[1;32m    275\u001b[0m     request \u001b[38;5;241m=\u001b[39m retry_error\u001b[38;5;241m.\u001b[39mrequest\n",
      "\u001b[0;31mSpotifyException\u001b[0m: http status: 403, code:-1 - https://api.spotify.com/v1/users/username/playlists:\n You cannot create a playlist for another user., reason: None"
     ]
    }
   ],
   "source": [
    "spotifyObject.user_playlist_create(user='username',name='playlist_name',public=True,description='playlist_description')"
   ]
  },
  {
   "cell_type": "code",
   "execution_count": null,
   "id": "5e2f0b68",
   "metadata": {},
   "outputs": [],
   "source": []
  }
 ],
 "metadata": {
  "kernelspec": {
   "display_name": "Python 3 (ipykernel)",
   "language": "python",
   "name": "python3"
  },
  "language_info": {
   "codemirror_mode": {
    "name": "ipython",
    "version": 3
   },
   "file_extension": ".py",
   "mimetype": "text/x-python",
   "name": "python",
   "nbconvert_exporter": "python",
   "pygments_lexer": "ipython3",
   "version": "3.9.12"
  }
 },
 "nbformat": 4,
 "nbformat_minor": 5
}
