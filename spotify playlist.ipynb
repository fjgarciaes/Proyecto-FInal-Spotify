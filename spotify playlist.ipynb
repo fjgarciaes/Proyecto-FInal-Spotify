{
 "cells": [
  {
   "cell_type": "code",
   "execution_count": 2,
   "id": "9b35edab",
   "metadata": {},
   "outputs": [],
   "source": [
    "import spotipy\n",
    "\n",
    "from spotipy.oauth2 import SpotifyOAuth\n",
    "from spotipy.oauth2 import SpotifyClientCredentials\n",
    "import spotipy.util as util"
   ]
  },
  {
   "cell_type": "code",
   "execution_count": 3,
   "id": "c4d62c81",
   "metadata": {},
   "outputs": [
    {
     "name": "stdout",
     "output_type": "stream",
     "text": [
      "Help on class SpotifyClientCredentials in module spotipy.oauth2:\n",
      "\n",
      "class SpotifyClientCredentials(SpotifyAuthBase)\n",
      " |  SpotifyClientCredentials(client_id=None, client_secret=None, proxies=None, requests_session=True, requests_timeout=None, cache_handler=None)\n",
      " |  \n",
      " |  Method resolution order:\n",
      " |      SpotifyClientCredentials\n",
      " |      SpotifyAuthBase\n",
      " |      builtins.object\n",
      " |  \n",
      " |  Methods defined here:\n",
      " |  \n",
      " |  __init__(self, client_id=None, client_secret=None, proxies=None, requests_session=True, requests_timeout=None, cache_handler=None)\n",
      " |      Creates a Client Credentials Flow Manager.\n",
      " |      \n",
      " |      The Client Credentials flow is used in server-to-server authentication.\n",
      " |      Only endpoints that do not access user information can be accessed.\n",
      " |      This means that endpoints that require authorization scopes cannot be accessed.\n",
      " |      The advantage, however, of this authorization flow is that it does not require any\n",
      " |      user interaction\n",
      " |      \n",
      " |      You can either provide a client_id and client_secret to the\n",
      " |      constructor or set SPOTIPY_CLIENT_ID and SPOTIPY_CLIENT_SECRET\n",
      " |      environment variables\n",
      " |      \n",
      " |      Parameters:\n",
      " |           * client_id: Must be supplied or set as environment variable\n",
      " |           * client_secret: Must be supplied or set as environment variable\n",
      " |           * proxies: Optional, proxy for the requests library to route through\n",
      " |           * requests_session: A Requests session\n",
      " |           * requests_timeout: Optional, tell Requests to stop waiting for a response after\n",
      " |                               a given number of seconds\n",
      " |           * cache_handler: An instance of the `CacheHandler` class to handle\n",
      " |                            getting and saving cached authorization tokens.\n",
      " |                            Optional, will otherwise use `CacheFileHandler`.\n",
      " |                            (takes precedence over `cache_path` and `username`)\n",
      " |  \n",
      " |  get_access_token(self, as_dict=True, check_cache=True)\n",
      " |      If a valid access token is in memory, returns it\n",
      " |      Else feches a new token and returns it\n",
      " |      \n",
      " |          Parameters:\n",
      " |          - as_dict - a boolean indicating if returning the access token\n",
      " |              as a token_info dictionary, otherwise it will be returned\n",
      " |              as a string.\n",
      " |  \n",
      " |  ----------------------------------------------------------------------\n",
      " |  Data and other attributes defined here:\n",
      " |  \n",
      " |  OAUTH_TOKEN_URL = 'https://accounts.spotify.com/api/token'\n",
      " |  \n",
      " |  ----------------------------------------------------------------------\n",
      " |  Methods inherited from SpotifyAuthBase:\n",
      " |  \n",
      " |  __del__(self)\n",
      " |      Make sure the connection (pool) gets closed\n",
      " |  \n",
      " |  ----------------------------------------------------------------------\n",
      " |  Static methods inherited from SpotifyAuthBase:\n",
      " |  \n",
      " |  is_token_expired(token_info)\n",
      " |  \n",
      " |  ----------------------------------------------------------------------\n",
      " |  Data descriptors inherited from SpotifyAuthBase:\n",
      " |  \n",
      " |  __dict__\n",
      " |      dictionary for instance variables (if defined)\n",
      " |  \n",
      " |  __weakref__\n",
      " |      list of weak references to the object (if defined)\n",
      " |  \n",
      " |  client_id\n",
      " |  \n",
      " |  client_secret\n",
      " |  \n",
      " |  redirect_uri\n",
      "\n"
     ]
    }
   ],
   "source": [
    "help(SpotifyClientCredentials)"
   ]
  },
  {
   "cell_type": "code",
   "execution_count": null,
   "id": "426f79ce",
   "metadata": {},
   "outputs": [],
   "source": [
    "auth_manager = SpotifyOAuth('74c040f7ab8049648ec083fdadfc1ddb',\n",
    "                            'a9fa947f1cde460bb37b94060380a6cb',\n",
    "                            'http://127.0.0.1:8080/')\n"
   ]
  },
  {
   "cell_type": "code",
   "execution_count": 5,
   "id": "9b364f8c",
   "metadata": {},
   "outputs": [],
   "source": [
    "scope = 'playlist-modify-public'\n",
    "username = 'javi1025'"
   ]
  },
  {
   "cell_type": "code",
   "execution_count": 3,
   "id": "9094e3c1",
   "metadata": {},
   "outputs": [
    {
     "ename": "SpotifyOauthError",
     "evalue": "No client_id. Pass it or set a SPOTIPY_CLIENT_ID environment variable.",
     "output_type": "error",
     "traceback": [
      "\u001b[0;31m---------------------------------------------------------------------------\u001b[0m",
      "\u001b[0;31mSpotifyOauthError\u001b[0m                         Traceback (most recent call last)",
      "Input \u001b[0;32mIn [3]\u001b[0m, in \u001b[0;36m<cell line: 1>\u001b[0;34m()\u001b[0m\n\u001b[0;32m----> 1\u001b[0m token \u001b[38;5;241m=\u001b[39m \u001b[43mSpotifyOAuth\u001b[49m\u001b[43m(\u001b[49m\u001b[43mscope\u001b[49m\u001b[38;5;241;43m=\u001b[39;49m\u001b[43mscope\u001b[49m\u001b[43m,\u001b[49m\u001b[43musername\u001b[49m\u001b[38;5;241;43m=\u001b[39;49m\u001b[43musername\u001b[49m\u001b[43m)\u001b[49m\n",
      "File \u001b[0;32m~/opt/anaconda3/lib/python3.9/site-packages/spotipy/oauth2.py:332\u001b[0m, in \u001b[0;36mSpotifyOAuth.__init__\u001b[0;34m(self, client_id, client_secret, redirect_uri, state, scope, cache_path, username, proxies, show_dialog, requests_session, requests_timeout, open_browser, cache_handler)\u001b[0m\n\u001b[1;32m    303\u001b[0m \u001b[38;5;124;03m\"\"\"\u001b[39;00m\n\u001b[1;32m    304\u001b[0m \u001b[38;5;124;03mCreates a SpotifyOAuth object\u001b[39;00m\n\u001b[1;32m    305\u001b[0m \n\u001b[0;32m   (...)\u001b[0m\n\u001b[1;32m    327\u001b[0m \u001b[38;5;124;03m                      (takes precedence over `cache_path` and `username`)\u001b[39;00m\n\u001b[1;32m    328\u001b[0m \u001b[38;5;124;03m\"\"\"\u001b[39;00m\n\u001b[1;32m    330\u001b[0m \u001b[38;5;28msuper\u001b[39m(SpotifyOAuth, \u001b[38;5;28mself\u001b[39m)\u001b[38;5;241m.\u001b[39m\u001b[38;5;21m__init__\u001b[39m(requests_session)\n\u001b[0;32m--> 332\u001b[0m \u001b[38;5;28mself\u001b[39m\u001b[38;5;241m.\u001b[39mclient_id \u001b[38;5;241m=\u001b[39m client_id\n\u001b[1;32m    333\u001b[0m \u001b[38;5;28mself\u001b[39m\u001b[38;5;241m.\u001b[39mclient_secret \u001b[38;5;241m=\u001b[39m client_secret\n\u001b[1;32m    334\u001b[0m \u001b[38;5;28mself\u001b[39m\u001b[38;5;241m.\u001b[39mredirect_uri \u001b[38;5;241m=\u001b[39m redirect_uri\n",
      "File \u001b[0;32m~/opt/anaconda3/lib/python3.9/site-packages/spotipy/oauth2.py:94\u001b[0m, in \u001b[0;36mSpotifyAuthBase.client_id\u001b[0;34m(self, val)\u001b[0m\n\u001b[1;32m     92\u001b[0m \u001b[38;5;129m@client_id\u001b[39m\u001b[38;5;241m.\u001b[39msetter\n\u001b[1;32m     93\u001b[0m \u001b[38;5;28;01mdef\u001b[39;00m \u001b[38;5;21mclient_id\u001b[39m(\u001b[38;5;28mself\u001b[39m, val):\n\u001b[0;32m---> 94\u001b[0m     \u001b[38;5;28mself\u001b[39m\u001b[38;5;241m.\u001b[39m_client_id \u001b[38;5;241m=\u001b[39m \u001b[43m_ensure_value\u001b[49m\u001b[43m(\u001b[49m\u001b[43mval\u001b[49m\u001b[43m,\u001b[49m\u001b[43m \u001b[49m\u001b[38;5;124;43m\"\u001b[39;49m\u001b[38;5;124;43mclient_id\u001b[39;49m\u001b[38;5;124;43m\"\u001b[39;49m\u001b[43m)\u001b[49m\n",
      "File \u001b[0;32m~/opt/anaconda3/lib/python3.9/site-packages/spotipy/oauth2.py:70\u001b[0m, in \u001b[0;36m_ensure_value\u001b[0;34m(value, env_key)\u001b[0m\n\u001b[1;32m     65\u001b[0m \u001b[38;5;28;01mif\u001b[39;00m _val \u001b[38;5;129;01mis\u001b[39;00m \u001b[38;5;28;01mNone\u001b[39;00m:\n\u001b[1;32m     66\u001b[0m     msg \u001b[38;5;241m=\u001b[39m \u001b[38;5;124m\"\u001b[39m\u001b[38;5;124mNo \u001b[39m\u001b[38;5;132;01m%s\u001b[39;00m\u001b[38;5;124m. Pass it or set a \u001b[39m\u001b[38;5;132;01m%s\u001b[39;00m\u001b[38;5;124m environment variable.\u001b[39m\u001b[38;5;124m\"\u001b[39m \u001b[38;5;241m%\u001b[39m (\n\u001b[1;32m     67\u001b[0m         env_key,\n\u001b[1;32m     68\u001b[0m         env_val,\n\u001b[1;32m     69\u001b[0m     )\n\u001b[0;32m---> 70\u001b[0m     \u001b[38;5;28;01mraise\u001b[39;00m SpotifyOauthError(msg)\n\u001b[1;32m     71\u001b[0m \u001b[38;5;28;01mreturn\u001b[39;00m _val\n",
      "\u001b[0;31mSpotifyOauthError\u001b[0m: No client_id. Pass it or set a SPOTIPY_CLIENT_ID environment variable."
     ]
    }
   ],
   "source": [
    "token = SpotifyOAuth(scope=scope,username=username)"
   ]
  },
  {
   "cell_type": "code",
   "execution_count": null,
   "id": "8bfee9bf",
   "metadata": {},
   "outputs": [],
   "source": [
    "SpotifyOAuth(client_id='74c040f7ab8049648ec083fdadfc1ddb',\n",
    "                            client_secret='a9fa947f1cde460bb37b94060380a6cb',\n",
    "                            redirect_uri='http://127.0.0.1:8080/')"
   ]
  },
  {
   "cell_type": "code",
   "execution_count": null,
   "id": "e83ff97b",
   "metadata": {},
   "outputs": [],
   "source": [
    "spotifyObject=spotipy.Spotify(auth_manager=token)"
   ]
  },
  {
   "cell_type": "code",
   "execution_count": null,
   "id": "4ba4a056",
   "metadata": {},
   "outputs": [],
   "source": [
    "#auth_manager = SpotifyClientCredentials('74c040f7ab8049648ec083fdadfc1ddb','a9fa947f1cde460bb37b94060380a6cb')\n",
    "#sp = spotipy.Spotify(auth_manager=auth_manager)"
   ]
  },
  {
   "cell_type": "code",
   "execution_count": null,
   "id": "9aacb24e",
   "metadata": {},
   "outputs": [],
   "source": [
    "#token=SpotifyOAuth(scope=scope,username=username)"
   ]
  },
  {
   "cell_type": "code",
   "execution_count": 6,
   "id": "f3153848",
   "metadata": {},
   "outputs": [],
   "source": [
    "sp = util.prompt_for_user_token(username=username,\n",
    "                           scope=scope,\n",
    "                           client_id='74c040f7ab8049648ec083fdadfc1ddb',\n",
    "                           client_secret='a9fa947f1cde460bb37b94060380a6cb',\n",
    "                           redirect_uri='http://127.0.0.1:8080')"
   ]
  },
  {
   "cell_type": "code",
   "execution_count": null,
   "id": "49669be6",
   "metadata": {},
   "outputs": [],
   "source": [
    "sp"
   ]
  },
  {
   "cell_type": "markdown",
   "id": "39bb83d2",
   "metadata": {},
   "source": [
    "## Create the playlist"
   ]
  },
  {
   "cell_type": "code",
   "execution_count": null,
   "id": "641695f3",
   "metadata": {},
   "outputs": [],
   "source": [
    "playlist_name =input('Enter a playlist name:')"
   ]
  },
  {
   "cell_type": "code",
   "execution_count": null,
   "id": "ddc69fa2",
   "metadata": {},
   "outputs": [],
   "source": [
    "playlist_description = input ('Enter a playlist description:')"
   ]
  },
  {
   "cell_type": "code",
   "execution_count": 7,
   "id": "5ab2190c",
   "metadata": {},
   "outputs": [
    {
     "ename": "AttributeError",
     "evalue": "'str' object has no attribute 'user_playlist_create'",
     "output_type": "error",
     "traceback": [
      "\u001b[0;31m---------------------------------------------------------------------------\u001b[0m",
      "\u001b[0;31mAttributeError\u001b[0m                            Traceback (most recent call last)",
      "Input \u001b[0;32mIn [7]\u001b[0m, in \u001b[0;36m<cell line: 1>\u001b[0;34m()\u001b[0m\n\u001b[0;32m----> 1\u001b[0m \u001b[43msp\u001b[49m\u001b[38;5;241;43m.\u001b[39;49m\u001b[43muser_playlist_create\u001b[49m(user\u001b[38;5;241m=\u001b[39m\u001b[38;5;124m'\u001b[39m\u001b[38;5;124musername\u001b[39m\u001b[38;5;124m'\u001b[39m,name\u001b[38;5;241m=\u001b[39m\u001b[38;5;124m'\u001b[39m\u001b[38;5;124mplaylist_name\u001b[39m\u001b[38;5;124m'\u001b[39m,public\u001b[38;5;241m=\u001b[39m\u001b[38;5;28;01mTrue\u001b[39;00m,description\u001b[38;5;241m=\u001b[39m\u001b[38;5;124m'\u001b[39m\u001b[38;5;124mplaylist_description\u001b[39m\u001b[38;5;124m'\u001b[39m)\n",
      "\u001b[0;31mAttributeError\u001b[0m: 'str' object has no attribute 'user_playlist_create'"
     ]
    }
   ],
   "source": [
    "sp.user_playlist_create(user='username',name='playlist_name',public=True,description='playlist_description')"
   ]
  },
  {
   "cell_type": "code",
   "execution_count": null,
   "id": "5e2f0b68",
   "metadata": {},
   "outputs": [],
   "source": []
  }
 ],
 "metadata": {
  "kernelspec": {
   "display_name": "Python 3 (ipykernel)",
   "language": "python",
   "name": "python3"
  },
  "language_info": {
   "codemirror_mode": {
    "name": "ipython",
    "version": 3
   },
   "file_extension": ".py",
   "mimetype": "text/x-python",
   "name": "python",
   "nbconvert_exporter": "python",
   "pygments_lexer": "ipython3",
   "version": "3.9.12"
  }
 },
 "nbformat": 4,
 "nbformat_minor": 5
}
